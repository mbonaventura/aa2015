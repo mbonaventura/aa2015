{
 "metadata": {
  "name": ""
 },
 "nbformat": 3,
 "nbformat_minor": 0,
 "worksheets": [
  {
   "cells": [
    {
     "cell_type": "markdown",
     "metadata": {},
     "source": [
      "# Informe del Trabajo Pr\u00e1ctico 1\n",
      "# Aprendizaje Autom\u00e1tico \n",
      "<b>Integrantes:</b> Gabriel Tolosa (TODO:mailFormal),\n",
      "                    Matias Bonaventura (mbonaventura@dc.uba.ar) \n",
      "                    "
     ]
    },
    {
     "cell_type": "markdown",
     "metadata": {
      "collapsed": true
     },
     "source": [
      "## Indice \n",
      "TODO: agregar tabla de indice"
     ]
    },
    {
     "cell_type": "markdown",
     "metadata": {},
     "source": [
      "## Introducci\u00f3n\n",
      "TODO: completar intro. \n",
      "objetivo,   resultados   esperados,   metodolog\u00edas  \n",
      "utilizadas,"
     ]
    },
    {
     "cell_type": "markdown",
     "metadata": {},
     "source": [
      "## 1) \u00c1rboles de Decisi\u00f3n. Sobreajuste y ruido\n",
      "Se puede encontrar la secci\u00f3n que corresponde al primer ejercicio en el siguiente notebook:\n",
      "[Ejercicio 1: \u00c1rboles de Decisi\u00f3n. Sobreajuste y ruido](Ej1.ipynb)"
     ]
    },
    {
     "cell_type": "markdown",
     "metadata": {},
     "source": [
      "## 2) Vecinos M\u00e1s Cercanos. Sobreajuste y curse of dimensionality \n",
      "Se puede encontrar la secci\u00f3n que corresponde al segundo ejercicio en el siguiente notebook:\n",
      "[Ejercicio 2 - Vecinos M\u00e1s Cercanos. Sobreajuste y curse of dimensionality](Ej2.ipynb)"
     ]
    },
    {
     "cell_type": "markdown",
     "metadata": {},
     "source": [
      "## 3) Naive Bayes. Text Mining \n",
      "TODO: link al informe del Ej3"
     ]
    },
    {
     "cell_type": "markdown",
     "metadata": {},
     "source": [
      "## Conclusiones\n",
      "TODO: Conclusiones \"Por   tratarse   de   un   trabajo   de   investigaci\u00f3n   netamente   pr\u00e1ctico,   las   conclusiones   deben   ser   la  \n",
      "resultante   de   la   elaboraci\u00f3n   de   las   pruebas   realizadas.   La   informaci\u00f3n   obtenida   de   referencias  \n",
      "externas puede y debe ser tomada como insumo, pero nunca como conclusi\u00f3n. \""
     ]
    },
    {
     "cell_type": "markdown",
     "metadata": {},
     "source": [
      "## Ideas   para   futuras   investigaciones\n",
      "TODO"
     ]
    },
    {
     "cell_type": "markdown",
     "metadata": {},
     "source": [
      "## Bibliograf\u00eda\n",
      "TODO"
     ]
    },
    {
     "cell_type": "markdown",
     "metadata": {},
     "source": [
      "## Referencias\n",
      "TODO"
     ]
    }
   ],
   "metadata": {}
  }
 ]
}