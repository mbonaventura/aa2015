{
 "metadata": {
  "name": ""
 },
 "nbformat": 3,
 "nbformat_minor": 0,
 "worksheets": [
  {
   "cells": [
    {
     "cell_type": "markdown",
     "metadata": {},
     "source": [
      "<center>\n",
      "<h1> Trabajo Pr\u00e1ctico 1</h1>\n",
      "<h2>Aprendizaje Autom\u00e1tico - 2015</h2>\n",
      "<b>Matias Bonaventura y Gabriel Tolosa<br></b>\n",
      "mbonaventura@dc.uba.ar, tolosoft@unlu.edu.ar\n",
      "</center>                    "
     ]
    },
    {
     "cell_type": "markdown",
     "metadata": {
      "collapsed": true
     },
     "source": [
      "## Indice \n",
      "TODO: agregar tabla de indice"
     ]
    },
    {
     "cell_type": "markdown",
     "metadata": {},
     "source": [
      "## Introducci\u00f3n\n",
      "\n",
      "El Aprendizaje Autom\u00e1tico (Machine Learning) es una disciplina dentro de las Ciencias de la Computaci\u00f3n que desarrolla t\u00e9cnicas y algoritmos para que las computadoras puedan llevar adelante diversas tareas complejas, mejorando su performance con la experiencia. \n",
      "\n",
      "Abarca m\u00faltiples \u00e1reas de estudio tales como la matem\u00e1tica y la estad\u00edstica, el dise\u00f1o, evaluaci\u00f3n y optimizaci\u00f3n de algoritmos, y la programaci\u00f3n eficiente, principalmente. Sus \u00e1reas de aplicaci\u00f3n abarcan un abanico muy amplio, ofreciendo m\u00e9todos que son utilizados en diversas ramas de las ciencias y la tecnolog\u00eda como por ejemplo en la biolog\u00eda, las finanzas, la rob\u00f3tica y - por supuesto - las ciencias de la computaci\u00f3n.\n",
      "\n",
      "En este trabajo se analizan y estudian tres enfoques para clasificaci\u00f3n de elementos que se basan en enfoques completamente diferentes. La clasificaci\u00f3n es un caso de Aprendizaje Supervisado en el cual se entrena un algoritmo (clasificador) con un conjunto de observaciones de diferentes clases o tipos y \u00e9ste construye una (o varias) hip\u00f3tesis posibles que ajusten tales observaciones y se selecione alguna (de acuerdo a diferentes criterios) que describa tales observaciones. Luego, a partir de contar un modelo, se pretende que dicho clasificador pueda etiquetar o clasificar nuevas observaciones de acuerdo al modelo aprendido. La idea es poder maximizar una medida de performance y mejorarla conforme se cuente con nuevas instancias.\n",
      "\n",
      "A continuaci\u00f3n, se presentan los estudios y resultados sobre las siguientes estrategias de clasificaci\u00f3n, a saber:\n",
      "a) \u00c1rboles de Decisi\u00f3n\n",
      "b) Vecinos mas Cercanos\n",
      "c) Naive Bayes\n",
      "\n",
      "Como metodolog\u00eda general, se tomaron conjuntos de datos provistos por el equipo docente (o descargados de sitios sugeridos) y se realiz\u00f3 una implementaci\u00f3n utilizando la librer\u00eda Sk-Learn para el lenguaje Python. Para cada caso, se analiza en primer lugar las prestaciones globales para luego profundizar en posibles problemas de los que adolece cada uno de los enfoques."
     ]
    },
    {
     "cell_type": "markdown",
     "metadata": {},
     "source": [
      "## 1) \u00c1rboles de Decisi\u00f3n. Sobreajuste y ruido\n",
      "Se puede encontrar la secci\u00f3n que corresponde al primer ejercicio en el siguiente notebook:\n",
      "[Ejercicio 1: \u00c1rboles de Decisi\u00f3n. Sobreajuste y ruido](Ej1.ipynb)"
     ]
    },
    {
     "cell_type": "markdown",
     "metadata": {},
     "source": [
      "## 2) Vecinos M\u00e1s Cercanos. Sobreajuste y curse of dimensionality \n",
      "Se puede encontrar la secci\u00f3n que corresponde al segundo ejercicio en el siguiente notebook:\n",
      "[Ejercicio 2 - Vecinos M\u00e1s Cercanos. Sobreajuste y curse of dimensionality](Ej2.ipynb)"
     ]
    },
    {
     "cell_type": "markdown",
     "metadata": {},
     "source": [
      "## 3) Naive Bayes. Text Mining \n",
      " \n",
      "Se puede encontrar la secci\u00f3n que corresponde al tercer ejercicio en el siguiente notebook:\n",
      "[Ejercicio 3 - Clasificaci\u00f3n de Noticias por Naive Bayes](Ej3.ipynb)"
     ]
    },
    {
     "cell_type": "markdown",
     "metadata": {},
     "source": [
      "## Conclusiones\n",
      "TODO: Conclusiones \"Por   tratarse   de   un   trabajo   de   investigaci\u00f3n   netamente   pr\u00e1ctico,   las   conclusiones   deben   ser   la  \n",
      "resultante   de   la   elaboraci\u00f3n   de   las   pruebas   realizadas.   La   informaci\u00f3n   obtenida   de   referencias  \n",
      "externas puede y debe ser tomada como insumo, pero nunca como conclusi\u00f3n. \""
     ]
    },
    {
     "cell_type": "markdown",
     "metadata": {},
     "source": [
      "## Ideas   para   futuras   investigaciones\n",
      "TODO"
     ]
    },
    {
     "cell_type": "markdown",
     "metadata": {},
     "source": [
      "## Referencias\n",
      "TODO"
     ]
    }
   ],
   "metadata": {}
  }
 ]
}