{
 "metadata": {
  "name": ""
 },
 "nbformat": 3,
 "nbformat_minor": 0,
 "worksheets": [
  {
   "cells": [
    {
     "cell_type": "code",
     "collapsed": false,
     "input": [
      "import urllib\n",
      "import numpy as np\n",
      "from sklearn import cross_validation\n",
      "from sklearn.neighbors import KNeighborsClassifier\n",
      "\n",
      "# URL for the Pima Indians Diabetes dataset (UCI Machine Learning Repository)\n",
      "url = \"http://goo.gl/j0Rvxq\"\t# Download the file\n",
      "raw_data = urllib.urlopen(url)\n",
      "\n",
      "# load the CSV file as a numpy matrix\n",
      "dataset = np.loadtxt(raw_data, delimiter=\",\")\n",
      "print(dataset.shape)\n",
      "#print dataset\n",
      "\n",
      "# Separate the data from the target attributes\n",
      "X = dataset[:,0:8] \t# primeras 8\n",
      "y = dataset[:,8] \t# objetivo"
     ],
     "language": "python",
     "metadata": {},
     "outputs": [
      {
       "output_type": "stream",
       "stream": "stdout",
       "text": [
        "(768, 9)\n"
       ]
      }
     ],
     "prompt_number": 1
    },
    {
     "cell_type": "code",
     "collapsed": false,
     "input": [
      "#\n",
      "X_train, X_test, y_train, y_test = cross_validation.train_test_split(X, y, test_size=0.3, random_state=0)\n",
      "print X_train.shape, y_train.shape, X_test.shape, y_test.shape\n"
     ],
     "language": "python",
     "metadata": {},
     "outputs": [
      {
       "output_type": "stream",
       "stream": "stdout",
       "text": [
        "(537, 8) (537,) (231, 8) (231,)\n"
       ]
      }
     ],
     "prompt_number": 2
    },
    {
     "cell_type": "code",
     "collapsed": false,
     "input": [
      "#\n",
      "xaxis = []\n",
      "yserie1 = []\n",
      "for i in range(1,20):\n",
      "\tneigh = KNeighborsClassifier(n_neighbors=i)\n",
      "\tneigh.fit(X_train, y_train)\n",
      "\tscore= neigh.score(X_test, y_test)\n",
      "\tprint i, score\t#, neigh.predict_proba([16.0, 148.0, 72.0, 35.0, 0.0, 33.6, 0.627, 50.0])\n",
      "\txaxis.append(i)\n",
      "\tyserie1.append(score)\n",
      "#\n"
     ],
     "language": "python",
     "metadata": {},
     "outputs": [
      {
       "output_type": "stream",
       "stream": "stdout",
       "text": [
        "1 0.614718614719\n",
        "2 0.714285714286\n",
        "3 0.692640692641\n",
        "4 0.735930735931\n",
        "5 0.748917748918\n",
        "6 0.74025974026\n",
        "7 0.748917748918\n",
        "8 0.748917748918\n",
        "9 0.748917748918\n",
        "10 0.753246753247\n",
        "11 0.753246753247\n",
        "12 0.753246753247\n",
        "13 0.748917748918\n",
        "14 0.748917748918\n",
        "15 0.757575757576\n",
        "16 0.744588744589\n",
        "17 0.744588744589\n",
        "18 0.735930735931\n",
        "19 0.727272727273\n"
       ]
      }
     ],
     "prompt_number": 3
    },
    {
     "cell_type": "code",
     "collapsed": false,
     "input": [
      "yserie2 = []\n",
      "for i in range(1,20):\n",
      "\tneigh = KNeighborsClassifier(n_neighbors=i)\n",
      "\tneigh.fit(X_train, y_train)\n",
      "\tscore= neigh.score(X_train, y_train)\n",
      "\tprint i, score\t#, neigh.predict_proba([16.0, 148.0, 72.0, 35.0, 0.0, 33.6, 0.627, 50.0])\n",
      "\tyserie2.append(score)\n",
      "#\n"
     ],
     "language": "python",
     "metadata": {},
     "outputs": [
      {
       "output_type": "stream",
       "stream": "stdout",
       "text": [
        "1 1.0\n",
        "2 0.841713221601\n",
        "3 0.860335195531\n",
        "4 0.795158286778\n",
        "5 0.7895716946\n",
        "6 0.785847299814\n",
        "7 0.77094972067\n",
        "8 0.782122905028\n",
        "9 0.791433891993\n",
        "10 0.783985102421\n",
        "11 0.787709497207\n",
        "12 0.795158286778\n",
        "13 0.793296089385\n",
        "14 0.787709497207\n",
        "15"
       ]
      },
      {
       "output_type": "stream",
       "stream": "stdout",
       "text": [
        " 0.787709497207\n",
        "16 0.778398510242\n",
        "17 0.776536312849\n",
        "18 0.77094972067\n",
        "19 0.774674115456\n"
       ]
      }
     ],
     "prompt_number": 4
    },
    {
     "cell_type": "code",
     "collapsed": false,
     "input": [
      "%pylab inline\n",
      "plot(xaxis, yserie1, color='r')\n",
      "#plot(xaxis, yserie2, color='b')\n",
      "grid('on')"
     ],
     "language": "python",
     "metadata": {},
     "outputs": [
      {
       "output_type": "stream",
       "stream": "stdout",
       "text": [
        "Populating the interactive namespace from numpy and matplotlib\n"
       ]
      },
      {
       "metadata": {},
       "output_type": "display_data",
       "png": "[encoded data removed]",
       "text": [
        "<matplotlib.figure.Figure at 0x7f18a2ae7550>"
       ]
      }
     ],
     "prompt_number": 5
    },
    {
     "cell_type": "raw",
     "metadata": {},
     "source": [
      "Second\n",
      "KNeighborsClassifier(algorithm='auto', leaf_size=30, metric='minkowski', \n",
      "                     metric_params=None, n_neighbors=3, p=2, weights='uniform')\n"
     ]
    },
    {
     "cell_type": "code",
     "collapsed": false,
     "input": [
      "#\n",
      "yserie3 = []\n",
      "for i in range(1,20):\n",
      "\t#neigh2 = KNeighborsClassifier(n_neighbors=i, metric='minkowski')\n",
      "    neigh2 = KNeighborsClassifier(n_neighbors=i, weights='distance')\n",
      "    neigh2.fit(X_train, y_train)\n",
      "    score = neigh2.score(X_test, y_test)\n",
      "    #print i, score\t#, neigh.predict_proba([16.0, 148.0, 72.0, 35.0, 0.0, 33.6, 0.627, 50.0])\n",
      "    yserie3.append(score)\n",
      "#"
     ],
     "language": "python",
     "metadata": {},
     "outputs": [],
     "prompt_number": 6
    },
    {
     "cell_type": "code",
     "collapsed": false,
     "input": [
      "plot(xaxis, yserie1, color='b', label='w=uniform')\n",
      "plot(xaxis, yserie3, color='r', label='w=distance')\n",
      "grid('on')\n",
      "legend(loc=4)"
     ],
     "language": "python",
     "metadata": {},
     "outputs": [
      {
       "metadata": {},
       "output_type": "pyout",
       "prompt_number": 43,
       "text": [
        "<matplotlib.legend.Legend at 0x7fac4cd22f50>"
       ]
      },
      {
       "metadata": {},
       "output_type": "display_data",
       "png": "[encoded data removed]",
       "text": [
        "<matplotlib.figure.Figure at 0x7fac4ce4b050>"
       ]
      }
     ],
     "prompt_number": 43
    },
    {
     "cell_type": "code",
     "collapsed": false,
     "input": [
      "X_rows = X.shape[0]"
     ],
     "language": "python",
     "metadata": {},
     "outputs": [],
     "prompt_number": 60
    },
    {
     "cell_type": "code",
     "collapsed": false,
     "input": [
      "#z = np.zeros((X_rows,1), dtype=int64)\n",
      "z = np.random.rand(X_rows, 1)\n",
      "X1 = np.append(X, z, axis=1)\n",
      "X1.shape\n"
     ],
     "language": "python",
     "metadata": {},
     "outputs": [
      {
       "metadata": {},
       "output_type": "pyout",
       "prompt_number": 80,
       "text": [
        "(768, 9)"
       ]
      }
     ],
     "prompt_number": 80
    },
    {
     "cell_type": "code",
     "collapsed": false,
     "input": [
      "#\n",
      "X1_train, X1_test, y1_train, y1_test = cross_validation.train_test_split(X1, y, test_size=0.3, random_state=0)\n",
      "print X1_train.shape, y1_train.shape, X1_test.shape, y1_test.shape"
     ],
     "language": "python",
     "metadata": {},
     "outputs": [
      {
       "output_type": "stream",
       "stream": "stdout",
       "text": [
        "(537, 9) (537,) (231, 9) (231,)\n"
       ]
      }
     ],
     "prompt_number": 84
    },
    {
     "cell_type": "code",
     "collapsed": false,
     "input": [
      "#\n",
      "yserieX = []\n",
      "for i in range(1,20):\n",
      "\tneighX = KNeighborsClassifier(n_neighbors=i)\n",
      "\tneighX.fit(X1_train, y1_train)\n",
      "\tscore = neighX.score(X1_test, y1_test)\n",
      "\t#print i, score\t#, neigh.predict_proba([16.0, 148.0, 72.0, 35.0, 0.0, 33.6, 0.627, 50.0])\n",
      "\tyserieX.append(score)\n",
      "#"
     ],
     "language": "python",
     "metadata": {},
     "outputs": [],
     "prompt_number": 85
    },
    {
     "cell_type": "code",
     "collapsed": false,
     "input": [
      "plot(xaxis, yserie1, color='b', label='original')\n",
      "plot(xaxis, yserieX, color='r', label='+1 random feature')\n",
      "grid('on')\n",
      "legend(loc=4)"
     ],
     "language": "python",
     "metadata": {},
     "outputs": [
      {
       "metadata": {},
       "output_type": "pyout",
       "prompt_number": 86,
       "text": [
        "<matplotlib.legend.Legend at 0x7fac4ccc2590>"
       ]
      },
      {
       "metadata": {},
       "output_type": "display_data",
       "png": "[encoded data removed]",
       "text": [
        "<matplotlib.figure.Figure at 0x7fac4cd71b10>"
       ]
      }
     ],
     "prompt_number": 86
    },
    {
     "cell_type": "code",
     "collapsed": false,
     "input": [
      "\n",
      "for j in range(1,11):\n",
      "    z = np.random.rand(X_rows, j)\n",
      "    X1 = np.append(X, z, axis=1)\n",
      "    print X1.shape\n",
      "    #\n",
      "    X1_train, X1_test, y1_train, y1_test = cross_validation.train_test_split(X1, y, test_size=0.3, random_state=0)\n",
      "    #\n",
      "    xaxis = []\n",
      "    yserieN = []\n",
      "    for i in range(1,20):\n",
      "        neigh = KNeighborsClassifier(n_neighbors=i)\n",
      "        neigh.fit(X1_train, y1_train)\n",
      "        score = neigh.score(X1_test, y1_test)\n",
      "        xaxis.append(i)\n",
      "        yserieN.append(score)\n",
      "    #\n",
      "    plot(xaxis, yserieN, label=str(j))\n",
      "\n",
      "    #    \n",
      "    grid('on')\n",
      "    legend(loc=4)"
     ],
     "language": "python",
     "metadata": {},
     "outputs": [
      {
       "output_type": "stream",
       "stream": "stdout",
       "text": [
        "(768, 9)\n",
        "(768, 10)"
       ]
      },
      {
       "output_type": "stream",
       "stream": "stdout",
       "text": [
        "\n",
        "(768, 11)"
       ]
      },
      {
       "output_type": "stream",
       "stream": "stdout",
       "text": [
        "\n",
        "(768, 12)"
       ]
      },
      {
       "output_type": "stream",
       "stream": "stdout",
       "text": [
        "\n",
        "(768, 13)"
       ]
      },
      {
       "output_type": "stream",
       "stream": "stdout",
       "text": [
        "\n",
        "(768, 14)"
       ]
      },
      {
       "output_type": "stream",
       "stream": "stdout",
       "text": [
        "\n",
        "(768, 15)"
       ]
      },
      {
       "output_type": "stream",
       "stream": "stdout",
       "text": [
        "\n",
        "(768, 16)"
       ]
      },
      {
       "output_type": "stream",
       "stream": "stdout",
       "text": [
        "\n",
        "(768, 17)"
       ]
      },
      {
       "output_type": "stream",
       "stream": "stdout",
       "text": [
        "\n",
        "(768, 18)"
       ]
      },
      {
       "output_type": "stream",
       "stream": "stdout",
       "text": [
        "\n"
       ]
      },
      {
       "metadata": {},
       "output_type": "display_data",
       "png": "[encoded data removed]",
       "text": [
        "<matplotlib.figure.Figure at 0x7fac4ca35990>"
       ]
      }
     ],
     "prompt_number": 98
    },
    {
     "cell_type": "code",
     "collapsed": false,
     "input": [
      "# Ejemplo 2 \n",
      "\n",
      "for j in range(1,10):\n",
      "    #\n",
      "    xaxis = []\n",
      "    yserieN = []\n",
      "    \n",
      "    for i in range(1,20):\n",
      "        z = np.random.rand(X_rows, i)\n",
      "        X1 = np.append(X, z, axis=1)\n",
      "        X1_train, X1_test, y1_train, y1_test = cross_validation.train_test_split(X1, y, test_size=0.3, random_state=0)\n",
      "        #\n",
      "        neigh = KNeighborsClassifier(n_neighbors=i)\n",
      "        neigh.fit(X1_train, y1_train)\n",
      "        score = neigh.score(X1_test, y1_test)\n",
      "        xaxis.append(j)\n",
      "        yserieN.append(score)\n",
      "        #print \"V:\", j, \" F+:\",i, \" -> \", score\n",
      "    #\n",
      "    plot(xaxis, yserieN, label=str(j))\n",
      "    #    \n",
      "grid('on')\n",
      "ylim([0.6,0.8])\n",
      "xlabel('Features agregadas')\n",
      "ylabel('Performance')\n",
      "#legend(loc=4)"
     ],
     "language": "python",
     "metadata": {},
     "outputs": [
      {
       "metadata": {},
       "output_type": "pyout",
       "prompt_number": 111,
       "text": [
        "<matplotlib.text.Text at 0x7fac4c378bd0>"
       ]
      },
      {
       "metadata": {},
       "output_type": "display_data",
       "png": "[encoded data removed]",
       "text": [
        "<matplotlib.figure.Figure at 0x7fac4c48c910>"
       ]
      }
     ],
     "prompt_number": 111
    },
    {
     "cell_type": "raw",
     "metadata": {},
     "source": [
      "Ver: http://scikit-learn.org/stable/auto_examples/plot_classification_probability.html\n"
     ]
    },
    {
     "cell_type": "code",
     "collapsed": false,
     "input": [],
     "language": "python",
     "metadata": {},
     "outputs": []
    }
   ],
   "metadata": {}
  }
 ]
}