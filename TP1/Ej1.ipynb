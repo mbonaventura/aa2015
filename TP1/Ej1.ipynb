{
 "metadata": {
  "name": ""
 },
 "nbformat": 3,
 "nbformat_minor": 0,
 "worksheets": [
  {
   "cells": [
    {
     "cell_type": "markdown",
     "metadata": {
      "collapsed": true
     },
     "source": [
      "<h3>Introducci\u00f3n</h3>\n",
      "El m\u00e9todo de aprendizaje utilizando \u00e1rboles de decici\u00f3n es uno de los m\u00e1s utilizados debido a su simple utilizaci\u00f3n e interpretaci\u00f3n. Los \u00e1rboles de decici\u00f3n clasifican las instancias ordenandolas desde la ra\u00edz hasta una hoja. Como se muestra en la figura, cada nodo representa la evaluaci\u00f3n de un atributo (que debe ser de valor discreto), cada rama representa un posible valor del atributo y las hojas predicen la clase para una determinada observaci\u00f3n.\n",
      "\n",
      "<img src=\"files/img/IDT.png\" />\n",
      "\n",
      "Uno de los errores mas comunes de cometer al utilizar \u00e1rboles de decici\u00f3n es caer en sobreajuste. Se entiende por sobreajuste cuando el modelo creado (en este caso el \u00e1rbol de decici\u00f3n) mide con demaciada exactitud los datos de entrenamiento, pero al ser utilizado con nuevas instancias se comporta con mayor error. Formalmente, se dice que una hip\u00f3tesis h se sobreajusta a los datos de entrenamiento si exite una hipotesis h', tal que  h tiene menor error que h' sobre las instancias de entrenamiento, pero h' tiene menor error que h sobre todas las posibles instancias."
     ]
    },
    {
     "cell_type": "markdown",
     "metadata": {
      "collapsed": true
     },
     "source": [
      "<h3>Datos utilizados para los experimentos</h3>\n",
      "\n",
      "Para este ejercicio se utiliz\u00f3 el <a href=\"https://archive.ics.uci.edu/ml/datasets/Car+Evaluation\"> Car Evaluation Data Set </a> obtenido del repositorio de <a href=\"https://archive.ics.uci.edu/ml/index.html\">UCI</a>.\n",
      "Este conjunto de datos contiene 1728 observaciones con 6 atributos y 4 categor\u00edas. Los valores de los atributos representan caracter\u00edsticas de los autom\u00f3viles para su evaluaci\u00f3n (unnac, acc, good, v-good), tales como:\n",
      "<pre>\n",
      "   buying       v-high, high, med, low\n",
      "   maint        v-high, high, med, low\n",
      "   doors        2, 3, 4, 5-more\n",
      "   persons      2, 4, more\n",
      "   lug_boot     small, med, big\n",
      "   safety       low, med, high\n",
      "</pre>   \n",
      "Tanto los valores de las clases como de los atributos fueron converidos a num\u00e9rico en [1-4]. Las clases se encuentran desbalanceadas en cuanto a la cantidad de observaciones, tal como:\n",
      "<pre>\n",
      "   class      N          N[%]\n",
      "   -----------------------------\n",
      "   unacc     1210     (70.023 %) \n",
      "   acc        384     (22.222 %) \n",
      "   good        69     ( 3.993 %) \n",
      "   v-good      65     ( 3.762 %)\n",
      "</pre>   "
     ]
    },
    {
     "cell_type": "markdown",
     "metadata": {},
     "source": [
      "<h3>Set de datos, instancias de test y entrenamiento</h3>\n",
      "El primer paso es cargar el set de datos. Esto se realiza leyendo el archivo cvs (preprocesado para que los atributos posean valores numericos [1-4]). Se utiliza numpy para separar los atributos de las clases (targets)."
     ]
    },
    {
     "cell_type": "code",
     "collapsed": false,
     "input": [
      "import numpy as np\n",
      "data = []\n",
      "with open(\"data/car.data.csv\", \"r\") as fin:\n",
      "    for line in fin:\n",
      "        data.append(line.strip().split(\",\"))\n",
      "        \n",
      "np_data = np.asarray(data).astype('int')\n",
      "targets_data = np_data[:,6]\n",
      "x_data = np_data[:,0:6]"
     ],
     "language": "python",
     "metadata": {
      "collapsed": false
     },
     "outputs": [],
     "prompt_number": 23
    },
    {
     "cell_type": "markdown",
     "metadata": {},
     "source": [
      "A continuaci\u00f3n se utiliza el m\u00f3dulo 'cross validation' para separar en dos conjuntos de 'entrenamiento' y 'prueba' en una proporci\u00f3n 80-20 respectivamente."
     ]
    },
    {
     "cell_type": "code",
     "collapsed": false,
     "input": [
      "from sklearn import cross_validation\n",
      "\n",
      "X_train, X_test, y_train, y_test = cross_validation.train_test_split(x_data, targets_data, test_size=0.2, random_state=0)"
     ],
     "language": "python",
     "metadata": {
      "collapsed": false
     },
     "outputs": [],
     "prompt_number": 24
    },
    {
     "cell_type": "markdown",
     "metadata": {},
     "source": [
      "Como se puede comprobar a continuaci\u00f3n, el conjunto de entrenamiento posee 1382 instancias y el conjunto de prueba 346."
     ]
    },
    {
     "cell_type": "code",
     "collapsed": false,
     "input": [
      "print \"Datos de entrenamiento:\", X_train.shape, y_train.shape\n",
      "print \"Datos de prueba:\", X_test.shape, y_test.shape"
     ],
     "language": "python",
     "metadata": {
      "collapsed": false
     },
     "outputs": [
      {
       "output_type": "stream",
       "stream": "stdout",
       "text": [
        "Datos de entrenamiento: (1382, 6) (1382,)\n",
        "Datos de prueba: (346, 6) (346,)\n"
       ]
      }
     ],
     "prompt_number": 25
    },
    {
     "cell_type": "markdown",
     "metadata": {},
     "source": [
      "<h3>\u00c1rbol de decici\u00f3n completo</h3>\n",
      "Comenzamos creando un arbol de decici\u00f3n completo, sin ninguna restricci\u00f3n para su tama\u00f1o. Como se puede observar, al ajustarse a los datos de entrenamiento, el \u00e1rbol generado posee 143 nodos."
     ]
    },
    {
     "cell_type": "code",
     "collapsed": false,
     "input": [
      "from sklearn import tree\n",
      "clf = tree.DecisionTreeClassifier()\n",
      "clf = clf.fit(X_train, y_train)"
     ],
     "language": "python",
     "metadata": {
      "collapsed": false
     },
     "outputs": [],
     "prompt_number": 26
    },
    {
     "cell_type": "code",
     "collapsed": false,
     "input": [
      "print (\"Cantidad de nodos del \u00e1rbol generado: %f\" % clf.tree_.node_count)"
     ],
     "language": "python",
     "metadata": {
      "collapsed": false
     },
     "outputs": [
      {
       "output_type": "stream",
       "stream": "stdout",
       "text": [
        "Cantidad de nodos del \u00e1rbol generado: 149.000000\n"
       ]
      }
     ],
     "prompt_number": 27
    },
    {
     "cell_type": "markdown",
     "metadata": {},
     "source": [
      "Dado que el \u00e1rbol fue creado sin restriccion alguna, \u00e9ste predice perfectamente los datos de entrenamiento:"
     ]
    },
    {
     "cell_type": "code",
     "collapsed": false,
     "input": [
      "print(\"Score para los datos de entrenamiento: %f\" % clf.score(X_train, y_train))"
     ],
     "language": "python",
     "metadata": {
      "collapsed": false
     },
     "outputs": [
      {
       "output_type": "stream",
       "stream": "stdout",
       "text": [
        "Score para los datos de entrenamiento: 1.000000\n"
       ]
      }
     ],
     "prompt_number": 28
    },
    {
     "cell_type": "markdown",
     "metadata": {},
     "source": [
      "Sin embargo, al utilizar los datos de prueba la prediccion deja de ser perfecta. Es sorprendente observar que el \u00e1rbol de decici\u00f3n se comporta de manera muy performate y logr\u00f3 modelar con muy buena exactitud las clases del problema."
     ]
    },
    {
     "cell_type": "code",
     "collapsed": false,
     "input": [
      "print(\"Score para los datos de prueba: %f\" % clf.score(X_test, y_test))"
     ],
     "language": "python",
     "metadata": {
      "collapsed": false
     },
     "outputs": [
      {
       "output_type": "stream",
       "stream": "stdout",
       "text": [
        "Score para los datos de prueba: 0.971098\n"
       ]
      }
     ],
     "prompt_number": 29
    },
    {
     "cell_type": "markdown",
     "metadata": {},
     "source": [
      "<h3>\u00c1rboles de decici\u00f3n con poda</h3>\n",
      "A continuacion veremos como se comprotan \u00e1rboles de decici\u00f3n donde se restringe la cantidad de nodos m\u00e1xima al crear el \u00e1rbol. Esto es esquivalente a no ajustar el \u00e1rbol completamente a los datos de entrenamiento, y tomar en cuenta unicamente los atributos mas relevantes.<br>\n",
      "Por ejemplo, si permitimos una cantidad m\u00e1xima de 50 nodos en el \u00e1rbol vemos que ya no se ajusta perfectamente a los datos de entrenamiento. Sin embargo, para los datos de prueba la predicci\u00f3n resulta peor que en el caso de utilizar un arbol sin restricci\u00f3n."
     ]
    },
    {
     "cell_type": "code",
     "collapsed": false,
     "input": [
      "clf = tree.DecisionTreeClassifier(max_depth=50)\n",
      "clf=clf.fit(X_train, y_train)\n",
      "print(\"Score para los datos de entrenamiento: %f\" % clf.score(X_train, y_train))\n",
      "print(\"Score para los datos de prueba: %f\" % clf.score(X_test, y_test))"
     ],
     "language": "python",
     "metadata": {
      "collapsed": false
     },
     "outputs": [
      {
       "output_type": "stream",
       "stream": "stdout",
       "text": [
        "Score para los datos de entrenamiento: 1.000000\n",
        "Score para los datos de prueba: 0.968208\n"
       ]
      }
     ],
     "prompt_number": 30
    },
    {
     "cell_type": "markdown",
     "metadata": {},
     "source": [
      "Realizamos esta misma prueba iterando sobre diferentes valores para la cantidad de nodos m\u00e1xima permitida."
     ]
    },
    {
     "cell_type": "code",
     "collapsed": false,
     "input": [
      "%pylab inline \n",
      "def plotPerformanceVsTreeSize(X_train, y_train, X_test,y_test, sizeRange=range(2,70,1)):\n",
      "    xdata1 = []\n",
      "    yserie1 = []\n",
      "    yserie2 = []\n",
      "    yserie3 = []\n",
      "    clf = tree.DecisionTreeClassifier().fit(X_train, y_train)\n",
      "    score_complete = clf.score(X_test,y_test)\n",
      "    for i in sizeRange:\n",
      "        clf = tree.DecisionTreeClassifier(max_depth=i).fit(X_train, y_train)\n",
      "    \n",
      "        xdata1.append(i)\n",
      "        yserie1.append(clf.score(X_train, y_train))\n",
      "        yserie2.append(clf.score(X_test,y_test))\n",
      "        yserie3.append(score_complete)\n",
      "        \n",
      "        \n",
      "    plot(xdata1, yserie1, '.-g', label=\"Datos de Entrenamiento\")\n",
      "    plot(xdata1, yserie2, '.-b', label=\"Datos de Prueba\")\n",
      "    plot(xdata1, yserie3, '-r', label=\"Datos de Prueba - Arbol completo\")\n",
      "    grid('on')\n",
      "    xlabel('Cantidad de hojas')\n",
      "    ylabel('Score')\n",
      "    title('Score para arboles de decicion podados')\n",
      "    legend(loc='center left', bbox_to_anchor=(1, 0.5))"
     ],
     "language": "python",
     "metadata": {
      "collapsed": false
     },
     "outputs": [
      {
       "output_type": "stream",
       "stream": "stdout",
       "text": [
        "Populating the interactive namespace from numpy and matplotlib\n"
       ]
      }
     ],
     "prompt_number": 38
    },
    {
     "cell_type": "markdown",
     "metadata": {},
     "source": [
      "El siguiente gr\u00e1fico muestra el score para los datos de entrenamiento (en verde) y para los datos de prueba (en azul) al variar la cantidad de nodos m\u00e1xima del \u00e1rbol de decici\u00f3n. La linea roja muestra el score para los datos de entrenamiento al utilizarse el \u00e1rbol sin poda (o sea, con la cantidad maxima de nodos).\n",
      "\n",
      "<b>NOTA:</b> Si se desea ver con mayor detalle una determina area, es posible cambiar parametro sizeRange y ejecutar la celda del notebook para regenerar el gr\u00e1fico"
     ]
    },
    {
     "cell_type": "code",
     "collapsed": false,
     "input": [
      "plotPerformanceVsTreeSize(X_train, y_train, X_test,y_test, sizeRange=range(2,100))"
     ],
     "language": "python",
     "metadata": {
      "collapsed": false
     },
     "outputs": [
      {
       "metadata": {},
       "output_type": "display_data",
       "png": "[encoded data removed]",
       "text": [
        "<matplotlib.figure.Figure at 0x7f246cc7de10>"
       ]
      }
     ],
     "prompt_number": 39
    },
    {
     "cell_type": "markdown",
     "metadata": {},
     "source": [
      "En el gr\u00e1fico se puede observar que para los datos de entrenamiento la performance es estricamente creciente al utilizar \u00e1rboles de mayor tama\u00f1o. Para \u00e1rboles con m\u00e1s de 75 hojas, la performance para datos de entrenamiento es perfecta. Esto es esperable, ya que el \u00e1rbol aprende por completo los datos de entrenamiento, teniendo una hoja para cada posible ocurrencia. De este hecho tambien podemos concluir que los datos de entrenamiento son \"coherentes\" entre s\u00ed, es decir que para los mismos valores de atributos corresponde siempre la misma clase, que no siempre es verdadero en todos los contextos (por ejemplo en pacientes de un hospital).\n",
      "En cuanto a la performace para los datos de prueba podemos observar que en general siempre es menor que para los datos de entrenamiento (exceptuando al utilizar 4 hojas). Si bien la tendencia tambi\u00e9n es en general creciente, se puede observar en ocaciones que utilizando \u00e1rboles de menor tama\u00f1o la performance es levemente mejor. Por ejemplo, la performance con 44 hojas es 0.955, menor que al utilizar 40 hojas donde la performance es 0.965.  "
     ]
    },
    {
     "cell_type": "markdown",
     "metadata": {},
     "source": [
      "<h3>Entrenamiento con datos distorcionados</h3>\n",
      "A continuacion se analiza el comportamiento de los \u00e1rboles podados al utilizarse datos de entrenamiendo imperfectos. Para esto, se introduce diferentes niveles de ruido en las instancias de entrenamientos y se evalua la performance."
     ]
    },
    {
     "cell_type": "markdown",
     "metadata": {},
     "source": [
      "Creamos la funcion addNoise que introduce un determinado porcentaje de ruido en un set de datos"
     ]
    },
    {
     "cell_type": "code",
     "collapsed": false,
     "input": [
      "def addNoise(data, noise):\n",
      "    noise_idx = random.random(data.shape)\n",
      "    data_with_noise = data.copy()\n",
      "    data_with_noise[noise_idx<noise] = random.random_integers(1,4, data_with_noise[noise_idx<noise].size)\n",
      "    return data_with_noise    "
     ],
     "language": "python",
     "metadata": {
      "collapsed": true
     },
     "outputs": []
    },
    {
     "cell_type": "markdown",
     "metadata": {},
     "source": [
      "El siguiente gr\u00e1fico muestra el score para los datos de entrenamiento (en rojo) y para los datos de prueba (en azul) al variar la cantidad de nodos m\u00e1xima del \u00e1rbol de decici\u00f3n) utilizando 10% de ruido"
     ]
    },
    {
     "cell_type": "code",
     "collapsed": false,
     "input": [
      "y_train_with_noise = addNoise(y_train, 0.1)\n",
      "plotPerformanceVsTreeSize(X_train, y_train_with_noise, X_test,y_test, sizeRange=range(2,20, 2))"
     ],
     "language": "python",
     "metadata": {
      "collapsed": false
     },
     "outputs": []
    },
    {
     "cell_type": "markdown",
     "metadata": {},
     "source": [
      "Como se puede observar, al agregar ruido a los datos de entrenamiento la performance en los datos de prueba es mejor para \u00e1rboles de menor tama\u00f1o. Al utilizar una cantidad de hojas mayor a 45 la performance comienza a decrecer y para el \u00e1rbol de decici\u00f3n completo el score es ~0.87. Esto se debe al sobre ajuste a los datos de entrenamiento, que en este caso son irregulares o \"incoherentes\" entre s\u00ed (debido al ruido introducido). Por lo tanto, al crear \u00e1rboles de mayor tama\u00f1o se ajusta el modelo fuertemente a los datos de entrenamiento, que luego al ser puesto a prueba resulta menos performante."
     ]
    },
    {
     "cell_type": "markdown",
     "metadata": {},
     "source": [
      "<h3>Introduciendo diferentes niveles de distorci\u00f3n</h3>\n",
      "A continuacion se muestra la misma gr\u00e1fica que en el experimento anterior, pero utilizando mayor porcentaje de distorci\u00f3n. Los siguientes graficos corresponden a 20, 30 y 50 porciento de distorci\u00f3n respectivamente:"
     ]
    },
    {
     "cell_type": "code",
     "collapsed": false,
     "input": [
      "y_train_with_noise = addNoise(y_train, 0.20)\n",
      "plotPerformanceVsTreeSize(X_train, y_train_with_noise, X_test,y_test, sizeRange=range(2,250, 2))"
     ],
     "language": "python",
     "metadata": {
      "collapsed": false
     },
     "outputs": []
    },
    {
     "cell_type": "code",
     "collapsed": false,
     "input": [
      "y_train_with_noise = addNoise(y_train, 0.3)\n",
      "plotPerformanceVsTreeSize(X_train, y_train_with_noise, X_test,y_test, sizeRange=range(2,250, 2))"
     ],
     "language": "python",
     "metadata": {
      "collapsed": false
     },
     "outputs": []
    },
    {
     "cell_type": "code",
     "collapsed": false,
     "input": [
      "y_train_with_noise = addNoise(y_train, 0.5)\n",
      "plotPerformanceVsTreeSize(X_train, y_train_with_noise, X_test,y_test, sizeRange=range(2,550, 2))"
     ],
     "language": "python",
     "metadata": {
      "collapsed": false
     },
     "outputs": []
    },
    {
     "cell_type": "markdown",
     "metadata": {},
     "source": [
      "Se puede observar en las gr\u00e1ficas anteriores que al utilizar mayor distorci\u00f3n, la performance de los \u00e1rboles mas peque\u00f1os es mejor (cuanto mayor distorcion, la cantidad de hojas \u00f3ptima es menor), debido al sobre ajuste explicado anteriormente. Tambi\u00e9n se observa como la performance para los datos de entrenamiento se reduce notablemente con la introducci\u00f3n de mayor ruido. <br>\n",
      "Por ejemplo, en el ultimo gr\u00e1fico donde se utilizan datos de entrenamiento con 50% de ruido se observa facilmente el efecto del sobre ajuste. En general ser\u00eda intuitivo querer utilizar \u00e1rboles de gran tama\u00f1o, ya que modelan con gran exactitud las observaciones y con que se comportan muy bien al probarlos con los datos de entrenamiento. Sin embargo, en este experimento podemos ver que \u00e1rboles grandes (en el gr\u00e1fico se puede tomar el ejemplo del arbol con 500 hojas) se comportan bien para los datos de entrenamiento, pero muy mal para los datos de prueba."
     ]
    },
    {
     "cell_type": "markdown",
     "metadata": {},
     "source": [
      "<h3>Conclusi\u00f3n</h3>\n",
      "En este ejercicio hemos trabajado con \u00e1rboles de decici\u00f3n para modelar la clasificacion de autos seg\u00fan algunas de sus caracter\u00edsticas. Al utilizar los datos crudos, observamos que un \u00e1rbol de decici\u00f3n completo (sin poda) modela con gran exactitud las observaci\u00f3nes. <br>\n",
      "Al introducir ruido en los datos de entrenamiento, se observa que los \u00e1rboles sin poda se comportan mucho peor que al utilizar \u00e1rboles podados debido al efecto del sobre ajuste. Cuanto mayor es el ruido introducido, mayor es el efecto del sobre ajuste. <br>\n",
      "Sin embargo, utilizando \u00e1rboles con cantidad de hojas \u00f3ptima la performance es muy buena (un score siempre mayor a score 0.9), incluso para datos de entrenamiento con una gran procentaje de ruido (>50%)."
     ]
    },
    {
     "cell_type": "markdown",
     "metadata": {},
     "source": [
      "TODOS:\n",
      "    - Decir sobre el score=accuracy\n",
      "    - Decir que la linea roja es arbol sin poda.\n",
      "    - Agregar Precition, porque el dataset es no balanceado\n",
      "    - Cambiar max-depth por max_leaf_nodes\n",
      "    - probar con otras estrategias de poda... (max leaf items)"
     ]
    },
    {
     "cell_type": "code",
     "collapsed": false,
     "input": [],
     "language": "python",
     "metadata": {},
     "outputs": []
    },
    {
     "cell_type": "code",
     "collapsed": false,
     "input": [],
     "language": "python",
     "metadata": {},
     "outputs": []
    }
   ],
   "metadata": {}
  }
 ]
}