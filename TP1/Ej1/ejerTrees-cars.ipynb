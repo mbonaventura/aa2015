{
 "cells": [
  {
   "cell_type": "markdown",
   "metadata": {},
   "source": [
    "<h3>Práctica de Overfitting</h3>\n",
    "Para este ejercicio se utilizó el \"Car Evaluation Data Set\": https://archive.ics.uci.edu/ml/datasets/Car+Evaluation\n",
    "Este conjunto de datos contiene 1728 observaciones con 6 atributos y 4 categorías. Los valores de los atributos representan características de los automóviles para su evaluación (unnac, acc, good, v-good), tales como:\n",
    "<pre>\n",
    "   buying       v-high, high, med, low\n",
    "   maint        v-high, high, med, low\n",
    "   doors        2, 3, 4, 5-more\n",
    "   persons      2, 4, more\n",
    "   lug_boot     small, med, big\n",
    "   safety       low, med, high\n",
    "</pre>   \n",
    "Tanto los valores de las clases como de los atributos fueron converidos a numérico en [1-4]. Las clases se encuentran desbalanceadas en cuanto a la cantidad de observaciones, tal como:\n",
    "<pre>\n",
    "   class      N          N[%]\n",
    "   -----------------------------\n",
    "   unacc     1210     (70.023 %) \n",
    "   acc        384     (22.222 %) \n",
    "   good        69     ( 3.993 %) \n",
    "   v-good      65     ( 3.762 %)\n",
    "</pre>   "
   ]
  },
  {
   "cell_type": "markdown",
   "metadata": {},
   "source": [
    "Luego de procesado el archivo, se carga al array data[]"
   ]
  },
  {
   "cell_type": "code",
   "execution_count": 2,
   "metadata": {
    "collapsed": false
   },
   "outputs": [],
   "source": [
    "data = []\n",
    "with open(\"car.data.csv\", \"r\") as fin:\n",
    "    for line in fin:\n",
    "        data.append(line.strip().split(\",\"))"
   ]
  },
  {
   "cell_type": "markdown",
   "metadata": {},
   "source": [
    "Se pasa a un array de numpy (para extraer las columnas) y se separan los atributos de las clases correspondientes (targets)"
   ]
  },
  {
   "cell_type": "code",
   "execution_count": 3,
   "metadata": {
    "collapsed": false
   },
   "outputs": [],
   "source": [
    "import numpy as np\n",
    "\n",
    "np_data = np.asarray(data).astype('int')\n",
    "targets_data = np_data[:,6]\n",
    "x_data = np_data[:,0:6]"
   ]
  },
  {
   "cell_type": "markdown",
   "metadata": {},
   "source": [
    "Usando el módulo 'cross validation' se separa en dos conjuntos de 'train' y 'test' en una proporción 70-30 respectivamente."
   ]
  },
  {
   "cell_type": "code",
   "execution_count": 4,
   "metadata": {
    "collapsed": false
   },
   "outputs": [],
   "source": [
    "from sklearn import cross_validation\n",
    "\n",
    "X_train, X_test, y_train, y_test = cross_validation.train_test_split(x_data, targets_data, test_size=0.3, random_state=0)"
   ]
  },
  {
   "cell_type": "code",
   "execution_count": 5,
   "metadata": {
    "collapsed": false
   },
   "outputs": [
    {
     "name": "stdout",
     "output_type": "stream",
     "text": [
      "(1209, 6) (1209,) (519, 6) (519,)\n"
     ]
    }
   ],
   "source": [
    "print X_train.shape, y_train.shape, X_test.shape, y_test.shape"
   ]
  },
  {
   "cell_type": "markdown",
   "metadata": {},
   "source": [
    "Se entrena un clasificador (árbol) sin limites"
   ]
  },
  {
   "cell_type": "code",
   "execution_count": 6,
   "metadata": {
    "collapsed": false
   },
   "outputs": [],
   "source": [
    "from sklearn import tree\n",
    "clf = tree.DecisionTreeClassifier()\n",
    "clf = clf.fit(X_train, y_train)"
   ]
  },
  {
   "cell_type": "code",
   "execution_count": 7,
   "metadata": {
    "collapsed": false
   },
   "outputs": [
    {
     "name": "stdout",
     "output_type": "stream",
     "text": [
      "135\n"
     ]
    }
   ],
   "source": [
    "print clf.tree_.node_count"
   ]
  },
  {
   "cell_type": "code",
   "execution_count": 8,
   "metadata": {
    "collapsed": false
   },
   "outputs": [
    {
     "name": "stdout",
     "output_type": "stream",
     "text": [
      "Score train: 1.000000\n"
     ]
    }
   ],
   "source": [
    "print(\"Score train: %f\" % clf.score(X_train, y_train))"
   ]
  },
  {
   "cell_type": "markdown",
   "metadata": {},
   "source": [
    "Se testea la performance con el dataset de 'test'"
   ]
  },
  {
   "cell_type": "code",
   "execution_count": 9,
   "metadata": {
    "collapsed": false
   },
   "outputs": [
    {
     "name": "stdout",
     "output_type": "stream",
     "text": [
      "Score test: 0.978805\n"
     ]
    }
   ],
   "source": [
    "print(\"Score test: %f\" %clf.score(X_test, y_test))"
   ]
  },
  {
   "cell_type": "code",
   "execution_count": 11,
   "metadata": {
    "collapsed": false
   },
   "outputs": [
    {
     "name": "stdout",
     "output_type": "stream",
     "text": [
      "Score train: 0.956162\n",
      "Score test: 0.932563\n"
     ]
    }
   ],
   "source": [
    "clf = tree.DecisionTreeClassifier(max_leaf_nodes=20)\n",
    "clf=clf.fit(X_train, y_train)\n",
    "print(\"Score train: %f\" % clf.score(X_train, y_train))\n",
    "print(\"Score test: %f\" % clf.score(X_test, y_test))"
   ]
  },
  {
   "cell_type": "markdown",
   "metadata": {},
   "source": [
    "Se itera sobre la cantidad de nodos máxima requerida testeando la performance con ambos datasets."
   ]
  },
  {
   "cell_type": "code",
   "execution_count": 13,
   "metadata": {
    "collapsed": false
   },
   "outputs": [],
   "source": [
    "xdata1 = []\n",
    "yserie1 = []\n",
    "yserie2 = []\n",
    "for i in range(2,70,1):\n",
    "    clf = tree.DecisionTreeClassifier(max_leaf_nodes=i).fit(X_train, y_train)\n",
    "    \n",
    "    xdata1.append(clf.tree_.node_count)\n",
    "    yserie1.append(clf.score(X_train, y_train))\n",
    "    yserie2.append(clf.score(X_test,y_test))"
   ]
  },
  {
   "cell_type": "markdown",
   "metadata": {},
   "source": [
    "Se grafican las series del paso anterior ('rojo': train set. 'azul': test set). <br>\n",
    "Eje-x: Cantidad de nodos máxima del árbol<br>\n",
    "Eje-y: Performance (score)"
   ]
  },
  {
   "cell_type": "code",
   "execution_count": 14,
   "metadata": {
    "collapsed": false
   },
   "outputs": [
    {
     "name": "stdout",
     "output_type": "stream",
     "text": [
      "Populating the interactive namespace from numpy and matplotlib\n"
     ]
    },
    {
     "name": "stderr",
     "output_type": "stream",
     "text": [
      "WARNING: pylab import has clobbered these variables: ['clf']\n",
      "`%matplotlib` prevents importing * from pylab and numpy\n"
     ]
    },
    {
     "data": {
      "image/png": "[encoded data removed]",
      "text/plain": [
       "<matplotlib.figure.Figure at 0x7fcf7cf076d0>"
      ]
     },
     "metadata": {},
     "output_type": "display_data"
    }
   ],
   "source": [
    "%pylab inline\n",
    "plot(xdata1, yserie1, color='r')\n",
    "plot(xdata1, yserie2, color='b')\n",
    "grid('on')"
   ]
  },
  {
   "cell_type": "markdown",
   "metadata": {},
   "source": [
    "Se introduce ruido en el 10% del conjunto de entrenamiento y se repiten las operaciones."
   ]
  },
  {
   "cell_type": "code",
   "execution_count": null,
   "metadata": {
    "collapsed": false
   },
   "outputs": [],
   "source": [
    "noise_idx = random.random(y_train.shape)\n",
    "y_train_with_noise = y_train.copy()\n",
    "y_train_with_noise[noise_idx<0.1] = floor(y_train_with_noise[noise_idx<0.1] - 1) * (-1)"
   ]
  },
  {
   "cell_type": "code",
   "execution_count": null,
   "metadata": {
    "collapsed": false
   },
   "outputs": [],
   "source": [
    "xdata1 = []\n",
    "yserie1 = []\n",
    "yserie2 = []\n",
    "for i in range(2,70,1):\n",
    "    clf = tree.DecisionTreeClassifier(max_leaf_nodes=i).fit(X_train, y_train_with_noise)\n",
    "    xdata1.append(clf.tree_.node_count)\n",
    "    yserie1.append(clf.score(X_train, y_train_with_noise))\n",
    "    yserie2.append(clf.score(X_test,y_test))"
   ]
  },
  {
   "cell_type": "code",
   "execution_count": null,
   "metadata": {
    "collapsed": false
   },
   "outputs": [],
   "source": [
    "#%pylab inline\n",
    "plot(xdata1, yserie1, color='r')\n",
    "plot(xdata1, yserie2, color='b')\n",
    "grid('on')"
   ]
  },
  {
   "cell_type": "markdown",
   "metadata": {},
   "source": [
    "Se introduce ruido en el 30% del conjunto de entrenamiento y se repiten las operaciones."
   ]
  },
  {
   "cell_type": "code",
   "execution_count": null,
   "metadata": {
    "collapsed": false
   },
   "outputs": [],
   "source": [
    "noise_idx = random.random(y_train.shape)\n",
    "y_train_with_noise = y_train.copy()\n",
    "y_train_with_noise[noise_idx<0.3] = floor(y_train_with_noise[noise_idx<0.3] - 1) * (-1)"
   ]
  },
  {
   "cell_type": "code",
   "execution_count": null,
   "metadata": {
    "collapsed": false
   },
   "outputs": [],
   "source": [
    "xdata1 = []\n",
    "yserie1 = []\n",
    "yserie2 = []\n",
    "for i in range(2,70,1):\n",
    "    clf = tree.DecisionTreeClassifier(max_leaf_nodes=i).fit(X_train, y_train_with_noise)\n",
    "    xdata1.append(clf.tree_.node_count)\n",
    "    yserie1.append(clf.score(X_train, y_train_with_noise))\n",
    "    yserie2.append(clf.score(X_test,y_test))"
   ]
  },
  {
   "cell_type": "code",
   "execution_count": null,
   "metadata": {
    "collapsed": false
   },
   "outputs": [],
   "source": [
    "#%pylab inline\n",
    "plot(xdata1, yserie1, color='r')\n",
    "plot(xdata1, yserie2, color='b')\n",
    "grid('on')"
   ]
  },
  {
   "cell_type": "markdown",
   "metadata": {},
   "source": [
    "Se introduce ruido en el 50% del conjunto de entrenamiento y se repiten las operaciones."
   ]
  },
  {
   "cell_type": "code",
   "execution_count": null,
   "metadata": {
    "collapsed": false
   },
   "outputs": [],
   "source": [
    "noise_idx = random.random(y_train.shape)\n",
    "y_train_with_noise = y_train.copy()\n",
    "y_train_with_noise[noise_idx<0.5] = floor(y_train_with_noise[noise_idx<0.5] - 1) * (-1)"
   ]
  },
  {
   "cell_type": "code",
   "execution_count": null,
   "metadata": {
    "collapsed": false
   },
   "outputs": [],
   "source": [
    "xdata1 = []\n",
    "yserie1 = []\n",
    "yserie2 = []\n",
    "for i in range(2,70,1):\n",
    "    clf = tree.DecisionTreeClassifier(max_leaf_nodes=i).fit(X_train, y_train_with_noise)\n",
    "    xdata1.append(clf.tree_.node_count)\n",
    "    yserie1.append(clf.score(X_train, y_train_with_noise))\n",
    "    yserie2.append(clf.score(X_test,y_test))"
   ]
  },
  {
   "cell_type": "code",
   "execution_count": null,
   "metadata": {
    "collapsed": false
   },
   "outputs": [],
   "source": [
    "#%pylab inline\n",
    "plot(xdata1, yserie1, color='r')\n",
    "plot(xdata1, yserie2, color='b')\n",
    "grid('on')"
   ]
  },
  {
   "cell_type": "markdown",
   "metadata": {},
   "source": [
    "Se introduce ruido en el 80% del conjunto de entrenamiento y se repiten las operaciones."
   ]
  },
  {
   "cell_type": "code",
   "execution_count": null,
   "metadata": {
    "collapsed": false
   },
   "outputs": [],
   "source": [
    "noise_idx = random.random(y_train.shape)\n",
    "y_train_with_noise = y_train.copy()\n",
    "y_train_with_noise[noise_idx<0.8] = floor(y_train_with_noise[noise_idx<0.8] - 1) * (-1)"
   ]
  },
  {
   "cell_type": "code",
   "execution_count": null,
   "metadata": {
    "collapsed": false
   },
   "outputs": [],
   "source": [
    "xdata1 = []\n",
    "yserie1 = []\n",
    "yserie2 = []\n",
    "for i in range(2,70,1):\n",
    "    clf = tree.DecisionTreeClassifier(max_leaf_nodes=i).fit(X_train, y_train_with_noise)\n",
    "    xdata1.append(clf.tree_.node_count)\n",
    "    yserie1.append(clf.score(X_train, y_train_with_noise))\n",
    "    yserie2.append(clf.score(X_test,y_test))"
   ]
  },
  {
   "cell_type": "code",
   "execution_count": null,
   "metadata": {
    "collapsed": false
   },
   "outputs": [],
   "source": [
    "#%pylab inline\n",
    "plot(xdata1, yserie1, color='r')\n",
    "plot(xdata1, yserie2, color='b')\n",
    "grid('on')"
   ]
  }
 ],
 "metadata": {
  "kernelspec": {
   "display_name": "Python 2",
   "language": "python",
   "name": "python2"
  },
  "language_info": {
   "codemirror_mode": {
    "name": "ipython",
    "version": 2
   },
   "file_extension": ".py",
   "mimetype": "text/x-python",
   "name": "python",
   "nbconvert_exporter": "python",
   "pygments_lexer": "ipython2",
   "version": "2.7.6"
  }
 },
 "nbformat": 4,
 "nbformat_minor": 0
}
