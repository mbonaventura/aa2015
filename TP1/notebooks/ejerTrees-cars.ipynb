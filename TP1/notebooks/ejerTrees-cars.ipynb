{
 "metadata": {
  "name": ""
 },
 "nbformat": 3,
 "nbformat_minor": 0,
 "worksheets": [
  {
   "cells": [
    {
     "cell_type": "markdown",
     "metadata": {},
     "source": [
      "<h3>Pr\u00e1ctica de Overfitting</h3>\n",
      "Para este ejercicio se utiliz\u00f3 el \"Car Evaluation Data Set\": https://archive.ics.uci.edu/ml/datasets/Car+Evaluation\n",
      "Este conjunto de datos contiene 1728 observaciones con 6 atributos y 4 categor\u00edas. Los valores de los atributos representan caracter\u00edsticas de los autom\u00f3viles para su evaluaci\u00f3n (unnac, acc, good, v-good), tales como:\n",
      "<pre>\n",
      "   buying       v-high, high, med, low\n",
      "   maint        v-high, high, med, low\n",
      "   doors        2, 3, 4, 5-more\n",
      "   persons      2, 4, more\n",
      "   lug_boot     small, med, big\n",
      "   safety       low, med, high\n",
      "</pre>   \n",
      "Tanto los valores de las clases como de los atributos fueron converidos a num\u00e9rico en [1-4]. Las clases se encuentran desbalanceadas en cuanto a la cantidad de observaciones, tal como:\n",
      "<pre>\n",
      "   class      N          N[%]\n",
      "   -----------------------------\n",
      "   unacc     1210     (70.023 %) \n",
      "   acc        384     (22.222 %) \n",
      "   good        69     ( 3.993 %) \n",
      "   v-good      65     ( 3.762 %)\n",
      "</pre>   "
     ]
    },
    {
     "cell_type": "markdown",
     "metadata": {},
     "source": [
      "Luego de procesado el archivo, se carga al array data[]"
     ]
    },
    {
     "cell_type": "code",
     "collapsed": false,
     "input": [
      "data = []\n",
      "with open(\"/home/tolosoft/Escritorio/aa/lab/c2/myejer/car.data.csv\", \"r\") as fin:\n",
      "    for line in fin:\n",
      "        data.append(line.strip().split(\",\"))"
     ],
     "language": "python",
     "metadata": {},
     "outputs": [],
     "prompt_number": 143
    },
    {
     "cell_type": "markdown",
     "metadata": {},
     "source": [
      "Se pasa a un array de numpy (para extraer las columnas) y se separan los atributos de las clases correspondientes (targets)"
     ]
    },
    {
     "cell_type": "code",
     "collapsed": false,
     "input": [
      "import numpy as np\n",
      "\n",
      "np_data = np.asarray(data).astype('int')\n",
      "targets_data = np_data[:,6]\n",
      "x_data = np_data[:,0:6]"
     ],
     "language": "python",
     "metadata": {},
     "outputs": [],
     "prompt_number": 144
    },
    {
     "cell_type": "markdown",
     "metadata": {},
     "source": [
      "Usando el m\u00f3dulo 'cross validation' se separa en dos conjuntos de 'train' y 'test' en una proporci\u00f3n 70-30 respectivamente."
     ]
    },
    {
     "cell_type": "code",
     "collapsed": false,
     "input": [
      "from sklearn import cross_validation\n",
      "\n",
      "X_train, X_test, y_train, y_test = cross_validation.train_test_split(x_data, targets_data, test_size=0.3, random_state=0)"
     ],
     "language": "python",
     "metadata": {},
     "outputs": [],
     "prompt_number": 145
    },
    {
     "cell_type": "code",
     "collapsed": false,
     "input": [
      "print X_train.shape, y_train.shape, X_test.shape, y_test.shape\n"
     ],
     "language": "python",
     "metadata": {},
     "outputs": [
      {
       "output_type": "stream",
       "stream": "stdout",
       "text": [
        "(1209, 6) (1209,) (519, 6) (519,)\n"
       ]
      }
     ],
     "prompt_number": 146
    },
    {
     "cell_type": "markdown",
     "metadata": {},
     "source": [
      "Se entrena un clasificador (\u00e1rbol) sin limites"
     ]
    },
    {
     "cell_type": "code",
     "collapsed": false,
     "input": [
      "from sklearn import tree\n",
      "clf = tree.DecisionTreeClassifier()\n",
      "clf = clf.fit(X_train, y_train)"
     ],
     "language": "python",
     "metadata": {},
     "outputs": [],
     "prompt_number": 147
    },
    {
     "cell_type": "code",
     "collapsed": false,
     "input": [
      "clf.tree_.node_count"
     ],
     "language": "python",
     "metadata": {},
     "outputs": [
      {
       "metadata": {},
       "output_type": "pyout",
       "prompt_number": 148,
       "text": [
        "133"
       ]
      }
     ],
     "prompt_number": 148
    },
    {
     "cell_type": "code",
     "collapsed": false,
     "input": [
      "clf.score(X_train, y_train)"
     ],
     "language": "python",
     "metadata": {},
     "outputs": [
      {
       "metadata": {},
       "output_type": "pyout",
       "prompt_number": 149,
       "text": [
        "1.0"
       ]
      }
     ],
     "prompt_number": 149
    },
    {
     "cell_type": "markdown",
     "metadata": {},
     "source": [
      "Se testea la performance con el dataset de 'test'"
     ]
    },
    {
     "cell_type": "code",
     "collapsed": false,
     "input": [
      "clf.score(X_test, y_test)"
     ],
     "language": "python",
     "metadata": {},
     "outputs": [
      {
       "metadata": {},
       "output_type": "pyout",
       "prompt_number": 150,
       "text": [
        "0.97687861271676302"
       ]
      }
     ],
     "prompt_number": 150
    },
    {
     "cell_type": "code",
     "collapsed": false,
     "input": [
      "clf = tree.DecisionTreeClassifier(max_leaf_nodes=20)\n",
      "clf=clf.fit(X_train, y_train)\n",
      "clf.score(X_train, y_train)"
     ],
     "language": "python",
     "metadata": {},
     "outputs": [
      {
       "metadata": {},
       "output_type": "pyout",
       "prompt_number": 151,
       "text": [
        "0.95616211745244006"
       ]
      }
     ],
     "prompt_number": 151
    },
    {
     "cell_type": "markdown",
     "metadata": {},
     "source": [
      "Se itera sobre la cantidad de nodos m\u00e1xima requerida testeando la performance con ambos datasets."
     ]
    },
    {
     "cell_type": "code",
     "collapsed": false,
     "input": [
      "xdata1 = []\n",
      "yserie1 = []\n",
      "yserie2 = []\n",
      "for i in range(2,70,1):\n",
      "    clf = tree.DecisionTreeClassifier(max_leaf_nodes=i).fit(X_train, y_train)\n",
      "    xdata1.append(clf.tree_.node_count)\n",
      "    yserie1.append(clf.score(X_train, y_train))\n",
      "    yserie2.append(clf.score(X_test,y_test))"
     ],
     "language": "python",
     "metadata": {},
     "outputs": [],
     "prompt_number": 152
    },
    {
     "cell_type": "markdown",
     "metadata": {},
     "source": [
      "Se grafican las series del paso anterior ('rojo': train set. 'azul': test set). <br>\n",
      "Eje-x: Cantidad de nodos m\u00e1xima del \u00e1rbol<br>\n",
      "Eje-y: Performance (score)"
     ]
    },
    {
     "cell_type": "code",
     "collapsed": false,
     "input": [
      "%pylab inline\n",
      "plot(xdata1, yserie1, color='r')\n",
      "plot(xdata1, yserie2, color='b')\n",
      "grid('on')"
     ],
     "language": "python",
     "metadata": {},
     "outputs": [
      {
       "output_type": "stream",
       "stream": "stdout",
       "text": [
        "Populating the interactive namespace from numpy and matplotlib\n"
       ]
      },
      {
       "output_type": "stream",
       "stream": "stderr",
       "text": [
        "WARNING: pylab import has clobbered these variables: ['clf']\n",
        "`%pylab --no-import-all` prevents importing * from pylab and numpy\n"
       ]
      },
      {
       "metadata": {},
       "output_type": "display_data",
       "png": "[encoded data removed]",
       "text": [
        "<matplotlib.figure.Figure at 0x7f80dab80c10>"
       ]
      }
     ],
     "prompt_number": 153
    },
    {
     "cell_type": "markdown",
     "metadata": {},
     "source": [
      "Se introduce ruido en el 10% del conjunto de entrenamiento y se repiten las operaciones."
     ]
    },
    {
     "cell_type": "code",
     "collapsed": false,
     "input": [
      "noise_idx = random.random(y_train.shape)\n",
      "y_train_with_noise = y_train.copy()\n",
      "y_train_with_noise[noise_idx<0.1] = floor(y_train_with_noise[noise_idx<0.1] - 1) * (-1)"
     ],
     "language": "python",
     "metadata": {},
     "outputs": [],
     "prompt_number": 154
    },
    {
     "cell_type": "code",
     "collapsed": false,
     "input": [
      "xdata1 = []\n",
      "yserie1 = []\n",
      "yserie2 = []\n",
      "for i in range(2,70,1):\n",
      "    clf = tree.DecisionTreeClassifier(max_leaf_nodes=i).fit(X_train, y_train_with_noise)\n",
      "    xdata1.append(clf.tree_.node_count)\n",
      "    yserie1.append(clf.score(X_train, y_train_with_noise))\n",
      "    yserie2.append(clf.score(X_test,y_test))"
     ],
     "language": "python",
     "metadata": {},
     "outputs": [],
     "prompt_number": 155
    },
    {
     "cell_type": "code",
     "collapsed": false,
     "input": [
      "#%pylab inline\n",
      "plot(xdata1, yserie1, color='r')\n",
      "plot(xdata1, yserie2, color='b')\n",
      "grid('on')"
     ],
     "language": "python",
     "metadata": {},
     "outputs": [
      {
       "metadata": {},
       "output_type": "display_data",
       "png": "[encoded data removed]",
       "text": [
        "<matplotlib.figure.Figure at 0x7f80daa72650>"
       ]
      }
     ],
     "prompt_number": 156
    },
    {
     "cell_type": "markdown",
     "metadata": {},
     "source": [
      "Se introduce ruido en el 30% del conjunto de entrenamiento y se repiten las operaciones."
     ]
    },
    {
     "cell_type": "code",
     "collapsed": false,
     "input": [
      "noise_idx = random.random(y_train.shape)\n",
      "y_train_with_noise = y_train.copy()\n",
      "y_train_with_noise[noise_idx<0.3] = floor(y_train_with_noise[noise_idx<0.3] - 1) * (-1)"
     ],
     "language": "python",
     "metadata": {},
     "outputs": [],
     "prompt_number": 157
    },
    {
     "cell_type": "code",
     "collapsed": false,
     "input": [
      "xdata1 = []\n",
      "yserie1 = []\n",
      "yserie2 = []\n",
      "for i in range(2,70,1):\n",
      "    clf = tree.DecisionTreeClassifier(max_leaf_nodes=i).fit(X_train, y_train_with_noise)\n",
      "    xdata1.append(clf.tree_.node_count)\n",
      "    yserie1.append(clf.score(X_train, y_train_with_noise))\n",
      "    yserie2.append(clf.score(X_test,y_test))"
     ],
     "language": "python",
     "metadata": {},
     "outputs": [],
     "prompt_number": 158
    },
    {
     "cell_type": "code",
     "collapsed": false,
     "input": [
      "#%pylab inline\n",
      "plot(xdata1, yserie1, color='r')\n",
      "plot(xdata1, yserie2, color='b')\n",
      "grid('on')"
     ],
     "language": "python",
     "metadata": {},
     "outputs": [
      {
       "metadata": {},
       "output_type": "display_data",
       "png": "[encoded data removed]",
       "text": [
        "<matplotlib.figure.Figure at 0x7f80d86d0b50>"
       ]
      }
     ],
     "prompt_number": 159
    },
    {
     "cell_type": "markdown",
     "metadata": {},
     "source": [
      "Se introduce ruido en el 50% del conjunto de entrenamiento y se repiten las operaciones."
     ]
    },
    {
     "cell_type": "code",
     "collapsed": false,
     "input": [
      "noise_idx = random.random(y_train.shape)\n",
      "y_train_with_noise = y_train.copy()\n",
      "y_train_with_noise[noise_idx<0.5] = floor(y_train_with_noise[noise_idx<0.5] - 1) * (-1)"
     ],
     "language": "python",
     "metadata": {},
     "outputs": [],
     "prompt_number": 160
    },
    {
     "cell_type": "code",
     "collapsed": false,
     "input": [
      "xdata1 = []\n",
      "yserie1 = []\n",
      "yserie2 = []\n",
      "for i in range(2,70,1):\n",
      "    clf = tree.DecisionTreeClassifier(max_leaf_nodes=i).fit(X_train, y_train_with_noise)\n",
      "    xdata1.append(clf.tree_.node_count)\n",
      "    yserie1.append(clf.score(X_train, y_train_with_noise))\n",
      "    yserie2.append(clf.score(X_test,y_test))"
     ],
     "language": "python",
     "metadata": {},
     "outputs": [],
     "prompt_number": 161
    },
    {
     "cell_type": "code",
     "collapsed": false,
     "input": [
      "#%pylab inline\n",
      "plot(xdata1, yserie1, color='r')\n",
      "plot(xdata1, yserie2, color='b')\n",
      "grid('on')"
     ],
     "language": "python",
     "metadata": {},
     "outputs": [
      {
       "metadata": {},
       "output_type": "display_data",
       "png": "[encoded data removed]",
       "text": [
        "<matplotlib.figure.Figure at 0x7f80d8760390>"
       ]
      }
     ],
     "prompt_number": 162
    },
    {
     "cell_type": "markdown",
     "metadata": {},
     "source": [
      "Se introduce ruido en el 80% del conjunto de entrenamiento y se repiten las operaciones."
     ]
    },
    {
     "cell_type": "code",
     "collapsed": false,
     "input": [
      "noise_idx = random.random(y_train.shape)\n",
      "y_train_with_noise = y_train.copy()\n",
      "y_train_with_noise[noise_idx<0.8] = floor(y_train_with_noise[noise_idx<0.8] - 1) * (-1)"
     ],
     "language": "python",
     "metadata": {},
     "outputs": [],
     "prompt_number": 163
    },
    {
     "cell_type": "code",
     "collapsed": false,
     "input": [
      "xdata1 = []\n",
      "yserie1 = []\n",
      "yserie2 = []\n",
      "for i in range(2,70,1):\n",
      "    clf = tree.DecisionTreeClassifier(max_leaf_nodes=i).fit(X_train, y_train_with_noise)\n",
      "    xdata1.append(clf.tree_.node_count)\n",
      "    yserie1.append(clf.score(X_train, y_train_with_noise))\n",
      "    yserie2.append(clf.score(X_test,y_test))"
     ],
     "language": "python",
     "metadata": {},
     "outputs": [],
     "prompt_number": 164
    },
    {
     "cell_type": "code",
     "collapsed": false,
     "input": [
      "#%pylab inline\n",
      "plot(xdata1, yserie1, color='r')\n",
      "plot(xdata1, yserie2, color='b')\n",
      "grid('on')"
     ],
     "language": "python",
     "metadata": {},
     "outputs": [
      {
       "metadata": {},
       "output_type": "display_data",
       "png": "[encoded data removed]",
       "text": [
        "<matplotlib.figure.Figure at 0x7f80d87b5710>"
       ]
      }
     ],
     "prompt_number": 165
    }
   ],
   "metadata": {}
  }
 ]
}