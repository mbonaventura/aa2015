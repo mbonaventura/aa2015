{
 "metadata": {
  "name": ""
 },
 "nbformat": 3,
 "nbformat_minor": 0,
 "worksheets": [
  {
   "cells": [
    {
     "cell_type": "markdown",
     "metadata": {},
     "source": [
      "<h3>Text Tools - Scripts utilizados para el preprocesamiento de las noticias </h3>"
     ]
    },
    {
     "cell_type": "markdown",
     "metadata": {},
     "source": [
      "<h4>Script de limpieza de caracteres 'raros' y normalizaci\u00f3n </h4>\n",
      "El script recibe como par\u00e1metro el nombre del archivo de noticias y la salida debe ser redirigida (\">\") a un archivo"
     ]
    },
    {
     "cell_type": "code",
     "collapsed": false,
     "input": [
      "# -*- coding: utf-8 -*- \n",
      "import re\n",
      "import sys\n",
      "import string\n",
      "import codecs\n",
      "reload(sys)\n",
      "\n",
      "def clean(line):\n",
      "\tline = re.sub(u'\\xe1', \"a\", line)\n",
      "\tline = re.sub(u'\\xe9', \"e\", line)\n",
      "\tline = re.sub(u'\\xed', \"i\", line)\n",
      "\tline = re.sub(u'\\xf3', \"o\", line)\n",
      "\tline = re.sub(u'\\xfa', \"u\", line)\n",
      "\tline = re.sub(u'\\xfc', \"\", line)\n",
      "\tline = re.sub(u'\\xf1', \"n\", line)\n",
      "\tline = re.sub(u'\\xab', \"\", line)\n",
      "\tline = re.sub(u'\\xa1', \"\", line)\n",
      "\tline = re.sub(u'\\xbb', \"\", line)\n",
      "\tline = re.sub(u'\\xbf', \"\", line)\n",
      "\tline = re.sub(u'\\xe8', \"\", line)\n",
      "\tline = re.sub(u'\\xb0', \"\", line)\n",
      "\tline = re.sub(u'\\xb4', \"\", line)\n",
      "\tline = re.sub(u'\\xf6', \"\", line)\t\n",
      "\tline = re.sub(u'\\xdf', \"\", line)\n",
      "\tline = re.sub(u'\\xef', \"\", line)\n",
      "\tline = re.sub(u'\\xe2', \"\", line)\n",
      "\tline = re.sub(u'\\xe0', \"\", line)\t\t\t\n",
      "\tline = re.sub(u'\\xec', \"\", line)\t\n",
      "\tline = re.sub(u'\\xad', \"\", line)\n",
      "\tline = re.sub(u'\\xba', \"\", line)\n",
      "\tline = re.sub(u'\\xaa', \"\", line)\n",
      "\tline = re.sub(u'\\xea', \"\", line)\n",
      "\tline = re.sub(u'\\xe4', \"\", line)\n",
      "\tline = re.sub(u'\\xf2', \"\", line)\n",
      "\tline = re.sub(u'\\xe7', \"\", line)\n",
      "\tline = re.sub(u'\\xe3', \"\", line)\t\t\t\t\n",
      "\tline = re.sub(u'\\xf4', \"\", line)\n",
      "\tline = re.sub(u'\\xb7', \"\", line)\n",
      "\tline = re.sub(u'\\xa8', \"\", line)\n",
      "\tline = re.sub(u'\\xeb', \"\", line)\n",
      "\tline = re.sub(u'\\xfb', \"\", line)\n",
      "\tline = re.sub(u'\\xae', \"\", line)\t\t\n",
      "\tline = re.sub(u'\\xf0', \"\", line)\n",
      "\tline = re.sub(u'\\x81', \"\", line)\t\n",
      "\tline = re.sub(u'\\u2013', \"\", line)\n",
      "\tline = re.sub(u'\\u2026', \"\", line)\n",
      "\tline = re.sub(u'\\u2019', \"\", line)\t\t\t\t\t\t\t\t\t\t\t\t\t\n",
      "\tline = re.sub(r'\"',' ', line)\n",
      "\t#\n",
      "\tline = re.sub(r',',' ', line)\n",
      "\tline = re.sub(r'\\.',' ', line)\n",
      "\tline = re.sub(r'-',' ', line)\n",
      "\tline = re.sub(r'\\(',' ', line)\n",
      "\tline = re.sub(r'\\)',' ', line)\n",
      "\tline = re.sub(r':',' ', line)\n",
      "\tline = re.sub(r'%',' ', line)\n",
      "\tline = re.sub(r'\\'',' ', line)\n",
      "\tline = re.sub(r'\\?',' ', line)\n",
      "\tline = re.sub(r'\\\u00bf',' ', line)\t\n",
      "\tline = re.sub(r'\\$',' ', line)\t\n",
      "\tline = re.sub(r'&',' ', line)\n",
      "\tline = re.sub(r'  ',' ', line)\n",
      "\treturn line\n",
      "\n",
      "#----------------------------------------------------------------------------------------\n",
      "# Main\n",
      "#----------------------------------------------------------------------------------------\n",
      "sys.setdefaultencoding('utf-8')\n",
      "\n",
      "infile = sys.argv[1]\n",
      "infile = codecs.open(infile, encoding='utf-8')\n",
      "#\t\n",
      "words = {}\n",
      "line =\"\"\n",
      "for line in hfile.readlines():\n",
      "\tline = line.decode('utf-8')\n",
      "\tline = line.strip().lower()\n",
      "\tline = clean(line)\n",
      "\tprint line\n",
      "#"
     ],
     "language": "python",
     "metadata": {},
     "outputs": [
      {
       "ename": "IOError",
       "evalue": "[Errno 2] No such file or directory: ''",
       "output_type": "pyerr",
       "traceback": [
        "\u001b[0;31m---------------------------------------------------------------------------\u001b[0m\n\u001b[0;31mIOError\u001b[0m                                   Traceback (most recent call last)",
        "\u001b[0;32m<ipython-input-4-095fda359e1e>\u001b[0m in \u001b[0;36m<module>\u001b[0;34m()\u001b[0m\n\u001b[1;32m     70\u001b[0m \u001b[0minfile\u001b[0m \u001b[0;34m=\u001b[0m \u001b[0msys\u001b[0m\u001b[0;34m.\u001b[0m\u001b[0margv\u001b[0m\u001b[0;34m[\u001b[0m\u001b[0;36m1\u001b[0m\u001b[0;34m]\u001b[0m\u001b[0;34m\u001b[0m\u001b[0m\n\u001b[1;32m     71\u001b[0m \u001b[0minfile\u001b[0m \u001b[0;34m=\u001b[0m \u001b[0;34m\"\"\u001b[0m\u001b[0;34m\u001b[0m\u001b[0m\n\u001b[0;32m---> 72\u001b[0;31m \u001b[0mhfile\u001b[0m \u001b[0;34m=\u001b[0m \u001b[0mcodecs\u001b[0m\u001b[0;34m.\u001b[0m\u001b[0mopen\u001b[0m\u001b[0;34m(\u001b[0m\u001b[0minfile\u001b[0m\u001b[0;34m,\u001b[0m \u001b[0mencoding\u001b[0m\u001b[0;34m=\u001b[0m\u001b[0;34m'utf-8'\u001b[0m\u001b[0;34m)\u001b[0m\u001b[0;34m\u001b[0m\u001b[0m\n\u001b[0m\u001b[1;32m     73\u001b[0m \u001b[0;31m#\u001b[0m\u001b[0;34m\u001b[0m\u001b[0;34m\u001b[0m\u001b[0m\n\u001b[1;32m     74\u001b[0m \u001b[0mwords\u001b[0m \u001b[0;34m=\u001b[0m \u001b[0;34m{\u001b[0m\u001b[0;34m}\u001b[0m\u001b[0;34m\u001b[0m\u001b[0m\n",
        "\u001b[0;32m/usr/lib/python2.7/codecs.pyc\u001b[0m in \u001b[0;36mopen\u001b[0;34m(filename, mode, encoding, errors, buffering)\u001b[0m\n\u001b[1;32m    876\u001b[0m             \u001b[0;31m# Force opening of the file in binary mode\u001b[0m\u001b[0;34m\u001b[0m\u001b[0;34m\u001b[0m\u001b[0m\n\u001b[1;32m    877\u001b[0m             \u001b[0mmode\u001b[0m \u001b[0;34m=\u001b[0m \u001b[0mmode\u001b[0m \u001b[0;34m+\u001b[0m \u001b[0;34m'b'\u001b[0m\u001b[0;34m\u001b[0m\u001b[0m\n\u001b[0;32m--> 878\u001b[0;31m     \u001b[0mfile\u001b[0m \u001b[0;34m=\u001b[0m \u001b[0m__builtin__\u001b[0m\u001b[0;34m.\u001b[0m\u001b[0mopen\u001b[0m\u001b[0;34m(\u001b[0m\u001b[0mfilename\u001b[0m\u001b[0;34m,\u001b[0m \u001b[0mmode\u001b[0m\u001b[0;34m,\u001b[0m \u001b[0mbuffering\u001b[0m\u001b[0;34m)\u001b[0m\u001b[0;34m\u001b[0m\u001b[0m\n\u001b[0m\u001b[1;32m    879\u001b[0m     \u001b[0;32mif\u001b[0m \u001b[0mencoding\u001b[0m \u001b[0;32mis\u001b[0m \u001b[0mNone\u001b[0m\u001b[0;34m:\u001b[0m\u001b[0;34m\u001b[0m\u001b[0m\n\u001b[1;32m    880\u001b[0m         \u001b[0;32mreturn\u001b[0m \u001b[0mfile\u001b[0m\u001b[0;34m\u001b[0m\u001b[0m\n",
        "\u001b[0;31mIOError\u001b[0m: [Errno 2] No such file or directory: ''"
       ]
      }
     ],
     "prompt_number": 4
    },
    {
     "cell_type": "code",
     "collapsed": false,
     "input": [],
     "language": "python",
     "metadata": {},
     "outputs": []
    }
   ],
   "metadata": {}
  }
 ]
}