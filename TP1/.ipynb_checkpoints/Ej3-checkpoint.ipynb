{
 "metadata": {
  "name": ""
 },
 "nbformat": 3,
 "nbformat_minor": 0,
 "worksheets": [
  {
   "cells": [
    {
     "cell_type": "markdown",
     "metadata": {},
     "source": [
      "<h3>Introducci\u00f3n</h3>\n",
      "\n",
      "La clasificaci\u00f3n de textos consiste en asignar a diferentes documentos una etiqueta que representa la 'clase' a la que pertenece. Es otro caso de aprendizaje supervisado en el que se entrena al clasificador con instancias de ejemplo que le permiten construir un modelo para luego poder 'predecir' la clase de nuevas observaciones. En estos casos, las 'features' que describen los documentos son las diferentes palabras (o gen\u00e9ricamente, 'tokens') que aparecen ponderadas, por ejemplo, de acuerdo a su frecuencia.\n",
      "\n",
      "Uno de los modelos para clasificaci\u00f3n de textos mas utilizados es el basado en el teorema de Bayes, conocido como Na\u00efve Bayes. En general, produce resultados comparables a modelos mas complejos pero es sencillo de implementar y es eficiente en tiempo de ejecuci\u00f3n. La suposici\u00f3n mas fuerte que se requiere es asumir que los t\u00e9rminos en un documento son todos independientes entre s\u00ed, lo cual ignora la naturaleza y estructura del lenguaje (de ah\u00ed el nombre de 'Na\u00efve' o ingenuo). No obstante, es uno de los clasificadores m\u00e1s utilizados en la pr\u00e1ctica.\n",
      "\n",
      "Uno de los ejemplos cl\u00e1sicos de clasificaci\u00f3n de texto es el etiquetado de noticias, las cuales pueden ser de clases diversas (deportes, pol\u00edtica, espect\u00e1culos, etc.) y se requiere construir un modelo que pueda predecir con una precisi\u00f3n aceptable a qu\u00e9 clase pertenecen nuevas noticias que aparecen luego.\n",
      "\n",
      "En este caso se utiliza el clasificador bayesiano provisto por la librer\u00eda Sk-Learn. Existen variantes de Naive Bayes que asumen modelos diferentes para ponderar las 'features'. En el caso de la clasificaci\u00f3n de textos, el mas usado en el modelo Multinomial, para features discretas (la frecuencia de los tokens). Otros casos son el clasificador bayesiano que usa un modelo de Bernoulli (pondera las features como boleanas) y el Gausiano (asume que la verosimilitud de las features es gausiana, es decir, una variable aleatoria continua con distribuci\u00f3n normal). De acuerdo a lo mencionado, en estos experimentos, se utiliza el modelo Multinomial. "
     ]
    },
    {
     "cell_type": "markdown",
     "metadata": {},
     "source": [
      "<h3>Experimentos con el clasificador Naive Bayes</h3>\n",
      "\n",
      "<h4>Preparaci\u00f3n de los datos</h4>\n",
      "\n",
      "Para este ejercicio se utiliz\u00f3 el corpus de noticias provisto por el equipo docente (16582 noticias divididas en 9 categor\u00edas). El primer paso consisti\u00f3 en la normalizaci\u00f3n y limpieza de los datos, previa a la tokenizaci\u00f3n. Este \u00faltimo paso consiste extraer aquellas 'cadenas' de texto que se van a utilizar para describirlo (tokens). \n",
      "\n",
      "La normalizaci\u00f3n y limpieza son tareas comunes (y necesarias) en procesamiento de texto. B\u00e1sicamente, se convierten todas la letras min\u00fasculas (o may\u00fasculas), se eliminan caracteres 'raros' (de acuerdo al esquema de codificaci\u00f3n elegido) y se reemplazan vocales acentuadas por su versi\u00f3n sin acento (y e\u00f1es por enes). Tambi\u00e9n se pueden eliminar palabras o modificar su morfolog\u00eda (esto se explicar\u00e1 mas adelante).\n",
      "\n",
      "El primer paso, entonces, fue tomar el archivo original de noticias y aplicar los diferentes procedimientos generando nuevas versiones del mismo. En la notebook 'text_tools' se encuentran los scripts utilizados en cada caso. Como resultado de este primer paso de limpieza y normalizaci\u00f3n se gener\u00f3 el archivo: notas_ln-clean-norm.csv\n",
      "\n",
      "La idea de de generar diferentes versiones del archivo de noticias con los datos ya procesados tiene la intenci\u00f3n de realizar esta tarea una \u00fanica vez (en vez de repetirla por cada experimento).\n"
     ]
    },
    {
     "cell_type": "markdown",
     "metadata": {},
     "source": [
      "<h4>Experimento 1: Entrenamiento del clasificador y test inicial</h4>\n",
      "\n",
      "Inicialmente, se lee el archivo de noticias y se carga por un lado el texto (se concatenan los campos 'text' y 'title') y por otro la clase correspondiente ('topic'). Es importante mencionar que se realiza una clasificaci\u00f3n binaria (pertenece o no-pertenece a la clase). Como el dataset posee 9 clases (multi-labeled) se adopta una estrategia 'one-vs-all' que consiste en ajustar un clasificador por clase (la de inter\u00e9s vs el resto).\n",
      "\n",
      "El archivo de noticias de este experimento se puede descargar de: https://github.com/mbonaventura/aa2015/blob/master/TP1/data/notas_ln-clean-norm.csv"
     ]
    },
    {
     "cell_type": "code",
     "collapsed": false,
     "input": [
      "import sys\n",
      "import codecs\n",
      "\n",
      "hfile = codecs.open(\"./data/notas_ln-clean-norm.csv\", encoding='utf-8')\n",
      "\n",
      "X_data = []\n",
      "Y_data = []\n",
      "\n",
      "for line in hfile.readlines():\n",
      "    line_array = line.strip().split(';')\n",
      "    X_data.append(line_array[3] + ' ' + line_array[4])\n",
      "    Y_data.append(line_array[2].strip())"
     ],
     "language": "python",
     "metadata": {},
     "outputs": [],
     "prompt_number": 23
    },
    {
     "cell_type": "markdown",
     "metadata": {},
     "source": [
      "Luego de cargado el archivo, se calcula la distribuci\u00f3n de frecuencias de las longitudes de las noticias (eje-x). La idea es poder comparar mas adelante cuando se apliquen m\u00e9todos de reducci\u00f3n del vocabulario. "
     ]
    },
    {
     "cell_type": "code",
     "collapsed": false,
     "input": [
      "%pylab inline --no-import-all\n",
      "\n",
      "len_nws_full = []\n",
      "for nw in X_data:\n",
      "    words = nw.split()\n",
      "    len_nws_full.append(len(words))\n",
      "\n",
      "hist(len_nws_full, bins=50, histtype='stepfilled')\n",
      "xlabel('Longitud (palabras)')\n",
      "ylabel('Frecuencia')\n",
      "\n",
      "sts = np.array(len_nws_full)\n",
      "print \"Longitud media : %d palabras\" % sts.mean()"
     ],
     "language": "python",
     "metadata": {},
     "outputs": [
      {
       "output_type": "stream",
       "stream": "stdout",
       "text": [
        "Populating the interactive namespace from numpy and matplotlib\n",
        "Longitud media : 560 palabras"
       ]
      },
      {
       "output_type": "stream",
       "stream": "stdout",
       "text": [
        "\n"
       ]
      },
      {
       "metadata": {},
       "output_type": "display_data",
       "png": "[encoded data removed]",
       "text": [
        "<matplotlib.figure.Figure at 0x7f3775f64bd0>"
       ]
      }
     ],
     "prompt_number": 32
    },
    {
     "cell_type": "markdown",
     "metadata": {},
     "source": [
      "A continuaci\u00f3n, se instancia un 'vectorizer' (en este caso un CountVectorizer) que se encarga de convertir los documentos de texto en una estructura de datos con las frecuencias de los tokens. Como no se provee ning\u00fan criterio de selecci\u00f3n de los tokens a considerar, la cantidad de 'features' corresponde al vocabulario completo. "
     ]
    },
    {
     "cell_type": "code",
     "collapsed": false,
     "input": [
      "from sklearn.feature_extraction.text import CountVectorizer\n",
      "\n",
      "vectorizer = CountVectorizer(binary=False)"
     ],
     "language": "python",
     "metadata": {},
     "outputs": [],
     "prompt_number": 33
    },
    {
     "cell_type": "markdown",
     "metadata": {},
     "source": [
      "Luego, se separan los datos en sets de entrenamiento (train) y prueba (test). Se toma una partici\u00f3n de 70-30% de las noticias para train y test respectivamente. Luego, ambos conjuntos se 'vectorizan' para obtener una representaci\u00f3n num\u00e9rica."
     ]
    },
    {
     "cell_type": "code",
     "collapsed": false,
     "input": [
      "from sklearn.cross_validation import train_test_split\n",
      "\n",
      "X_train_text, X_test_text, y_train, y_test = train_test_split(X_data, Y_data, test_size=.3, random_state=0)\n",
      "\n",
      "X_train = vectorizer.fit_transform(X_train_text)\n",
      "X_test  = vectorizer.transform(X_test_text)"
     ],
     "language": "python",
     "metadata": {},
     "outputs": [],
     "prompt_number": 34
    },
    {
     "cell_type": "markdown",
     "metadata": {},
     "source": [
      "Como las clases est\u00e1n identificadas por su nombre (por ejemplo, 'deportes') se deben convertir a su valor binario (0 y 1) ya que - como se mencion\u00f3 - se realiza una clasificaci\u00f3n 'one-vs-all'. Dada una clase de inter\u00e9s, se setean las noticias de la misma en 1 (y el resto en 0). Esto se realiza tanto para los conjuntos (target) de train como de test."
     ]
    },
    {
     "cell_type": "code",
     "collapsed": false,
     "input": [
      "def setPositiveClass(topics, positive_class):\n",
      "    num_class = []\n",
      "    for top in topics:\n",
      "        if (top == positive_class):\n",
      "            num_class.append(1)\n",
      "        else:\n",
      "            num_class.append(0)\n",
      "    return num_class\n",
      "\n",
      "\n",
      "positive_class = \"deportes\"\n",
      "\n",
      "y_train = setPositiveClass(y_train, positive_class) \n",
      "y_test  = setPositiveClass(y_test, positive_class)\n",
      "\n",
      "\n",
      "print \"Cantidad de noticias de 'deportes' en el set de train: \", sum(y_train)\n",
      "print \"Cantidad de noticias de 'deportes' en el set de test : \", sum(y_test)"
     ],
     "language": "python",
     "metadata": {},
     "outputs": [
      {
       "output_type": "stream",
       "stream": "stdout",
       "text": [
        "Cantidad de noticias de 'deportes' en el set de train:  2604\n",
        "Cantidad de noticias de 'deportes' en el set de test :  1130\n"
       ]
      }
     ],
     "prompt_number": 27
    },
    {
     "cell_type": "markdown",
     "metadata": {},
     "source": [
      "Luego, se crea una instancia del clasificador Naive Bayes Multinomial de SK-Learn (http://scikit-learn.org/stable/modules/generated/sklearn.naive_bayes.MultinomialNB.html) con sus par\u00e1metros por defecto. Luego se entrena y testea con los datos correspondientes. Como salida (y_pred), se obtiene un arreglo con las clases predichas para el conjunto X_test."
     ]
    },
    {
     "cell_type": "code",
     "collapsed": false,
     "input": [
      "from sklearn.naive_bayes import MultinomialNB\n",
      "\n",
      "cls = MultinomialNB()\n",
      "y_pred = cls.fit(X_train, y_train).predict(X_test)"
     ],
     "language": "python",
     "metadata": {},
     "outputs": [],
     "prompt_number": 28
    },
    {
     "cell_type": "markdown",
     "metadata": {},
     "source": [
      "Utilizando la librer\u00eda de m\u00e9tricas, se calculan los par\u00e1metros de performance. A modo de ejemplo, aqu\u00ed se presentan los mas comunes: accuracy, precision, recall y f1. Luego, se seleccionar\u00e1 alguno de \u00e9stos apropiado para las comparaciones."
     ]
    },
    {
     "cell_type": "code",
     "collapsed": false,
     "input": [
      "from sklearn.metrics import *\n",
      "\n",
      "print \"Accuracy  %0.4f\" % accuracy_score(y_test, y_pred)\n",
      "print \"Precision %0.4f\" % precision_score(y_test, y_pred)\n",
      "print \"Recall    %0.4f\" % recall_score(y_test, y_pred)\n",
      "print \"f1        %0.4f\" % f1_score(y_test, y_pred)"
     ],
     "language": "python",
     "metadata": {},
     "outputs": [
      {
       "output_type": "stream",
       "stream": "stdout",
       "text": [
        "Accuracy  0.9881\n",
        "Precision 0.9803\n",
        "Recall    0.9673\n",
        "f1        0.9737\n"
       ]
      }
     ],
     "prompt_number": 29
    },
    {
     "cell_type": "markdown",
     "metadata": {},
     "source": [
      "Como se puede apreciar, el clasificador tiene una muy buena performance discriminando las noticias de 'deportes' del resto. Es capaz de etiquetar correctamente un 98% (precision) del set de test y hallar un 96% (recall) de las verdaderas de la clase. "
     ]
    },
    {
     "cell_type": "markdown",
     "metadata": {},
     "source": [
      "A continuaci\u00f3n, se presenta la matriz de confusi\u00f3n. La estructura de la misma es la siguiente:\n",
      "<pre>    \n",
      "           Clase Predicha\n",
      "             ---------\n",
      "             | 0 | 1 |\n",
      "         -------------     \n",
      "Clase    | 0 |TN |FP |\n",
      "         -------------\n",
      "Verdadera| 1 |FN |TP |\n",
      "         -------------\n",
      "</pre>\n",
      "\n",
      "Por lo que las noticias de 'deportes' (clase 1) correctamente predichas como 'deportes' (verdaderos positivos, TP) se encuentran en la celda (1,1)."
     ]
    },
    {
     "cell_type": "code",
     "collapsed": false,
     "input": [
      "cm = confusion_matrix(y_test, y_pred)\n",
      "\n",
      "print cm"
     ],
     "language": "python",
     "metadata": {},
     "outputs": [
      {
       "output_type": "stream",
       "stream": "stdout",
       "text": [
        "[[3823   22]\n",
        " [  37 1093]]\n"
       ]
      }
     ],
     "prompt_number": 30
    },
    {
     "cell_type": "markdown",
     "metadata": {},
     "source": [
      "Como se puede apreciar, de las 1130 noticias de deportes en el set de test, el clasificador etiquet\u00f3 correctamente 1093 (de ah\u00ed, los valores de Precision y Recall antes presentados).\n",
      "\n",
      "<h5> Experimento adicional </h5>\n",
      "A continuaci\u00f3n, se repite el experimento con la clase con la que el clasificador obtiene la peor performance ('cultura') y se presentan los valores de Recall y Precsision."
     ]
    },
    {
     "cell_type": "code",
     "collapsed": false,
     "input": [
      "X_train_text, X_test_text, y_train, y_test = train_test_split(X_data, Y_data, test_size=.3, random_state=0)\n",
      "X_train = vectorizer.fit_transform(X_train_text)\n",
      "X_test  = vectorizer.transform(X_test_text)\n",
      "\n",
      "positive_class = \"cultura\"\n",
      "y_train = setPositiveClass(y_train, positive_class) \n",
      "y_test  = setPositiveClass(y_test, positive_class)\n",
      "\n",
      "print \"Cantidad de noticias de 'cultura' en el set de train: \", sum(y_train)\n",
      "print \"Cantidad de noticias de 'cultura' en el set de test : \", sum(y_test)\n",
      "\n",
      "cls = MultinomialNB()\n",
      "y_pred = cls.fit(X_train, y_train).predict(X_test)\n",
      "\n",
      "print \"Precision %0.4f\" % precision_score(y_test, y_pred)\n",
      "print \"Recall    %0.4f\" % recall_score(y_test, y_pred)"
     ],
     "language": "python",
     "metadata": {},
     "outputs": [
      {
       "output_type": "stream",
       "stream": "stdout",
       "text": [
        "Cantidad de noticias de 'cultura' en el set de train:  650\n",
        "Cantidad de noticias de 'cultura' en el set de test :  269\n",
        "Precision 0.6199"
       ]
      },
      {
       "output_type": "stream",
       "stream": "stdout",
       "text": [
        "\n",
        "Recall    0.5093\n"
       ]
      }
     ],
     "prompt_number": 38
    },
    {
     "cell_type": "markdown",
     "metadata": {},
     "source": [
      "Aqu\u00ed el comportamiento dista bastante del alcanzado para la clase 'deportes'. Se estima que esto se debe a la menor cantidad de noticias disponibles para entrenar, lo que reduce la posibilidad de hallar palabras que discriminen mejor."
     ]
    },
    {
     "cell_type": "markdown",
     "metadata": {},
     "source": [
      "<h4>Experimento 2: Entrenamiento y test eliminando 'stopwords'</h4>\n",
      "\n",
      "En este experimento se utiliza una versi\u00f3n del archivo de noticias al que se le eliminaron las stopwords (en espa\u00f1ol, se suelen mencionar como 'palabras vac\u00edas'). Estas palabras carecen de significado (por ejemplo, los art\u00edculos, pronombres, preposiciones, etc.) y son eliminadas como parte del preprocesamiento de los textos. La eliminaci\u00f3n de stopwords reduce el espacio de 'features' y para algunas aplicaciones puede ser significativo en cuanto a la performance (en tiempo y espacio).\n",
      "\n",
      "Obviamente, las stopwords dependen de la lengua y si bien no hay una lista definitiva ya que para diferentes dominios se pueden agregar/quitar algunas, existe un conjunto b\u00e1sico usualmente considerado. En este caso, se arm\u00f3 un conjunto de palabras vac\u00edas combinando aquelas propuestas por el proyecto Snowball para el espa\u00f1ol (http://snowball.tartarus.org/algorithms/spanish/stop.txt) con las de 'Ranks NL Webmaster Tools' (http://www.ranks.nl/stopwords/spanish).\n",
      "\n",
      "El script para eliminar las palabras vac\u00edas tambi\u00e9n se encuentra en la notebook 'text_tools'. La lista de stopwords utilizada se encuentra en: https://github.com/mbonaventura/aa2015/blob/master/TP1/data/stopwords_spanish.txt\n",
      "\n",
      "El archivo de noticias de este experimento se puede descargar de: https://github.com/mbonaventura/aa2015/blob/master/TP1/data/notas_ln-clean-norm-nosw.csv"
     ]
    },
    {
     "cell_type": "code",
     "collapsed": false,
     "input": [
      "hfile = codecs.open(\"./data/notas_ln-clean-norm-nosw.csv\", encoding='utf-8')\n",
      "\n",
      "X_data = []\n",
      "Y_data = []\n",
      "\n",
      "for line in hfile.readlines():\n",
      "    line_array = line.strip().split(';')\n",
      "    X_data.append(line_array[3] + ' ' + line_array[4])\n",
      "    Y_data.append(line_array[2].strip())"
     ],
     "language": "python",
     "metadata": {},
     "outputs": [],
     "prompt_number": 43
    },
    {
     "cell_type": "markdown",
     "metadata": {},
     "source": [
      "Luego de cargado el nuevo archivo de noticias se vuelve a computar la distribuci\u00f3n de frecuencias y longitud media de las noticias."
     ]
    },
    {
     "cell_type": "code",
     "collapsed": false,
     "input": [
      "len_nws_nosw = []\n",
      "for nw in X_data:\n",
      "    words = nw.split()\n",
      "    len_nws_nosw.append(len(words))\n",
      "\n",
      "hist(len_nws_nosw, bins=50, histtype='stepfilled')\n",
      "xlabel('Longitud (palabras)')\n",
      "ylabel('Frecuencia')\n",
      "\n",
      "sts = np.array(len_nws_nosw)\n",
      "print \"Longitud media : %d palabras\" % sts.mean()"
     ],
     "language": "python",
     "metadata": {},
     "outputs": [
      {
       "output_type": "stream",
       "stream": "stdout",
       "text": [
        "Longitud media : 282 palabras\n"
       ]
      },
      {
       "metadata": {},
       "output_type": "display_data",
       "png": "[encoded data removed]",
       "text": [
        "<matplotlib.figure.Figure at 0x7f37763316d0>"
       ]
      }
     ],
     "prompt_number": 44
    },
    {
     "cell_type": "markdown",
     "metadata": {},
     "source": [
      "Como se puede apreciar, las noticias se redujeron considerablemente en longitud (ver escala del eje-x con respecto al gr\u00e1fico del dataset anterior). La media se redujo de 560 a 282 palabras al eliminar las stopwords.\n",
      "\n",
      "A continuaci\u00f3n, se repite el experimento con las nuevas representaciones de las noticias."
     ]
    },
    {
     "cell_type": "code",
     "collapsed": false,
     "input": [
      "vectorizer = CountVectorizer(binary=False)\n",
      "X_train_text, X_test_text, y_train, y_test = train_test_split(X_data, Y_data, test_size=.3, random_state=0)\n",
      "\n",
      "X_train = vectorizer.fit_transform(X_train_text)\n",
      "X_test  = vectorizer.transform(X_test_text)\n",
      "\n",
      "positive_class = \"deportes\"\n",
      "\n",
      "y_train = setPositiveClass(y_train, positive_class) \n",
      "y_test  = setPositiveClass(y_test, positive_class)\n",
      "\n",
      "print \"Cantidad de noticias de 'deportes' en el set de train: \", sum(y_train)\n",
      "print \"Cantidad de noticias de 'deportes' en el set de test : \", sum(y_test)\n",
      "\n",
      "\n",
      "cls = MultinomialNB()\n",
      "y_pred = cls.fit(X_train, y_train).predict(X_test)\n",
      "\n",
      "print \"Precision %0.4f\" % precision_score(y_test, y_pred)\n",
      "print \"Recall    %0.4f\" % recall_score(y_test, y_pred)\n",
      "\n",
      "cm = confusion_matrix(y_test, y_pred)\n",
      "\n",
      "print \"Matriz de Confusi\u00f3n\"\n",
      "print cm\n"
     ],
     "language": "python",
     "metadata": {},
     "outputs": [
      {
       "output_type": "stream",
       "stream": "stdout",
       "text": [
        "Cantidad de noticias de 'deportes' en el set de train:  2573\n",
        "Cantidad de noticias de 'deportes' en el set de test :  1137\n",
        "Precision 0.9754"
       ]
      },
      {
       "output_type": "stream",
       "stream": "stdout",
       "text": [
        "\n",
        "Recall    0.9754\n",
        "Matriz de Confusi\u00f3n\n",
        "[[3783   28]\n",
        " [  28 1109]]\n"
       ]
      }
     ],
     "prompt_number": 45
    },
    {
     "cell_type": "markdown",
     "metadata": {},
     "source": [
      "Como se puede apreciar, la eliminaci\u00f3n de stopwords redujo levemente la Precision (menos del 0.5%) mientras que aument\u00f3 el Recall (tambi\u00e9n levemente). En este ejemplo, para la clase que se est\u00e1 evaluando, eliminar las palabras vac\u00edas no mostr\u00f3 cambios significativos en la performance (sin embargo, se redujo a aproximadamente la mitad la cantidad de palabras por noticia, en promedio). "
     ]
    },
    {
     "cell_type": "markdown",
     "metadata": {},
     "source": [
      "<h5> Experimento adicional</h5>\n",
      "Nuevamente, aqu\u00ed se realiza la evaluaci\u00f3n con la clase de peor performance ('cultura')."
     ]
    },
    {
     "cell_type": "code",
     "collapsed": false,
     "input": [
      "X_train_text, X_test_text, y_train, y_test = train_test_split(X_data, Y_data, test_size=.3, random_state=0)\n",
      "\n",
      "X_train = vectorizer.fit_transform(X_train_text)\n",
      "X_test  = vectorizer.transform(X_test_text)\n",
      "\n",
      "positive_class = \"cultura\"\n",
      "y_train = setPositiveClass(y_train, positive_class) \n",
      "y_test  = setPositiveClass(y_test, positive_class)\n",
      "\n",
      "cls = MultinomialNB()\n",
      "y_pred = cls.fit(X_train, y_train).predict(X_test)\n",
      "\n",
      "print \"Precision %0.4f\" % precision_score(y_test, y_pred)\n",
      "print \"Recall    %0.4f\" % recall_score(y_test, y_pred)"
     ],
     "language": "python",
     "metadata": {},
     "outputs": [
      {
       "output_type": "stream",
       "stream": "stdout",
       "text": [
        "Precision 0.6008\n",
        "Recall    0.5665\n"
       ]
      }
     ],
     "prompt_number": 46
    },
    {
     "cell_type": "markdown",
     "metadata": {},
     "source": [
      "El valor de Precision disminuy\u00f3 levemente (0.6008 vs 0.6199), sin embargo, el Recall aument\u00f3 alrededor del 10% (0.5665 vs 0.5093). Para esta clase que ofrec\u00eda una performance pobre, la eliminaci\u00f3n de palabras vac\u00edas permiti\u00f3 mejorar el Recall."
     ]
    },
    {
     "cell_type": "markdown",
     "metadata": {},
     "source": [
      "<h4>Experimento 3: Entrenamiento y test aplicando 'stemming'</h4>\n",
      "\n",
      "En el siguiente experimento se aplica la t\u00e9cnica de stemming a las palabras de las noticias. B\u00e1sicamente, stemming consiste en transformar las palabras a su raiz morfol\u00f3gica. Para ello, se utiliz\u00f3 el stemmer implementado en la librer\u00eda NLTK (Natural Language Toolkit) para el espa\u00f1ol (que tambi\u00e9n proviene del proyecto Snowball: http://snowball.tartarus.org/algorithms/)\n",
      "\n",
      "Tambi\u00e9n es una t\u00e9cnica que depende de la lengua y hay diferentes algoritmos. El mas conocido es el algoritmo de Porter (para el ingl\u00e9s) que se basa en la aplicaci\u00f3n de reglas sucesivas que van eliminando sufijos de las palabras. El resultado de aplicar stemming no siempre devuelve un token que corresponda a una palabra v\u00e1lida de la lengua.\n",
      "\n",
      "El script para aplicar stemming se encuentra en la notebook 'text_tools'\n",
      "\n",
      "El archivo de noticias de este experimento se puede descargar de: https://github.com/mbonaventura/aa2015/blob/master/TP1/data/notas_ln-clean-norm-stemmed.csv"
     ]
    },
    {
     "cell_type": "code",
     "collapsed": false,
     "input": [
      "hfile = codecs.open(\"./data/notas_ln-clean-norm-stemmed.csv\", encoding='utf-8')\n",
      "\n",
      "X_data = []\n",
      "Y_data = []\n",
      "\n",
      "for line in hfile.readlines():\n",
      "    line_array = line.strip().split(';')\n",
      "    X_data.append(line_array[3] + ' ' + line_array[4])\n",
      "    Y_data.append(line_array[2].strip())"
     ],
     "language": "python",
     "metadata": {},
     "outputs": [],
     "prompt_number": 47
    },
    {
     "cell_type": "markdown",
     "metadata": {},
     "source": [
      "Luego de cargado el nuevo archivo de noticias se vuelve a computar la distribuci\u00f3n de frecuencias y longitud media de las noticias."
     ]
    },
    {
     "cell_type": "code",
     "collapsed": false,
     "input": [
      "len_nws_stm = []\n",
      "for nw in X_data:\n",
      "    words = nw.split()\n",
      "    len_nws_stm.append(len(words))\n",
      "\n",
      "hist(len_nws_stm, bins=50, histtype='stepfilled')\n",
      "xlabel('Longitud (palabras)')\n",
      "ylabel('Frecuencia')\n",
      "\n",
      "sts = np.array(len_nws_stm)\n",
      "print \"Longitud media : %d palabras\" % sts.mean()"
     ],
     "language": "python",
     "metadata": {},
     "outputs": [
      {
       "output_type": "stream",
       "stream": "stdout",
       "text": [
        "Longitud media : 554 palabras\n"
       ]
      },
      {
       "metadata": {},
       "output_type": "display_data",
       "png": "[encoded data removed]",
       "text": [
        "<matplotlib.figure.Figure at 0x7f376cb48910>"
       ]
      }
     ],
     "prompt_number": 48
    },
    {
     "cell_type": "markdown",
     "metadata": {},
     "source": [
      "En este caso, la longitud promedio de las noticias es de 554 palabras (versus 560 del dataset original). Si bien no parece significativa, a continuaci\u00f3n se eval\u00faa su impacto en la clasificaci\u00f3n."
     ]
    },
    {
     "cell_type": "code",
     "collapsed": false,
     "input": [
      "vectorizer = CountVectorizer(binary=False)\n",
      "X_train_text, X_test_text, y_train, y_test = train_test_split(X_data, Y_data, test_size=.3, random_state=0)\n",
      "\n",
      "X_train = vectorizer.fit_transform(X_train_text)\n",
      "X_test  = vectorizer.transform(X_test_text)\n",
      "\n",
      "positive_class = \"deportes\"\n",
      "\n",
      "y_train = setPositiveClass(y_train, positive_class) \n",
      "y_test  = setPositiveClass(y_test, positive_class)\n",
      "\n",
      "print \"Cantidad de noticias de 'deportes' en el set de train: \", sum(y_train)\n",
      "print \"Cantidad de noticias de 'deportes' en el set de test : \", sum(y_test)\n",
      "\n",
      "\n",
      "cls = MultinomialNB()\n",
      "y_pred = cls.fit(X_train, y_train).predict(X_test)\n",
      "\n",
      "print \"Precision %0.4f\" % precision_score(y_test, y_pred)\n",
      "print \"Recall    %0.4f\" % recall_score(y_test, y_pred)\n",
      "\n",
      "cm = confusion_matrix(y_test, y_pred)\n",
      "\n",
      "print \"Matriz de Confusi\u00f3n\"\n",
      "print cm"
     ],
     "language": "python",
     "metadata": {},
     "outputs": [
      {
       "output_type": "stream",
       "stream": "stdout",
       "text": [
        "Cantidad de noticias de 'deportes' en el set de train:  2573\n",
        "Cantidad de noticias de 'deportes' en el set de test :  1137\n",
        "Precision 0.9744"
       ]
      },
      {
       "output_type": "stream",
       "stream": "stdout",
       "text": [
        "\n",
        "Recall    0.9727\n",
        "Matriz de Confusi\u00f3n\n",
        "[[3782   29]\n",
        " [  31 1106]]\n"
       ]
      }
     ],
     "prompt_number": 49
    },
    {
     "cell_type": "markdown",
     "metadata": {},
     "source": [
      "Aqu\u00ed tampoco se observa cambios significativos en la performance (+/- 1%). Sin embargo, hay que tener en cuenta que la performance es alta con lo que no hay demasiado margen para mejoras."
     ]
    },
    {
     "cell_type": "markdown",
     "metadata": {},
     "source": []
    },
    {
     "cell_type": "code",
     "collapsed": false,
     "input": [
      "X_train_text, X_test_text, y_train, y_test = train_test_split(X_data, Y_data, test_size=.3, random_state=0)\n",
      "\n",
      "X_train = vectorizer.fit_transform(X_train_text)\n",
      "X_test  = vectorizer.transform(X_test_text)\n",
      "\n",
      "positive_class = \"cultura\"\n",
      "y_train = setPositiveClass(y_train, positive_class) \n",
      "y_test  = setPositiveClass(y_test, positive_class)\n",
      "\n",
      "cls = MultinomialNB()\n",
      "y_pred = cls.fit(X_train, y_train).predict(X_test)\n",
      "\n",
      "print \"Precision %0.4f\" % precision_score(y_test, y_pred)\n",
      "print \"Recall    %0.4f\" % recall_score(y_test, y_pred)"
     ],
     "language": "python",
     "metadata": {},
     "outputs": [
      {
       "output_type": "stream",
       "stream": "stdout",
       "text": [
        "Precision 0.5163\n",
        "Recall    0.6616\n"
       ]
      }
     ],
     "prompt_number": 50
    },
    {
     "cell_type": "markdown",
     "metadata": {},
     "source": [
      "El valor de Precision disminuy\u00f3 de forma apreciable (0.5163 vs 0.6199) pero, nuevamente, Recall aument\u00f3 considerablemente (0.6616 vs 0.5093). En general, ambas t\u00e9cnicas permitieron aumentar el Recall disminuyendo la Precisi\u00f3n. Esto \u00faltimo es 'natural' ya que existe un tradeoff entre ambas m\u00e9tricas ya que para aumentar el Recall se incorporan mas noticias al conjunto respuesta (pero tambi\u00e9n se introducen mas errores). "
     ]
    },
    {
     "cell_type": "markdown",
     "metadata": {},
     "source": [
      "<h4>Experimento 4: Entrenamiento y test removiendo 'stopwords' y aplicando 'stemming'</h4>\n"
     ]
    },
    {
     "cell_type": "markdown",
     "metadata": {},
     "source": [
      "El archivo de noticias de este experimento se puede descargar de: \n",
      "https://github.com/mbonaventura/aa2015/blob/master/TP1/data/notas_ln-clean-norm-stemmed-nosw.csv"
     ]
    },
    {
     "cell_type": "code",
     "collapsed": false,
     "input": [
      "hfile = codecs.open(\"./data/notas_ln-clean-norm-stemmed-nosw.csv\", encoding='utf-8')\n",
      "\n",
      "X_data = []\n",
      "Y_data = []\n",
      "\n",
      "for line in hfile.readlines():\n",
      "    line_array = line.strip().split(';')\n",
      "    X_data.append(line_array[3] + ' ' + line_array[4])\n",
      "    Y_data.append(line_array[2].strip())\n",
      "    \n",
      "    \n",
      "vectorizer = CountVectorizer(binary=False)\n",
      "X_train_text, X_test_text, y_train, y_test = train_test_split(X_data, Y_data, test_size=.3, random_state=0)\n",
      "\n",
      "X_train = vectorizer.fit_transform(X_train_text)\n",
      "X_test  = vectorizer.transform(X_test_text)\n",
      "\n",
      "positive_class = \"deportes\"\n",
      "\n",
      "y_train = setPositiveClass(y_train, positive_class) \n",
      "y_test  = setPositiveClass(y_test, positive_class)\n",
      "\n",
      "cls = MultinomialNB()\n",
      "y_pred = cls.fit(X_train, y_train).predict(X_test)\n",
      "\n",
      "print \"Precision %0.4f\" % precision_score(y_test, y_pred)\n",
      "print \"Recall    %0.4f\" % recall_score(y_test, y_pred)\n",
      "\n",
      "cm = confusion_matrix(y_test, y_pred)\n",
      "\n",
      "print \"Matriz de Confusi\u00f3n\"\n",
      "print cm"
     ],
     "language": "python",
     "metadata": {},
     "outputs": [
      {
       "output_type": "stream",
       "stream": "stdout",
       "text": [
        "Precision 0.9746\n",
        "Recall    0.9789\n",
        "Matriz de Confusi\u00f3n\n",
        "[[3782   29]\n",
        " [  24 1113]]\n"
       ]
      }
     ],
     "prompt_number": 51
    },
    {
     "cell_type": "markdown",
     "metadata": {},
     "source": [
      "Este experimento final nuevamente muestra que ambas t\u00e9cnicas de reducci\u00f3n del vocabulario permiten aumentar el Recall disminuyendo la Precisi\u00f3n. A continuaci\u00f3n se muestra la tabla resumen con los resultados para las diferentes variantes de las t\u00e9cnicas empleadas."
     ]
    },
    {
     "cell_type": "raw",
     "metadata": {},
     "source": [
      "          ---------------------------------------------------\n",
      "\t      |      Normal|      WO-SW|     W-Stem|WO-SW/W-Stem|\n",
      "          ---------------------------------------------------\n",
      "Precision |      0.9803|     0.9754|     0.9744|      0.9746|\n",
      "Recall    |      0.9673|     0.9754|     0.9727|      0.9789|\n",
      "          ---------------------------------------------------\n",
      "\n",
      "WO-SW : Se eliminaron stopwords.\n",
      "W-Stem: Se aplic\u00f3 Stemming.\n",
      "WO-SW/W-Stem: Se hicieron ambas (WO-SW+W-Stem)"
     ]
    },
    {
     "cell_type": "markdown",
     "metadata": {},
     "source": [
      "<h4>Experimento 5: Entrenamiento y test utilizando todas las clases</h4>\n",
      "En este experimento se realiza una corrida completa de clasificaci\u00f3n para todas las clases (one-vs-all) con el objetivo de obtener una performance 'promedio' del clasificador para este set de datos.\n",
      "Se utilizan las noticias a las que solo se le eliminaron palabras vac\u00edas.\n",
      "\n",
      "Adem\u00e1s, para este experimento se calcula y grafican las curvas ROC (Receiver Operating Characteristic) para cada clase. Una curva ROC es una representaci\u00f3n gr\u00e1fica de la raz\u00f3n de verdaderos positivos respecto de la raz\u00f3n de falsos positivos. En otros t\u00e9rminos, muestran la sensibilidad en funci\u00f3n de los falsos positivos (complementario de la especificidad) para distintos puntos de corte. Como se aprecia en el siguiente gr\u00e1fico, la mejor performance corresponde a la esquina superior izquierda. La diagonal divide el espacio ROC, siendo buenos resutados los puntos por encima de la diagonal.\n",
      "\n",
      "<img src=\"files/img/ROC_space.png\" />\n",
      "\n",
      "(fuente de la gr\u00e1fica: Wikipedia: https://es.wikipedia.org/wiki/Curva_ROC)\n"
     ]
    },
    {
     "cell_type": "code",
     "collapsed": false,
     "input": [
      "hfile = codecs.open(\"./data/notas_ln-clean-norm-nosw.csv\", encoding='utf-8')\n",
      "\n",
      "X_data = []\n",
      "Y_data = []\n",
      "\n",
      "for line in hfile.readlines():\n",
      "    line_array = line.strip().split(';')\n",
      "    X_data.append(line_array[3] + ' ' + line_array[4])\n",
      "    Y_data.append(line_array[2].strip())\n",
      "#\n",
      "vectorizer = CountVectorizer(binary=False)\n",
      "\n",
      "class_names = ['cultura', 'deportes', 'economia', 'espectaculos', 'internacionales', 'politica', 'seguridad', 'sociedad','tecnologia']\n",
      "#class_names = ['cultura']\n",
      "#\n",
      "sum_precision = 0\n",
      "sum_recall = 0\n",
      "sum_f1 = 0\n",
      "#\n",
      "print 'Clase\\t\\tTrain +/t \\tTest +/t\\tPrec\\tRec\\tF1'\n",
      "print '------------------------------------------------------------------------------'\n",
      "#\n",
      "for positive_class in class_names:\n",
      "    X_train_text, X_test_text, y_train, y_test = train_test_split(X_data, Y_data, test_size=.3, random_state=0)\n",
      "    #\n",
      "    X_train = vectorizer.fit_transform(X_train_text)\n",
      "    X_test  = vectorizer.transform(X_test_text)\n",
      "    #\n",
      "    y_train = setPositiveClass(y_train, positive_class) \n",
      "    y_test  = setPositiveClass(y_test, positive_class)\n",
      "    #\n",
      "    cls = MultinomialNB()\n",
      "    y_pred = cls.fit(X_train, y_train).predict(X_test)\n",
      "    #\n",
      "    this_precision = precision_score(y_test, y_pred)\n",
      "    this_recall    = recall_score(y_test, y_pred)\n",
      "    this_f1        = f1_score(y_test, y_pred)\n",
      "    #\n",
      "    print '%15s\\t%4d/%d\\t%4d/%d\\t%0.4f\\t%0.4f\\t%0.4f' % (positive_class, sum(y_train), len(y_train), sum(y_test), len(y_test), this_precision, this_recall, this_f1)\n",
      "    #\n",
      "    sum_precision+=this_precision\n",
      "    sum_recall+=this_recall\n",
      "    sum_f1+=this_f1\n",
      "    #    \n",
      "    # Plot de las curvas ROC\n",
      "    probas_ = cls.fit(X_train, y_train).predict_proba(X_test)\n",
      "    # C\u00e1lculo del \u00e1rea para las curvas ROC\n",
      "    fpr, tpr, thresholds = roc_curve(y_test, probas_[:, 1])\n",
      "    roc_auc = auc(fpr, tpr)\n",
      "    plt.plot(fpr, tpr, lw=1, label=positive_class + ' (area = %0.2f)' % (roc_auc))\n",
      "#\n",
      "#\n",
      "print '------------------------------------------------------------------------------'\n",
      "print 'Resumen'\n",
      "print 'AVG Precision: %0.4f'% (sum_precision/(len(class_names)+0.0))\n",
      "print 'AVG Recall   : %0.4f'% (sum_recall/(len(class_names)+0.0)) \n",
      "print 'AVG F1       : %0.4f'% (sum_f1/(len(class_names)+0.0))\n",
      "#\n",
      "#\n",
      "plt.plot([0, 1], [0, 1], '--', color=(0.6, 0.6, 0.6), label='')\n",
      "plt.xlim([-0.05, 1.05])\n",
      "plt.ylim([-0.05, 1.05])\n",
      "plt.xlabel('False Positive Rate')\n",
      "plt.ylabel('True Positive Rate')\n",
      "plt.title('Curvas ROC para las diferentes clases')\n",
      "plt.legend(loc=\"lower right\", bbox_to_anchor=(1.7, 0))\n",
      "plt.show()\n"
     ],
     "language": "python",
     "metadata": {},
     "outputs": [
      {
       "output_type": "stream",
       "stream": "stdout",
       "text": [
        "Clase\t\tTrain +/t \tTest +/tot\tPrec\tRec\tF1\n",
        "------------------------------------------------------------------------------\n",
        "        cultura\t 650/11544\t 263/4948\t0.6008\t0.5665\t0.5832"
       ]
      },
      {
       "output_type": "stream",
       "stream": "stdout",
       "text": [
        "\n",
        "       deportes\t2573/11544\t1137/4948\t0.9754\t0.9754\t0.9754"
       ]
      },
      {
       "output_type": "stream",
       "stream": "stdout",
       "text": [
        "\n",
        "       economia\t1211/11544\t 521/4948\t0.7694\t0.8580\t0.8113"
       ]
      },
      {
       "output_type": "stream",
       "stream": "stdout",
       "text": [
        "\n",
        "   espectaculos\t1298/11544\t 521/4948\t0.8094\t0.8637\t0.8357"
       ]
      },
      {
       "output_type": "stream",
       "stream": "stdout",
       "text": [
        "\n",
        "internacionales\t1169/11544\t 505/4948\t0.8399\t0.8832\t0.8610"
       ]
      },
      {
       "output_type": "stream",
       "stream": "stdout",
       "text": [
        "\n",
        "       politica\t2256/11544\t 965/4948\t0.8297\t0.9389\t0.8809"
       ]
      },
      {
       "output_type": "stream",
       "stream": "stdout",
       "text": [
        "\n",
        "      seguridad\t 780/11544\t 343/4948\t0.7938\t0.8192\t0.8063"
       ]
      },
      {
       "output_type": "stream",
       "stream": "stdout",
       "text": [
        "\n",
        "       sociedad\t1301/11544\t 567/4948\t0.5752\t0.7760\t0.6607"
       ]
      },
      {
       "output_type": "stream",
       "stream": "stdout",
       "text": [
        "\n",
        "     tecnologia\t 306/11544\t 126/4948\t0.8144\t0.6270\t0.7085"
       ]
      },
      {
       "output_type": "stream",
       "stream": "stdout",
       "text": [
        "\n",
        "------------------------------------------------------------------------------"
       ]
      },
      {
       "output_type": "stream",
       "stream": "stdout",
       "text": [
        "\n",
        "Resumen\n",
        "AVG Precision: 0.7787\n",
        "AVG Recall   : 0.8120\n",
        "AVG F1       : 0.7914\n"
       ]
      },
      {
       "metadata": {},
       "output_type": "display_data",
       "png": "[encoded data removed]",
       "text": [
        "<matplotlib.figure.Figure at 0x7f376d4a6190>"
       ]
      }
     ],
     "prompt_number": 52
    },
    {
     "cell_type": "markdown",
     "metadata": {},
     "source": [
      "Coo se aprecia en las m\u00e9tricas, la performance global se ve afectada por un par de clases para la cual el clasificador no se comporta suficientemente bien ('cultura' y 'tecnolog\u00eda'). Esto mismo se aprecia en las curvas correspondientes a dichas clases (y el \u00e1rea respectiva bajo la curva)."
     ]
    },
    {
     "cell_type": "markdown",
     "metadata": {},
     "source": [
      "<h4>Experimento 6: Comparaci\u00f3n de diferentes 'Vectorizers'</h4>\n",
      "En este experimento se pretende comparar diferentes esquemas de conversi\u00f3n de las palabras a vectores num\u00e9ricos provistos por la librer\u00eda SK-Learn. Se consideraron 3 vertorizers:\n",
      "\n",
      "a) CountVectorizer: Convierte los documentos en una representaci\u00f3n matricial con las frecuencias de cada token (la representaci\u00f3n es rala y puede ocupar un espacio considerable).\n",
      "\n",
      "b) HashingVectorizer: Similar al anterior pero usa una representaci\u00f3n eficiente mediante un hash map que permite escalar mejor. De acuerdo al tama\u00f1o del espacio de hashing puede haber colisiones entre t\u00e9rminos diferentes. No soporta ponderaci\u00f3n por IDF (Inverse Document Frequence)\n",
      "\n",
      "c) TfidfVectorizer:\tEn este caso, la matriz posee los t\u00e9rminos ponderados de acuerdo a su TF/IDF (Term Frequency x Inverse Document Frequence)\n",
      "\n",
      "Debido que para los \u00faltimos dos casos se requiere un n\u00famero mayor de documentos que los que poseen algunas de las clases, se decidi\u00f3n agrupar noticias de temas relativamente 'similares', quedando las siguientes clases:\n",
      "\n",
      "- deportes: solo los documentos de esta clase (hay suficientes)\n",
      "- grupo1: corresponde a las noticias de 'politica', 'internacionales', 'seguridad' y 'economia'.\n",
      "- grupo2: corresponde a las noticias de 'espectaculos', 'sociedad' y 'cultura'\n",
      "\n",
      "Las noticias de 'tecnolog\u00eda' se descartaron."
     ]
    },
    {
     "cell_type": "code",
     "collapsed": false,
     "input": [
      "hfile = codecs.open(\"./data/notas_ln-clean-norm-nosw.csv\", encoding='utf-8')\n",
      "\n",
      "X_data = []\n",
      "Y_data = []\n",
      "\n",
      "for line in hfile.readlines():\n",
      "    line_array = line.strip().split(';')\n",
      "    X_data.append(line_array[3] + ' ' + line_array[4])\n",
      "    #\n",
      "    this_class = line_array[2].strip()\n",
      "    if (this_class in ('politica', 'internacionales', 'seguridad', 'economia')):\n",
      "        this_class = 'grupo1'\n",
      "    if (this_class in ('espectaculos', 'sociedad', 'cultura')):\n",
      "        this_class = 'grupo2'\n",
      "    #\n",
      "    Y_data.append(this_class)\n",
      "#"
     ],
     "language": "python",
     "metadata": {},
     "outputs": [],
     "prompt_number": 57
    },
    {
     "cell_type": "code",
     "collapsed": false,
     "input": [
      "class_names = ['deportes', 'grupo1', 'grupo2']"
     ],
     "language": "python",
     "metadata": {},
     "outputs": [],
     "prompt_number": 58
    },
    {
     "cell_type": "markdown",
     "metadata": {},
     "source": [
      "<h5>Caso 1: CountVectorizer</h5>"
     ]
    },
    {
     "cell_type": "code",
     "collapsed": false,
     "input": [
      "count_vectorizer = CountVectorizer(binary=False)\n",
      "#\n",
      "sum_precision = 0\n",
      "sum_recall = 0\n",
      "sum_f1 = 0\n",
      "#\n",
      "print 'Count Vectorizer'\n",
      "print 'Clase\\t\\tTrain +/t \\tTest +/tot\\tPrec\\tRec\\tF1'\n",
      "print '------------------------------------------------------------------------------'\n",
      "#\n",
      "for positive_class in class_names:\n",
      "    X_train_text, X_test_text, y_train, y_test = train_test_split(X_data, Y_data, test_size=.3, random_state=0)\n",
      "    #\n",
      "    X_train = count_vectorizer.fit_transform(X_train_text)\n",
      "    X_test  = count_vectorizer.transform(X_test_text)\n",
      "    #\n",
      "    y_train = setPositiveClass(y_train, positive_class) \n",
      "    y_test  = setPositiveClass(y_test, positive_class)\n",
      "    #\n",
      "    cls = MultinomialNB()\n",
      "    y_pred = cls.fit(X_train, y_train).predict(X_test)\n",
      "    #\n",
      "    this_precision = precision_score(y_test, y_pred)\n",
      "    this_recall    = recall_score(y_test, y_pred)\n",
      "    this_f1        = f1_score(y_test, y_pred)\n",
      "    #\n",
      "    print '%15s\\t%4d/%d\\t%4d/%d\\t%0.4f\\t%0.4f\\t%0.4f' % (positive_class, sum(y_train), len(y_train), sum(y_test), len(y_test), this_precision, this_recall, this_f1)\n",
      "    #\n",
      "    sum_precision+=this_precision\n",
      "    sum_recall+=this_recall\n",
      "    sum_f1+=this_f1\n",
      "    #\n",
      "#\n",
      "print '------------------------------------------------------------------------------'\n",
      "print 'Resumen'\n",
      "print 'AVG Precision: %0.4f'% (sum_precision/(len(class_names)+0.0))\n",
      "print 'AVG Recall   : %0.4f'% (sum_recall/(len(class_names)+0.0)) \n",
      "print 'AVG F1       : %0.4f'% (sum_f1/(len(class_names)+0.0))\n",
      "#"
     ],
     "language": "python",
     "metadata": {},
     "outputs": [
      {
       "output_type": "stream",
       "stream": "stdout",
       "text": [
        "Count Vectorizer\n",
        "Clase\t\tTrain +/t \tTest +/tot\tPrec\tRec\tF1\n",
        "------------------------------------------------------------------------------\n",
        "       deportes\t2573/11544\t1137/4948\t0.9754\t0.9754\t0.9754"
       ]
      },
      {
       "output_type": "stream",
       "stream": "stdout",
       "text": [
        "\n",
        "         grupo1\t5416/11544\t2334/4948\t0.8751\t0.9396\t0.9062"
       ]
      },
      {
       "output_type": "stream",
       "stream": "stdout",
       "text": [
        "\n",
        "         grupo2\t3249/11544\t1351/4948\t0.8671\t0.8305\t0.8484"
       ]
      },
      {
       "output_type": "stream",
       "stream": "stdout",
       "text": [
        "\n",
        "------------------------------------------------------------------------------\n",
        "Resumen\n",
        "AVG Precision: 0.9059\n",
        "AVG Recall   : 0.9152\n",
        "AVG F1       : 0.9100\n"
       ]
      }
     ],
     "prompt_number": 59
    },
    {
     "cell_type": "markdown",
     "metadata": {},
     "source": [
      "<h5>Caso 2: TfidfVectorizer</h5>"
     ]
    },
    {
     "cell_type": "code",
     "collapsed": false,
     "input": [
      "from sklearn.feature_extraction.text import TfidfVectorizer\n",
      "\n",
      "tfidf_vectorizer = TfidfVectorizer()\n",
      "#\n",
      "sum_precision = 0\n",
      "sum_recall = 0\n",
      "sum_f1 = 0\n",
      "#\n",
      "print 'TFIDF Vectorizer'\n",
      "print 'Clase\\t\\tTrain +/t \\tTest +/tot\\tPrec\\tRec\\tF1'\n",
      "print '------------------------------------------------------------------------------'\n",
      "#\n",
      "for positive_class in class_names:\n",
      "    X_train_text, X_test_text, y_train, y_test = train_test_split(X_data, Y_data, test_size=.3, random_state=0)\n",
      "    #\n",
      "    X_train = tfidf_vectorizer.fit_transform(X_train_text)\n",
      "    X_test  = tfidf_vectorizer.transform(X_test_text)\n",
      "    #\n",
      "    y_train = setPositiveClass(y_train, positive_class) \n",
      "    y_test  = setPositiveClass(y_test, positive_class)\n",
      "    #\n",
      "    cls = MultinomialNB()\n",
      "    y_pred = cls.fit(X_train, y_train).predict(X_test)\n",
      "    #\n",
      "    this_precision = precision_score(y_test, y_pred)\n",
      "    this_recall    = recall_score(y_test, y_pred)\n",
      "    this_f1        = f1_score(y_test, y_pred)\n",
      "    #\n",
      "    print '%15s\\t%4d/%d\\t%4d/%d\\t%0.4f\\t%0.4f\\t%0.4f' % (positive_class, sum(y_train), len(y_train), sum(y_test), len(y_test), this_precision, this_recall, this_f1)\n",
      "    #\n",
      "    sum_precision+=this_precision\n",
      "    sum_recall+=this_recall\n",
      "    sum_f1+=this_f1\n",
      "    #\n",
      "#\n",
      "print '------------------------------------------------------------------------------'\n",
      "print 'Resumen'\n",
      "print 'AVG Precision: %0.4f'% (sum_precision/(len(class_names)+0.0))\n",
      "print 'AVG Recall   : %0.4f'% (sum_recall/(len(class_names)+0.0)) \n",
      "print 'AVG F1       : %0.4f'% (sum_f1/(len(class_names)+0.0))\n",
      "#"
     ],
     "language": "python",
     "metadata": {},
     "outputs": [
      {
       "output_type": "stream",
       "stream": "stdout",
       "text": [
        "TFIDF Vectorizer\n",
        "Clase\t\tTrain +/t \tTest +/tot\tPrec\tRec\tF1\n",
        "------------------------------------------------------------------------------\n",
        "       deportes\t2573/11544\t1137/4948\t0.9976\t0.7274\t0.8413"
       ]
      },
      {
       "output_type": "stream",
       "stream": "stdout",
       "text": [
        "\n",
        "         grupo1\t5416/11544\t2334/4948\t0.8852\t0.9314\t0.9077"
       ]
      },
      {
       "output_type": "stream",
       "stream": "stdout",
       "text": [
        "\n",
        "         grupo2\t3249/11544\t1351/4948\t0.9909\t0.3212\t0.4852"
       ]
      },
      {
       "output_type": "stream",
       "stream": "stdout",
       "text": [
        "\n",
        "------------------------------------------------------------------------------\n",
        "Resumen\n",
        "AVG Precision: 0.9579\n",
        "AVG Recall   : 0.6600\n",
        "AVG F1       : 0.7447\n"
       ]
      }
     ],
     "prompt_number": 20
    },
    {
     "cell_type": "markdown",
     "metadata": {},
     "source": [
      "<h5>Caso 3: HashVectorizer</h5>"
     ]
    },
    {
     "cell_type": "code",
     "collapsed": false,
     "input": [
      "from sklearn.feature_extraction.text import HashingVectorizer\n",
      "\n",
      "hash_vectorizer = HashingVectorizer(decode_error='ignore', n_features=2 ** 14, non_negative=True, binary=False)\n",
      "#\n",
      "sum_precision = 0\n",
      "sum_recall = 0\n",
      "sum_f1 = 0\n",
      "#\n",
      "print 'Hashing Vectorizer'\n",
      "print 'Clase\\t\\tTrain +/t \\tTest +/tot\\tPrec\\tRec\\tF1'\n",
      "print '------------------------------------------------------------------------------'\n",
      "#\n",
      "for positive_class in class_names:\n",
      "    X_train_text, X_test_text, y_train, y_test = train_test_split(X_data, Y_data, test_size=.3, random_state=0)\n",
      "    #\n",
      "    X_train = hash_vectorizer.transform(X_train_text)\n",
      "    X_test  = hash_vectorizer.transform(X_test_text)\n",
      "    #\n",
      "    y_train = setPositiveClass(y_train, positive_class) \n",
      "    y_test  = setPositiveClass(y_test, positive_class)\n",
      "    #\n",
      "    cls = MultinomialNB()\n",
      "    y_pred = cls.fit(X_train, y_train).predict(X_test)\n",
      "    #\n",
      "    this_precision = precision_score(y_test, y_pred)\n",
      "    this_recall    = recall_score(y_test, y_pred)\n",
      "    this_f1        = f1_score(y_test, y_pred)\n",
      "    #\n",
      "    print '%15s\\t%4d/%d\\t%4d/%d\\t%0.4f\\t%0.4f\\t%0.4f' % (positive_class, sum(y_train), len(y_train), sum(y_test), len(y_test), this_precision, this_recall, this_f1)\n",
      "    #\n",
      "    sum_precision+=this_precision\n",
      "    sum_recall+=this_recall\n",
      "    sum_f1+=this_f1\n",
      "    #\n",
      "#\n",
      "print '------------------------------------------------------------------------------'\n",
      "print 'Resumen'\n",
      "print 'AVG Precision: %0.4f'% (sum_precision/(len(class_names)+0.0))\n",
      "print 'AVG Recall   : %0.4f'% (sum_recall/(len(class_names)+0.0)) \n",
      "print 'AVG F1       : %0.4f'% (sum_f1/(len(class_names)+0.0))\n",
      "#"
     ],
     "language": "python",
     "metadata": {},
     "outputs": [
      {
       "output_type": "stream",
       "stream": "stdout",
       "text": [
        "Hashing Vectorizer\n",
        "Clase\t\tTrain +/t \tTest +/tot\tPrec\tRec\tF1\n",
        "------------------------------------------------------------------------------\n",
        "       deportes\t2573/11544\t1137/4948\t0.9903\t0.8936\t0.9394"
       ]
      },
      {
       "output_type": "stream",
       "stream": "stdout",
       "text": [
        "\n",
        "         grupo1\t5416/11544\t2334/4948\t0.8752\t0.9225\t0.8982"
       ]
      },
      {
       "output_type": "stream",
       "stream": "stdout",
       "text": [
        "\n",
        "         grupo2\t3249/11544\t1351/4948\t0.9280\t0.6395\t0.7572"
       ]
      },
      {
       "output_type": "stream",
       "stream": "stdout",
       "text": [
        "\n",
        "------------------------------------------------------------------------------\n",
        "Resumen\n",
        "AVG Precision: 0.9312\n",
        "AVG Recall   : 0.8185\n",
        "AVG F1       : 0.8650\n"
       ]
      }
     ],
     "prompt_number": 60
    },
    {
     "cell_type": "markdown",
     "metadata": {},
     "source": [
      "A continuaci\u00f3n, se presenta un resumen de la performance del clasificador para los 3 esquemas de vectorizaci\u00f3n evaluados y con el agrupamiento de clases propuesto."
     ]
    },
    {
     "cell_type": "raw",
     "metadata": {},
     "source": [
      "          -------------------------\n",
      "\t      | Count |  Tfidf|   Hash|\n",
      "          -------------------------\n",
      "Precision | 0.9059| 0.9579| 0.9312|\n",
      "Recall    | 0.9152| 0.6600| 0.8185|\n",
      "          -------------------------"
     ]
    },
    {
     "cell_type": "markdown",
     "metadata": {},
     "source": [
      "Como se puede apreciar, la Precision promedio mayor se obtiene con el Tfidf vectorizer lo que es razonable ya que usa un esquema de ponderaci\u00f3n validado y comunmente utilizado para ponderar los t\u00e9rminos en los documentos (principalmente en el \u00e1rea de Information Retrieval). Sin embargo, el Recall es el peor.\n",
      "\n",
      "Hay que tener en cuenta que en todos los casos se instanciaron los vectorizers con sus par\u00e1metros con los valores por defecto. En todos los casos, hay un abanico de posibles par\u00e1metros a ajustar (tuning) como por ejemplo: eliminar t\u00e9rminos con un DF (Document Frequency) mayor o menor a cierto umbral, considerar un vocabulario acotado de features (no todas), entre otras. El estudio del ajuste fino de estos par\u00e1metros est\u00e1 fuera del alcance de este trabajo."
     ]
    },
    {
     "cell_type": "markdown",
     "metadata": {},
     "source": [
      "Referencias\n",
      "----------\n",
      "<ul>\n",
      "<li>C.D. Manning, P. Raghavan and H. Schuetze (2008). Introduction to Information Retrieval. Cambridge University Press.\n",
      "<li>A. McCallum and K. Nigam (1998). A comparison of event models for naive Bayes text classification. Proc. AAAI/ICML-98 Workshop on Learning for Text Categorization.\n",
      "<li> V. Metsis, I. Androutsopoulos and G. Paliouras (2006). Spam filtering with naive Bayes -- Which naive Bayes? 3rd Conf. on Email and Anti-Spam (CEAS).\n",
      "</ul>"
     ]
    }
   ],
   "metadata": {}
  }
 ]
}