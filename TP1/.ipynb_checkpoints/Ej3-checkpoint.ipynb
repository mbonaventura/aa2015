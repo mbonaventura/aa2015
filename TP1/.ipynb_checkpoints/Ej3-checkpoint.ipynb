{
 "metadata": {
  "name": ""
 },
 "nbformat": 3,
 "nbformat_minor": 0,
 "worksheets": [
  {
   "cells": [
    {
     "cell_type": "markdown",
     "metadata": {},
     "source": [
      "<h3>Introducci\u00f3n</h3>\n",
      "\n",
      "\n",
      "Hablar de clasificacion bayesiaa"
     ]
    },
    {
     "cell_type": "markdown",
     "metadata": {},
     "source": [
      "<h3>Experimentos con un clasificador Naive Bayes</h3>\n",
      "\n",
      "<h4>Preparaci\u00f3n de los datos</h4>\n",
      "\n",
      "Para este ejercicio se utiliz\u00f3 el corpus de noticias provisto por el equipo docente (16582 noticias divididas en 9 categor\u00edas). El primer paso consisti\u00f3 en la normalizaci\u00f3n y limpieza de los datos, previa a la tokenizaci\u00f3n. Este \u00faltimo paso consiste extraer aquellas 'cadenas' de texto que se van a utilizar para describirlo (tokens). \n",
      "\n",
      "La normalizaci\u00f3n y limpieza son tareas comunes (y necesarias) en procesamiento de texto. B\u00e1sicamente, se convierten todas la letras min\u00fasculas (o may\u00fasculas), se eliminan caracteres 'raros' (de acuerdo al esquema de codificaci\u00f3n elegido) y se reemplazan vocales acentuadas por su versi\u00f3n sin acento (y e\u00f1es por enes). Tambi\u00e9n se pueden eliminar palabras o modificar su morfolog\u00eda (esto se explicar\u00e1 mas adelante).\n",
      "\n",
      "El primer paso, entonces, fue tomar el archivo original de noticias y aplicar los diferentes procedimientos generando nuevas versiones del mismo. En la notebook 'text_tools' se encuentran los scripts utilizados en cada caso. Como resultado de este primer paso de limpieza y normalizaci\u00f3n se gener\u00f3 el archivo: notas_ln-clean-norm.csv\n",
      "\n",
      "La idea de de generar diferentes versiones del archivo de noticias con los datos ya procesados tiene la intenci\u00f3n de realizar esta tarea una \u00fanica vez (en vez de repetirla por cada experimento).\n"
     ]
    },
    {
     "cell_type": "markdown",
     "metadata": {},
     "source": [
      "<h4>Experimento 1: Entrenamiento del clasificador y test inicial</h4>\n",
      "\n",
      "Inicialmente, se lee el archivo de noticias y se carga por un lado el texto (se concatenan los campos 'text' y 'title') y por otro la clase correspondiente ('topic'). Es importante mencionar que se realiza una clasificaci\u00f3n binaria (pertenece o no-pertenece a la clase). Como el dataset posee 9 clases (multi-labeled) se adopta una estrategia 'one-vs-all' que consiste en ajustar un clasificador por clase (la de inter\u00e9s vs el resto)."
     ]
    },
    {
     "cell_type": "code",
     "collapsed": false,
     "input": [
      "import sys\n",
      "import codecs\n",
      "\n",
      "hfile = codecs.open(\"./Ej3/notas_ln-clean-norm.csv\", encoding='utf-8')\n",
      "\n",
      "X_data = []\n",
      "Y_data = []\n",
      "\n",
      "for line in hfile.readlines():\n",
      "    line_array = line.strip().split(';')\n",
      "    X_data.append(line_array[3] + ' ' + line_array[4])\n",
      "    Y_data.append(line_array[2].strip())"
     ],
     "language": "python",
     "metadata": {},
     "outputs": [],
     "prompt_number": 3
    },
    {
     "cell_type": "markdown",
     "metadata": {},
     "source": [
      "Luego de cargado el archivo, se calcula la distribuci\u00f3n de frecuencias de las longitudes de las noticias (eje-x). La idea es poder comparar mas adelante cuando se apliquen m\u00e9todos de reducci\u00f3n del vocabulario. "
     ]
    },
    {
     "cell_type": "code",
     "collapsed": false,
     "input": [
      "%pylab inline \n",
      "\n",
      "len_nws_full = []\n",
      "for nw in X_data:\n",
      "    words = nw.split()\n",
      "    len_nws_full.append(len(words))\n",
      "\n",
      "hist(len_nws_full, bins=50, histtype='stepfilled')\n",
      "xlabel('Longitud (palabras)')\n",
      "ylabel('Frecuencia')\n",
      "\n",
      "sts = np.array(len_nws_full)\n",
      "print \"Longitud media : %d palabras\" % sts.mean()"
     ],
     "language": "python",
     "metadata": {},
     "outputs": [
      {
       "output_type": "stream",
       "stream": "stdout",
       "text": [
        "Populating the interactive namespace from numpy and matplotlib\n",
        "Longitud media : 282 palabras"
       ]
      },
      {
       "output_type": "stream",
       "stream": "stdout",
       "text": [
        "\n"
       ]
      },
      {
       "metadata": {},
       "output_type": "display_data",
       "png": "[encoded data removed]",
       "text": [
        "<matplotlib.figure.Figure at 0x7f4fd026cc90>"
       ]
      }
     ],
     "prompt_number": 6
    },
    {
     "cell_type": "markdown",
     "metadata": {},
     "source": [
      "A continuaci\u00f3n, se instancia un 'vectorizer' (en este caso un CountVectorizer) que se encarga de convertir los documentos de texto en una estructura de datos con las frecuencias de los tokens. Como no se provee ning\u00fan criterio de selecci\u00f3n de los tokens a considerar, la cantidad de 'features' corresponde al vocabulario completo. "
     ]
    },
    {
     "cell_type": "code",
     "collapsed": false,
     "input": [
      "from sklearn.feature_extraction.text import CountVectorizer\n",
      "\n",
      "vectorizer = CountVectorizer(binary=False)"
     ],
     "language": "python",
     "metadata": {},
     "outputs": [],
     "prompt_number": 9
    },
    {
     "cell_type": "markdown",
     "metadata": {},
     "source": [
      "Luego, se separan los datos en sets de entrenamiento (train) y prueba (test). Se toma una partici\u00f3n de 70-30% de las noticias para train y test respectivamente. Luego, ambos conjuntos se 'vectorizan' para obtener una representaci\u00f3n num\u00e9rica."
     ]
    },
    {
     "cell_type": "code",
     "collapsed": false,
     "input": [
      "from sklearn.cross_validation import train_test_split\n",
      "\n",
      "X_train_text, X_test_text, y_train, y_test = train_test_split(X_data, Y_data, test_size=.3, random_state=0)\n",
      "\n",
      "X_train = vectorizer.fit_transform(X_train_text)\n",
      "X_test  = vectorizer.transform(X_test_text)"
     ],
     "language": "python",
     "metadata": {},
     "outputs": [],
     "prompt_number": 10
    },
    {
     "cell_type": "markdown",
     "metadata": {},
     "source": [
      "Como las clases est\u00e1n identificadas por su nombre (por ejemplo, 'deportes') se deben convertir a su valor binario (0 y 1) ya que - como se mencion\u00f3 - se realiza una clasificaci\u00f3n 'one-vs-all'. Dada una clase de inter\u00e9s, se setean las noticias de la misma en 1 (y el resto en 0). Esto se realiza tanto para los conjuntos (target) de train como de test."
     ]
    },
    {
     "cell_type": "code",
     "collapsed": false,
     "input": [
      "def setPositiveClass(topics, positive_class):\n",
      "    num_class = []\n",
      "    for top in topics:\n",
      "        if (top == positive_class):\n",
      "            num_class.append(1)\n",
      "        else:\n",
      "            num_class.append(0)\n",
      "    return num_class\n",
      "\n",
      "\n",
      "positive_class = \"deportes\"\n",
      "\n",
      "y_train = setPositiveClass(y_train, positive_class) \n",
      "y_test  = setPositiveClass(y_test, positive_class)\n",
      "\n",
      "\n",
      "print \"Cantidad de noticias de 'deportes' en el set de train: \", sum(y_train)\n",
      "print \"Cantidad de noticias de 'deportes' en el set de test : \", sum(y_test)"
     ],
     "language": "python",
     "metadata": {},
     "outputs": [
      {
       "output_type": "stream",
       "stream": "stdout",
       "text": [
        "Cantidad de noticias de 'deportes' en el set de train:  2573\n",
        "Cantidad de noticias de 'deportes' en el set de test :  1137\n"
       ]
      }
     ],
     "prompt_number": 11
    },
    {
     "cell_type": "markdown",
     "metadata": {},
     "source": [
      "Luego, se crea una instancia del clasificador Naive Bayes Multinomial de SK-Learn (http://scikit-learn.org/stable/modules/generated/sklearn.naive_bayes.MultinomialNB.html) con sus par\u00e1metros por defecto. Luego se entrena y testea con los datos correspondientes. Como salida (y_pred), se obtiene un arreglo con las clases predichas para el conjunto X_test."
     ]
    },
    {
     "cell_type": "code",
     "collapsed": false,
     "input": [
      "from sklearn.naive_bayes import MultinomialNB\n",
      "\n",
      "cls = MultinomialNB()\n",
      "y_pred = cls.fit(X_train, y_train).predict(X_test)"
     ],
     "language": "python",
     "metadata": {},
     "outputs": [],
     "prompt_number": 13
    },
    {
     "cell_type": "markdown",
     "metadata": {},
     "source": [
      "Utilizando la librer\u00eda de m\u00e9tricas, se calculan los par\u00e1metros de performance. A modo de ejemplo, aqu\u00ed se presentan los mas comunes: accuracy, precision, recall y f1. Luego, se seleccionar\u00e1 alguno de \u00e9stos apropiado para las comparaciones."
     ]
    },
    {
     "cell_type": "code",
     "collapsed": false,
     "input": [
      "from sklearn.metrics import *\n",
      "\n",
      "print \"Accuracy  %0.4f\" % accuracy_score(y_test, y_pred)\n",
      "print \"Precision %0.4f\" % precision_score(y_test, y_pred)\n",
      "print \"Recall    %0.4f\" % recall_score(y_test, y_pred)\n",
      "print \"f1        %0.4f\" % f1_score(y_test, y_pred)"
     ],
     "language": "python",
     "metadata": {},
     "outputs": [
      {
       "ename": "NameError",
       "evalue": "name 'y_pred' is not defined",
       "output_type": "pyerr",
       "traceback": [
        "\u001b[0;31m---------------------------------------------------------------------------\u001b[0m\n\u001b[0;31mNameError\u001b[0m                                 Traceback (most recent call last)",
        "\u001b[0;32m<ipython-input-12-b79ee107f070>\u001b[0m in \u001b[0;36m<module>\u001b[0;34m()\u001b[0m\n\u001b[1;32m      1\u001b[0m \u001b[0;32mfrom\u001b[0m \u001b[0msklearn\u001b[0m\u001b[0;34m.\u001b[0m\u001b[0mmetrics\u001b[0m \u001b[0;32mimport\u001b[0m \u001b[0;34m*\u001b[0m\u001b[0;34m\u001b[0m\u001b[0m\n\u001b[1;32m      2\u001b[0m \u001b[0;34m\u001b[0m\u001b[0m\n\u001b[0;32m----> 3\u001b[0;31m \u001b[0;32mprint\u001b[0m \u001b[0;34m\"Accuracy  %0.4f\"\u001b[0m \u001b[0;34m%\u001b[0m \u001b[0maccuracy_score\u001b[0m\u001b[0;34m(\u001b[0m\u001b[0my_test\u001b[0m\u001b[0;34m,\u001b[0m \u001b[0my_pred\u001b[0m\u001b[0;34m)\u001b[0m\u001b[0;34m\u001b[0m\u001b[0m\n\u001b[0m\u001b[1;32m      4\u001b[0m \u001b[0;32mprint\u001b[0m \u001b[0;34m\"Precision %0.4f\"\u001b[0m \u001b[0;34m%\u001b[0m \u001b[0mprecision_score\u001b[0m\u001b[0;34m(\u001b[0m\u001b[0my_test\u001b[0m\u001b[0;34m,\u001b[0m \u001b[0my_pred\u001b[0m\u001b[0;34m)\u001b[0m\u001b[0;34m\u001b[0m\u001b[0m\n\u001b[1;32m      5\u001b[0m \u001b[0;32mprint\u001b[0m \u001b[0;34m\"Recall    %0.4f\"\u001b[0m \u001b[0;34m%\u001b[0m \u001b[0mrecall_score\u001b[0m\u001b[0;34m(\u001b[0m\u001b[0my_test\u001b[0m\u001b[0;34m,\u001b[0m \u001b[0my_pred\u001b[0m\u001b[0;34m)\u001b[0m\u001b[0;34m\u001b[0m\u001b[0m\n",
        "\u001b[0;31mNameError\u001b[0m: name 'y_pred' is not defined"
       ]
      }
     ],
     "prompt_number": 12
    },
    {
     "cell_type": "markdown",
     "metadata": {},
     "source": [
      "Como se puede apreciar, el clasificador tiene una muy buena performance discriminando las noticias de 'deportes' del resto. Es capaz de etiquetar correctamente un 98% (precision) del set de test y hallar un 96% (recall) de las verdaderas de la clase. "
     ]
    },
    {
     "cell_type": "markdown",
     "metadata": {},
     "source": [
      "A continuaci\u00f3n, se presenta la matriz de confusi\u00f3n. La estructura de la misma es la siguiente:\n",
      "<pre>    \n",
      "           Clase Predicha\n",
      "             ---------\n",
      "             | 0 | 1 |\n",
      "         -------------     \n",
      "Clase    | 0 |   |   |\n",
      "         -------------\n",
      "Verdadera| 1 |   |   |\n",
      "         -------------\n",
      "</pre>\n",
      "\n",
      "Por lo que las noticias de 'deportes' (clase 1) correctamente predichas como 'deportes' (verdaderos positivos) se encuentran en la celda (1,1)."
     ]
    },
    {
     "cell_type": "code",
     "collapsed": false,
     "input": [
      "cm = confusion_matrix(y_test, y_pred)\n",
      "\n",
      "print cm"
     ],
     "language": "python",
     "metadata": {},
     "outputs": [
      {
       "output_type": "stream",
       "stream": "stdout",
       "text": [
        "[[3823   22]\n",
        " [  37 1093]]\n"
       ]
      }
     ],
     "prompt_number": 63
    },
    {
     "cell_type": "markdown",
     "metadata": {},
     "source": [
      "Como se puede apreciar, de las 1130 noticias de deportes en el set de test, el clasificador etiquet\u00f3 correctamente 1093 (de ah\u00ed, los valores de Precision y Recall antes presentados)."
     ]
    },
    {
     "cell_type": "markdown",
     "metadata": {},
     "source": [
      "<h4>Experimento 2: Entrenamiento y test eliminando 'stopwords'</h4>\n",
      "\n",
      "En este experimento se utiliza una versi\u00f3n del archivo de noticias al que se le eliminaron las stopwords (en espa\u00f1ol, se suelen mencionar como 'palabras vac\u00edas'). Estas palabras carecen de significado (por ejemplo, los art\u00edculos, pronombres, preposiciones, etc.) y son eliminadas como parte del preprocesamiento de los textos. La eliminaci\u00f3n de stopwords reduce el espacio de 'features' y para algunas aplicaciones puede ser significativo en cuanto a la performance (en tiempo y espacio).\n",
      "\n",
      "Obviamente, dependen de la lengua y si bien no hay una lista definitiva ya que para diferentes dominios se pueden agregar/quitar algunas, existe un conjunto b\u00e1sico usualmente considerado. En este caso, se arm\u00f3 un conjunto de palabras vac\u00edas combinando aquelas propuestas por el proyecto Snowball para el espa\u00f1ol (http://snowball.tartarus.org/algorithms/spanish/stop.txt) con las de 'Ranks NL Webmaster Tools' (http://www.ranks.nl/stopwords/spanish).\n",
      "\n",
      "El script para eliminar las palabras vac\u00edas tambi\u00e9n se encuentra en la notebook 'text_tools'"
     ]
    },
    {
     "cell_type": "code",
     "collapsed": false,
     "input": [
      "hfile = codecs.open(\"./Ej3/notas_ln-clean-norm-nosw.csv\", encoding='utf-8')\n",
      "\n",
      "X_data = []\n",
      "Y_data = []\n",
      "\n",
      "for line in hfile.readlines():\n",
      "    line_array = line.strip().split(';')\n",
      "    X_data.append(line_array[3] + ' ' + line_array[4])\n",
      "    Y_data.append(line_array[2].strip())"
     ],
     "language": "python",
     "metadata": {},
     "outputs": [],
     "prompt_number": 64
    },
    {
     "cell_type": "markdown",
     "metadata": {},
     "source": [
      "Luego de cargado el nuevo archivo de noticias se vuelve a computar la distribuci\u00f3n de frecuencias y longitud media de las noticias."
     ]
    },
    {
     "cell_type": "code",
     "collapsed": false,
     "input": [
      "len_nws_nosw = []\n",
      "for nw in X_data:\n",
      "    words = nw.split()\n",
      "    len_nws_nosw.append(len(words))\n",
      "\n",
      "hist(len_nws_nosw, bins=50, histtype='stepfilled')\n",
      "xlabel('Longitud (palabras)')\n",
      "ylabel('Frecuencia')\n",
      "\n",
      "sts2 = np.array(len_nws_nosw)\n",
      "print \"Longitud media : %d palabras\" % sts2.mean()"
     ],
     "language": "python",
     "metadata": {},
     "outputs": [
      {
       "output_type": "stream",
       "stream": "stdout",
       "text": [
        "Longitud media : 282 palabras\n"
       ]
      },
      {
       "metadata": {},
       "output_type": "display_data",
       "png": "[encoded data removed]",
       "text": [
        "<matplotlib.figure.Figure at 0x7fbf98a3d290>"
       ]
      }
     ],
     "prompt_number": 65
    },
    {
     "cell_type": "markdown",
     "metadata": {},
     "source": [
      "Como se puede apreciar, las noticias se redujeron considerablemente en longitud (ver escala del eje-x con respecto al gr\u00e1fico del dataset anterior). La media se redujo de 560 a 282 palabras al eliminar las stopwords.\n",
      "\n",
      "A continuaci\u00f3n, se repite el experimento con las nuevas representaciones de las noticias."
     ]
    },
    {
     "cell_type": "code",
     "collapsed": false,
     "input": [
      "vectorizer = CountVectorizer(binary=False)\n",
      "X_train_text, X_test_text, y_train, y_test = train_test_split(X_data, Y_data, test_size=.3, random_state=0)\n",
      "\n",
      "X_train = vectorizer.fit_transform(X_train_text)\n",
      "X_test  = vectorizer.transform(X_test_text)\n",
      "\n",
      "positive_class = \"deportes\"\n",
      "\n",
      "y_train = setPositiveClass(y_train, positive_class) \n",
      "y_test  = setPositiveClass(y_test, positive_class)\n",
      "\n",
      "print \"Cantidad de noticias de 'deportes' en el set de train: \", sum(y_train)\n",
      "print \"Cantidad de noticias de 'deportes' en el set de test : \", sum(y_test)\n",
      "\n",
      "\n",
      "cls = MultinomialNB()\n",
      "y_pred = cls.fit(X_train, y_train).predict(X_test)\n",
      "\n",
      "print \"Precision %0.4f\" % precision_score(y_test, y_pred)\n",
      "print \"Recall    %0.4f\" % recall_score(y_test, y_pred)\n",
      "\n",
      "cm = confusion_matrix(y_test, y_pred)\n",
      "\n",
      "print \"Matriz de Confusi\u00f3n\"\n",
      "print cm\n"
     ],
     "language": "python",
     "metadata": {},
     "outputs": [
      {
       "output_type": "stream",
       "stream": "stdout",
       "text": [
        "Cantidad de noticias de 'deportes' en el set de train:  2573\n",
        "Cantidad de noticias de 'deportes' en el set de test :  1137\n",
        "Precision 0.9754"
       ]
      },
      {
       "output_type": "stream",
       "stream": "stdout",
       "text": [
        "\n",
        "Recall    0.9754\n",
        "Matriz de Confusi\u00f3n\n",
        "[[3783   28]\n",
        " [  28 1109]]\n"
       ]
      }
     ],
     "prompt_number": 66
    },
    {
     "cell_type": "markdown",
     "metadata": {},
     "source": [
      "Como se puede apreciar, "
     ]
    },
    {
     "cell_type": "markdown",
     "metadata": {},
     "source": [
      "<h4>Experimento 3: Entrenamiento y test aplicando 'stemming'</h4>\n",
      "\n",
      "En el siguiente experimento se aplica la t\u00e9cnica de stemming a las palabras de las noticias. B\u00e1sicamente, stemming consiste en transformar las palabras a su raiz morfol\u00f3gica. Para ello, se utiliz\u00f3 el stemmer implementado en la librer\u00eda NLTK (Natural Language Toolkit) para el espa\u00f1ol (que tambi\u00e9n proviene del proyecto Snowball: http://snowball.tartarus.org/algorithms/)\n",
      "\n",
      "Tambi\u00e9n es una t\u00e9cnica que depende de la lengua y hay diferentes algoritmos. El mas conocido es el algoritmo de Porter (para el ingl\u00e9s) que se basa en la aplicaci\u00f3n de reglas sucesivas que van eliminando sufijos de las palabras. El resultado de aplicar stemming no siempre devuelve un token que corresponda a una palabra v\u00e1lida de la lengua.\n",
      "\n",
      "El script para aplicar stemming se encuentra en la notebook 'text_tools'\n"
     ]
    },
    {
     "cell_type": "code",
     "collapsed": false,
     "input": [
      "hfile = codecs.open(\"./Ej3/notas_ln-clean-norm-stemmed.csv\", encoding='utf-8')\n",
      "\n",
      "X_data = []\n",
      "Y_data = []\n",
      "\n",
      "for line in hfile.readlines():\n",
      "    line_array = line.strip().split(';')\n",
      "    X_data.append(line_array[3] + ' ' + line_array[4])\n",
      "    Y_data.append(line_array[2].strip())"
     ],
     "language": "python",
     "metadata": {},
     "outputs": [],
     "prompt_number": 74
    },
    {
     "cell_type": "markdown",
     "metadata": {},
     "source": [
      "Luego de cargado el nuevo archivo de noticias se vuelve a computar la distribuci\u00f3n de frecuencias y longitud media de las noticias."
     ]
    },
    {
     "cell_type": "code",
     "collapsed": false,
     "input": [
      "len_nws_stm = []\n",
      "for nw in X_data:\n",
      "    words = nw.split()\n",
      "    len_nws_stm.append(len(words))\n",
      "\n",
      "hist(len_nws_stm, bins=50, histtype='stepfilled')\n",
      "xlabel('Longitud (palabras)')\n",
      "ylabel('Frecuencia')\n",
      "\n",
      "sts = np.array(len_nws_stm)\n",
      "print \"Longitud media : %d palabras\" % sts.mean()"
     ],
     "language": "python",
     "metadata": {},
     "outputs": [
      {
       "output_type": "stream",
       "stream": "stdout",
       "text": [
        "Longitud media : 554 palabras\n"
       ]
      },
      {
       "metadata": {},
       "output_type": "display_data",
       "png": "[encoded data removed]",
       "text": [
        "<matplotlib.figure.Figure at 0x7fbf7958fc50>"
       ]
      }
     ],
     "prompt_number": 75
    },
    {
     "cell_type": "markdown",
     "metadata": {},
     "source": [
      "En este caso, la longitud promedio de las noticias es de 554 palabras (versus 560 del dataset original). Si bien no parece significativa, a continuaci\u00f3n se eval\u00faa su impacto en la clasificaci\u00f3n."
     ]
    },
    {
     "cell_type": "code",
     "collapsed": false,
     "input": [
      "vectorizer = CountVectorizer(binary=False)\n",
      "X_train_text, X_test_text, y_train, y_test = train_test_split(X_data, Y_data, test_size=.3, random_state=0)\n",
      "\n",
      "X_train = vectorizer.fit_transform(X_train_text)\n",
      "X_test  = vectorizer.transform(X_test_text)\n",
      "\n",
      "positive_class = \"deportes\"\n",
      "\n",
      "y_train = setPositiveClass(y_train, positive_class) \n",
      "y_test  = setPositiveClass(y_test, positive_class)\n",
      "\n",
      "print \"Cantidad de noticias de 'deportes' en el set de train: \", sum(y_train)\n",
      "print \"Cantidad de noticias de 'deportes' en el set de test : \", sum(y_test)\n",
      "\n",
      "\n",
      "cls = MultinomialNB()\n",
      "y_pred = cls.fit(X_train, y_train).predict(X_test)\n",
      "\n",
      "print \"Precision %0.4f\" % precision_score(y_test, y_pred)\n",
      "print \"Recall    %0.4f\" % recall_score(y_test, y_pred)\n",
      "\n",
      "cm = confusion_matrix(y_test, y_pred)\n",
      "\n",
      "print \"Matriz de Confusi\u00f3n\"\n",
      "print cm"
     ],
     "language": "python",
     "metadata": {},
     "outputs": [
      {
       "output_type": "stream",
       "stream": "stdout",
       "text": [
        "Cantidad de noticias de 'deportes' en el set de train:  2573\n",
        "Cantidad de noticias de 'deportes' en el set de test :  1137\n",
        "Precision 0.9744"
       ]
      },
      {
       "output_type": "stream",
       "stream": "stdout",
       "text": [
        "\n",
        "Recall    0.9727\n",
        "Matriz de Confusi\u00f3n\n",
        "[[3782   29]\n",
        " [  31 1106]]\n"
       ]
      }
     ],
     "prompt_number": 76
    },
    {
     "cell_type": "markdown",
     "metadata": {},
     "source": [
      "<h4>Experimento 4: Entrenamiento y test removiendo 'stopwords' y aplicando 'stemming'</h4>\n"
     ]
    },
    {
     "cell_type": "code",
     "collapsed": false,
     "input": [],
     "language": "python",
     "metadata": {},
     "outputs": []
    },
    {
     "cell_type": "code",
     "collapsed": false,
     "input": [
      "hfile = codecs.open(\"./Ej3/notas_ln-clean-norm-stemmed-nosw.csv\", encoding='utf-8')\n",
      "\n",
      "X_data = []\n",
      "Y_data = []\n",
      "\n",
      "for line in hfile.readlines():\n",
      "    line_array = line.strip().split(';')\n",
      "    X_data.append(line_array[3] + ' ' + line_array[4])\n",
      "    Y_data.append(line_array[2].strip())\n",
      "    \n",
      "    \n",
      "vectorizer = CountVectorizer(binary=False)\n",
      "X_train_text, X_test_text, y_train, y_test = train_test_split(X_data, Y_data, test_size=.3, random_state=0)\n",
      "\n",
      "X_train = vectorizer.fit_transform(X_train_text)\n",
      "X_test  = vectorizer.transform(X_test_text)\n",
      "\n",
      "positive_class = \"deportes\"\n",
      "\n",
      "y_train = setPositiveClass(y_train, positive_class) \n",
      "y_test  = setPositiveClass(y_test, positive_class)\n",
      "\n",
      "cls = MultinomialNB()\n",
      "y_pred = cls.fit(X_train, y_train).predict(X_test)\n",
      "\n",
      "print \"Precision %0.4f\" % precision_score(y_test, y_pred)\n",
      "print \"Recall    %0.4f\" % recall_score(y_test, y_pred)\n",
      "\n",
      "cm = confusion_matrix(y_test, y_pred)\n",
      "\n",
      "print \"Matriz de Confusi\u00f3n\"\n",
      "print cm"
     ],
     "language": "python",
     "metadata": {},
     "outputs": [
      {
       "output_type": "stream",
       "stream": "stdout",
       "text": [
        "Precision 0.9746\n",
        "Recall    0.9789\n",
        "Matriz de Confusi\u00f3n\n",
        "[[3782   29]\n",
        " [  24 1113]]\n"
       ]
      }
     ],
     "prompt_number": 15
    },
    {
     "cell_type": "code",
     "collapsed": false,
     "input": [],
     "language": "python",
     "metadata": {},
     "outputs": []
    },
    {
     "cell_type": "markdown",
     "metadata": {},
     "source": [
      "<h4>Experimento 5: Entrenamiento y test utilizando todas las clases</h4>\n",
      "En este experimento\n"
     ]
    },
    {
     "cell_type": "code",
     "collapsed": false,
     "input": [
      "hfile = codecs.open(\"./Ej3/notas_ln-clean-norm-nosw.csv\", encoding='utf-8')\n",
      "\n",
      "X_data = []\n",
      "Y_data = []\n",
      "\n",
      "for line in hfile.readlines():\n",
      "    line_array = line.strip().split(';')\n",
      "    X_data.append(line_array[3] + ' ' + line_array[4])\n",
      "    Y_data.append(line_array[2].strip())\n",
      "#\n",
      "vectorizer = CountVectorizer(binary=False)\n",
      "\n",
      "class_names = ['cultura', 'deportes', 'economia', 'espectaculos', 'internacionales', 'politica', 'seguridad', 'sociedad','tecnologia']\n",
      "#class_names = ['cultura']\n",
      "#\n",
      "sum_precision = 0\n",
      "sum_recall = 0\n",
      "sum_f1 = 0\n",
      "#\n",
      "print 'Clase\\t\\tTrain +/t \\tTest +/tot\\tAcc\\tPrec\\tRec\\tF1'\n",
      "print '------------------------------------------------------------------------------'\n",
      "#\n",
      "for positive_class in class_names:\n",
      "    X_train_text, X_test_text, y_train, y_test = train_test_split(X_data, Y_data, test_size=.3, random_state=0)\n",
      "    #\n",
      "    X_train = vectorizer.fit_transform(X_train_text)\n",
      "    X_test  = vectorizer.transform(X_test_text)\n",
      "    #\n",
      "    y_train = setPositiveClass(y_train, positive_class) \n",
      "    y_test  = setPositiveClass(y_test, positive_class)\n",
      "    #\n",
      "    cls = MultinomialNB()\n",
      "    y_pred = cls.fit(X_train, y_train).predict(X_test)\n",
      "    #\n",
      "    this_precision = precision_score(y_test, y_pred)\n",
      "    this_recall    = recall_score(y_test, y_pred)\n",
      "    this_f1        = f1_score(y_test, y_pred)\n",
      "    #\n",
      "    print '%15s\\t%4d/%d\\t%4d/%d\\t%0.4f\\t%0.4f\\t%0.4f' % (positive_class, sum(y_train), len(y_train), sum(y_test), len(y_test), this_precision, this_recall, this_f1)\n",
      "    #\n",
      "    sum_precision+=this_precision\n",
      "    sum_recall+=this_recall\n",
      "    sum_f1+=this_f1\n",
      "    #    \n",
      "    # Plot de las curvas ROC\n",
      "    probas_ = cls.fit(X_train, y_train).predict_proba(X_test)\n",
      "    # C\u00e1lculo del \u00e1rea para las curvas ROC\n",
      "    fpr, tpr, thresholds = roc_curve(y_test, probas_[:, 1])\n",
      "    roc_auc = auc(fpr, tpr)\n",
      "    plt.plot(fpr, tpr, lw=1, label=positive_class + ' (area = %0.2f)' % (roc_auc))\n",
      "#\n",
      "\n",
      "#\n",
      "#\n",
      "print '------------------------------------------------------------------------------'\n",
      "print 'Resumen'\n",
      "print 'AVG Precision: %0.4f'% (sum_precision/(len(class_names)+0.0))\n",
      "print 'AVG Recall   : %0.4f'% (sum_recall/(len(class_names)+0.0)) \n",
      "print 'AVG F1       : %0.4f'% (sum_f1/(len(class_names)+0.0))\n",
      "#\n",
      "#\n",
      "plt.plot([0, 1], [0, 1], '--', color=(0.6, 0.6, 0.6), label='')\n",
      "plt.xlim([-0.05, 1.05])\n",
      "plt.ylim([-0.05, 1.05])\n",
      "plt.xlabel('False Positive Rate')\n",
      "plt.ylabel('True Positive Rate')\n",
      "plt.title('Curvas ROC para las diferentes clases')\n",
      "plt.legend(loc=\"lower right\", bbox_to_anchor=(1.6, 0))\n",
      "plt.show()\n"
     ],
     "language": "python",
     "metadata": {},
     "outputs": [
      {
       "output_type": "stream",
       "stream": "stdout",
       "text": [
        " Clase\t\tTrain +/t \tTest +/tot\tAcc\tPrec\tRec\tF1\n",
        "------------------------------------------------------------------------------\n",
        "        cultura\t 650/11544\t 263/4948\t0.9570\t0.6008\t0.5665\t0.5832"
       ]
      },
      {
       "output_type": "stream",
       "stream": "stdout",
       "text": [
        "\n",
        "       deportes\t2573/11544\t1137/4948\t0.9887\t0.9754\t0.9754\t0.9754"
       ]
      },
      {
       "output_type": "stream",
       "stream": "stdout",
       "text": [
        "\n",
        "       economia\t1211/11544\t 521/4948\t0.9580\t0.7694\t0.8580\t0.8113"
       ]
      },
      {
       "output_type": "stream",
       "stream": "stdout",
       "text": [
        "\n",
        "   espectaculos\t1298/11544\t 521/4948\t0.9642\t0.8094\t0.8637\t0.8357"
       ]
      },
      {
       "output_type": "stream",
       "stream": "stdout",
       "text": [
        "\n",
        "internacionales\t1169/11544\t 505/4948\t0.9709\t0.8399\t0.8832\t0.8610"
       ]
      },
      {
       "output_type": "stream",
       "stream": "stdout",
       "text": [
        "\n",
        "       politica\t2256/11544\t 965/4948\t0.9505\t0.8297\t0.9389\t0.8809"
       ]
      },
      {
       "output_type": "stream",
       "stream": "stdout",
       "text": [
        "\n",
        "      seguridad\t 780/11544\t 343/4948\t0.9727\t0.7938\t0.8192\t0.8063"
       ]
      },
      {
       "output_type": "stream",
       "stream": "stdout",
       "text": [
        "\n",
        "       sociedad\t1301/11544\t 567/4948\t0.9086\t0.5752\t0.7760\t0.6607"
       ]
      },
      {
       "output_type": "stream",
       "stream": "stdout",
       "text": [
        "\n",
        "     tecnologia\t 306/11544\t 126/4948\t0.9869\t0.8144\t0.6270\t0.7085"
       ]
      },
      {
       "output_type": "stream",
       "stream": "stdout",
       "text": [
        "\n",
        "------------------------------------------------------------------------------"
       ]
      },
      {
       "output_type": "stream",
       "stream": "stdout",
       "text": [
        "\n",
        "Resumen\n",
        "AVG Precision: 0.7787\n",
        "AVG Recall   : 0.8120\n",
        "AVG F1       : 0.7914\n"
       ]
      },
      {
       "metadata": {},
       "output_type": "display_data",
       "png": "[encoded data removed]",
       "text": [
        "<matplotlib.figure.Figure at 0x7f4fb1a9b250>"
       ]
      }
     ],
     "prompt_number": 27
    },
    {
     "cell_type": "code",
     "collapsed": false,
     "input": [],
     "language": "python",
     "metadata": {},
     "outputs": []
    }
   ],
   "metadata": {}
  }
 ]
}