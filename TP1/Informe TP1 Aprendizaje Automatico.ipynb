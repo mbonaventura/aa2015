{
 "cells": [
  {
   "cell_type": "markdown",
   "metadata": {},
   "source": [
    "# Informe del Trabajo Práctico 1\n",
    "# Aprendizaje Automático \n",
    "<b>Integrantes:</b> Gabriel Tolosa (TODO:mailFormal),\n",
    "                    Matias Bonaventura (mbonaventura@dc.uba.ar) \n",
    "                    "
   ]
  },
  {
   "cell_type": "markdown",
   "metadata": {
    "collapsed": true
   },
   "source": [
    "## Indice \n",
    "TODO: agregar tabla de indice"
   ]
  },
  {
   "cell_type": "markdown",
   "metadata": {},
   "source": [
    "## Introducción\n",
    "TODO: completar intro. \n",
    "objetivo,   resultados   esperados,   metodologías  \n",
    "utilizadas,"
   ]
  },
  {
   "cell_type": "markdown",
   "metadata": {},
   "source": [
    "## 1) Árboles de Decisión. Sobreajuste y ruido\n",
    "Se puede encontrar la sección que corresponde al primer ejercicio en el siguiente notebook:\n",
    "<a href=\"Ej1/ejerTrees-cars.ipynb\"> Ejercicio 1 - Árboles de Decisión. Sobreajuste y ruido </a>"
   ]
  },
  {
   "cell_type": "markdown",
   "metadata": {},
   "source": [
    "## 2) Vecinos Más Cercanos. Sobreajuste y curse of dimensionality \n",
    "Se puede encontrar la sección que corresponde al segundo ejercicio en el siguiente notebook:\n",
    "<a href=\"Ej2/kNN-diabetes.ipynb\"> Ejercicio 2 - Vecinos Más Cercanos. Sobreajuste y curse of dimensionality </a>"
   ]
  },
  {
   "cell_type": "markdown",
   "metadata": {},
   "source": [
    "## 3) Naive Bayes. Text Mining \n",
    "TODO: link al informe del Ej3"
   ]
  },
  {
   "cell_type": "markdown",
   "metadata": {},
   "source": [
    "## Conclusiones\n",
    "TODO: Conclusiones \"Por   tratarse   de   un   trabajo   de   investigación   netamente   práctico,   las   conclusiones   deben   ser   la  \n",
    "resultante   de   la   elaboración   de   las   pruebas   realizadas.   La   información   obtenida   de   referencias  \n",
    "externas puede y debe ser tomada como insumo, pero nunca como conclusión. \""
   ]
  },
  {
   "cell_type": "markdown",
   "metadata": {},
   "source": [
    "## Ideas   para   futuras   investigaciones\n",
    "TODO"
   ]
  },
  {
   "cell_type": "markdown",
   "metadata": {},
   "source": [
    "## Bibliografía\n",
    "TODO"
   ]
  },
  {
   "cell_type": "markdown",
   "metadata": {},
   "source": [
    "## Referencias\n",
    "TODO"
   ]
  }
 ],
 "metadata": {
  "kernelspec": {
   "display_name": "Python 2",
   "language": "python",
   "name": "python2"
  },
  "language_info": {
   "codemirror_mode": {
    "name": "ipython",
    "version": 2
   },
   "file_extension": ".py",
   "mimetype": "text/x-python",
   "name": "python",
   "nbconvert_exporter": "python",
   "pygments_lexer": "ipython2",
   "version": "2.7.6"
  }
 },
 "nbformat": 4,
 "nbformat_minor": 0
}
