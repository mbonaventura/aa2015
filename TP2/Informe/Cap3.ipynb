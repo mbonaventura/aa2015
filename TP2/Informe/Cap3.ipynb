{
 "metadata": {
  "name": ""
 },
 "nbformat": 3,
 "nbformat_minor": 0,
 "worksheets": [
  {
   "cells": [
    {
     "cell_type": "markdown",
     "metadata": {},
     "source": [
      "<center><h1>Cap\u00edtulo 3: Voting y persistencia de modelos</h1></center>\n",
      "\n",
      "<h3>Introducci\u00f3n</h3>\n",
      "\n",
      "VotingClassifier: http://scikit-learn.org/stable/modules/generated/sklearn.ensemble.VotingClassifier.html\n",
      "\n",
      "persistencia de clasificadores: http://scikit-learn.org/stable/modules/model_persistence.html"
     ]
    },
    {
     "cell_type": "markdown",
     "metadata": {},
     "source": [
      "<h3>Voting de los mejores clasificadores</h3>\n",
      "TBC"
     ]
    },
    {
     "cell_type": "markdown",
     "metadata": {},
     "source": [
      "<h3>Resultados utilizando Voting</h3>\n",
      "TBC"
     ]
    },
    {
     "cell_type": "markdown",
     "metadata": {},
     "source": [
      "<h3>Persistencia de los modelos </h3>\n",
      "TBC"
     ]
    },
    {
     "cell_type": "markdown",
     "metadata": {},
     "source": [
      "Conclusi\u00f3n\n",
      "-----------\n",
      "\n",
      "TBC\n"
     ]
    }
   ],
   "metadata": {}
  }
 ]
}