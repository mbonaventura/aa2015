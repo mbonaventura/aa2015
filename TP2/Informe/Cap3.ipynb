{
 "metadata": {
  "name": ""
 },
 "nbformat": 3,
 "nbformat_minor": 0,
 "worksheets": [
  {
   "cells": [
    {
     "cell_type": "markdown",
     "metadata": {},
     "source": [
      "<center><h1>Cap\u00edtulo 3: Voting y persistencia de modelos</h1></center>\n",
      "\n",
      "<h3>Introducci\u00f3n</h3>\n",
      "Vimos en el cap\u00edtulo anterior diferentes m\u00e9todos de aprendizaje y obtuvimos buenos resultados al utilizar una b\u00fasqueda exhaustiva en el espacio de parametros de los clasificadores. Esta b\u00fasqueda exhaustiva nos permiti\u00f3 identificar cuales era los clasificadores que mejor se comportan para resolver nuestro problema de reconocimiento de perros y gatos. En el presente cap\u00edtulo introducimos un nuevo clasificador que permite conjugar a los mejores clasificadores del cap\u00edtulo anterior. \n",
      "Adicionalmente, presentaremos las funciones que utilzamos para persistir a disco los estimadores una vez entrenados. Esto es de importancia ya que el entrenamiento de clasificadores con una gran cantidad de instancias y un set de atributos grande, requiere un mucho tiempo de procesamiento. Al persistir el clasificador ya entrenado se lograr\u00e1 ahorrar este tiempo de entrenamiento durante la competencia."
     ]
    },
    {
     "cell_type": "markdown",
     "metadata": {},
     "source": [
      "<h3>Clasificacion por Votos</h3>\n",
      "Sklearn implementa [VotingClassifier](http://scikit-learn.org/stable/modules/generated/sklearn.ensemble.VotingClassifier.html), uno de los clasificadores de ensambles m\u00e1s b\u00e1sicos, pero que en muchos casos mejora la performance. La idea detras del clasificador por votos es utiliazar un conjunto de clasificadores que describen bien el modelo y combinarlos para sacar provech\u00f3 de sus bondades y balancear sus devilidades individuales.\n",
      "\n",
      "VotingClassifier(hard) realiza un voto por mayor\u00eda, donde se utiliza la predicci\u00f3n de cada clasificador para obtener la predicci\u00f3n final. VotingClassifier(sotf) permite ademas asignarle pesos a cada clasificador para realizar una votacion teniendo en cuenta estos pesos."
     ]
    },
    {
     "cell_type": "markdown",
     "metadata": {},
     "source": [
      "<h3>Voting de los mejores clasificadores</h3>\n",
      "En el cap\u00edtulo anterior vimos que un de los mejores set de features era SURF utilizando 300 categor\u00edas y normalizado. Para ese set de features, nos quedaremos con los mejores clasificadores (aquellos con precisi\u00f3n esperada superior al 70%) y que adem\u00e1s priorizando m\u00e9todos conceptualmente diferentes. Utilizaremos entonces los siguientes 5 clasificadores (3 ensambles y 2 no ensambles):\n",
      "<pre>\n",
      "1- LogisticRegression   precisi\u00f3n esperada de 0.774\n",
      "2- SVM                  precisi\u00f3n esperada de 0.758\n",
      "3- GradientBoosting     precisi\u00f3n esperada de 0.728\n",
      "4- Bagging              precisi\u00f3n esperada de 0.712\n",
      "5- RandomForest         precisi\u00f3n esperada de 0.709\n",
      "</pre>\n"
     ]
    },
    {
     "cell_type": "markdown",
     "metadata": {},
     "source": [
      "Estos clasificadores se utilizar\u00e1n parametrizados con el set de parametros encontrado mediante gridsearch. El siguiente extracto de c\u00f3digo (que puede encontrarse en el archivo VotingWithBestEstimators.py) crea un clasificador por votos con estos estimadores, los entrena y luego realiza cross-validation para evaluar su performance.\n",
      "\n",
      "Intentamos reutilizar los clasificadores ya entrenamos que obtivimos en el capitulo anterior, pero no encontramos la forma de evitar tener que reentrenarlos al utilizar Voting. Por lo tanto el clasificador de voting debe reentrenar los clasificadores."
     ]
    },
    {
     "cell_type": "code",
     "collapsed": false,
     "input": [
      "from sklearn.ensemble import VotingClassifier\n",
      "estimators=[]\n",
      "\n",
      "voting = VotingClassifier(estimators=estimators, voting='hard');\n",
      "voting.fit(X_train, y_train)\n",
      "voting_prediction = voting.predict(X_test)\n"
     ],
     "language": "python",
     "metadata": {},
     "outputs": []
    },
    {
     "cell_type": "raw",
     "metadata": {},
     "source": []
    },
    {
     "cell_type": "markdown",
     "metadata": {},
     "source": [
      "<h3>Resultados utilizando Voting</h3>\n",
      "TBC"
     ]
    },
    {
     "cell_type": "markdown",
     "metadata": {},
     "source": [
      "<h3>Persistencia de los modelos </h3>\n",
      "persistencia de clasificadores: http://scikit-learn.org/stable/modules/model_persistence.html"
     ]
    },
    {
     "cell_type": "markdown",
     "metadata": {},
     "source": [
      "Conclusi\u00f3n\n",
      "-----------\n",
      "\n",
      "TBC\n"
     ]
    }
   ],
   "metadata": {}
  }
 ]
}