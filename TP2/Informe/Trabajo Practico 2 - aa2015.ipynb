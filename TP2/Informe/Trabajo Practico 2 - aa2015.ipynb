{
 "metadata": {
  "name": ""
 },
 "nbformat": 3,
 "nbformat_minor": 0,
 "worksheets": [
  {
   "cells": [
    {
     "cell_type": "markdown",
     "metadata": {},
     "source": [
      "<center>\n",
      "<h1> Trabajo Pr\u00e1ctico 2</h1>\n",
      "<h2>Aprendizaje Autom\u00e1tico - 2015</h2>\n",
      "<b>Matias Bonaventura y Gabriel Tolosa<br></b>\n",
      "mbonaventura@dc.uba.ar, tolosoft@unlu.edu.ar\n",
      "</center>                    "
     ]
    },
    {
     "cell_type": "markdown",
     "metadata": {},
     "source": [
      "## Introducci\u00f3n\n",
      "\n",
      "- Intro cay & dogs: El   objetivo   de   este   trabajo   pr\u00e1ctico   es   construir   un   clasificador   de   im\u00e1genes   de   animales   que  corresponden   a   2   clases:   gatos   y   perros.   Las   im\u00e1genes   se   obtuvieron   de   diversos   bancos   de  im\u00e1genes, competencias 1  y sitios de Internet.\n",
      "- Intro Ensambles y metodos de aa usados\n",
      "- Intro procesamiento y extraccion de features en imagenes \n",
      "- Estructura del proyecto en capitulos segun el proceso que hicimos: 1) Extraccion de atributos, 2)Testing de clasificadores (grid search), 3) Voting y persistencia de modelos, 4) Clasificacion de nuevas instancias (para el dia de la competencia). \n",
      "\n",
      "\n",
      "\n"
     ]
    },
    {
     "cell_type": "markdown",
     "metadata": {},
     "source": [
      "<h3>Arquitectura   de   la   soluci\u00f3n</h3>\n",
      "\n",
      "<img src=\"files/img/Processo.png\" />"
     ]
    },
    {
     "cell_type": "markdown",
     "metadata": {},
     "source": [
      "## 1) Extracci\u00f3n de Atributos de las Im\u00e1genes\n",
      "Se puede encontrar la secci\u00f3n que corresponde al primer cap\u00edtulo en el siguiente notebook:\n",
      "[Cap\u00edtulo 1: Extracci\u00f3n de atributos](Cap1.ipynb)"
     ]
    },
    {
     "cell_type": "markdown",
     "metadata": {},
     "source": [
      "## 2) Testing de Clasificadores \n",
      "Se puede encontrar la secci\u00f3n que corresponde al segundo cap\u00edtulo en el siguiente notebook:\n",
      "[Cap\u00edtulo 2 - Testing de clasificadores](Cap2.ipynb)"
     ]
    },
    {
     "cell_type": "markdown",
     "metadata": {},
     "source": [
      "## 3) Voting y Persistencia de Modelos \n",
      " \n",
      "Se puede encontrar la secci\u00f3n que corresponde al tercer cap\u00edtulo en el siguiente notebook:\n",
      "[Cap\u00edtulo 3 - Voting y persistencia de modelos](Cap3.ipynb)"
     ]
    },
    {
     "cell_type": "markdown",
     "metadata": {},
     "source": [
      "## 4) Clasificaci\u00f3n de Nuevas Instancias \n",
      "Se puede encontrar la secci\u00f3n que corresponde al cuarto cap\u00edtulo en el siguiente notebook:\n",
      "[Cap\u00edtulo 4 - Clasificaci\u00f3n de nuevas instancias](Cap4.ipynb)"
     ]
    },
    {
     "cell_type": "markdown",
     "metadata": {},
     "source": [
      "## Conclusiones\n",
      "TBC\n"
     ]
    },
    {
     "cell_type": "markdown",
     "metadata": {},
     "source": [
      "## Ideas para Trabajos Futuros\n",
      "TBC\n",
      "\n"
     ]
    },
    {
     "cell_type": "markdown",
     "metadata": {},
     "source": [
      "Referencias\n",
      "-----------\n",
      "<ul>\n",
      "<li>Mitchell, T. M. Machine learning. WCB. 1997.\n",
      "<li>Golle, P. Machine Learning Attacks Against the Asirra CAPTCHA. Proceedings of the 15th ACM Conference on Computer and Communications Security, 2008.\n",
      "<li>Wei Zhang, Xiangyang Xue, Zichen Sun, Yue-Fei Guo, Mingmin Chi, and Hong L. Efficient Feature Extraction for Image Classification. 11th IEEE International Conference on Computer Vision, 2007. ICCV 2007.  \n",
      "<li> Wang, S.L. and Liew, A. W. C. Information-Based Color Feature Representation for Image Classification.  IEEE International Conference on  Image Processing, 2007. ICIP 2007.\n",
      "<li>Kantorov, V. and Laptev, I. Efficient Feature Extraction, Encoding, and Classification for Action Recognition. Proceedings of the 2014 IEEE Conference on Computer Vision and Pattern Recognition, 2014.\n",
      "<li>Parkhi, O; Vedaldi A., Zisserman, A. and  Jawahar, C. Cats and Dogs.  IEEE Conference on Computer Vision and Pattern Recognition, 2012 \n",
      "<li>Haralick, Robert M. and Dinstein, K. IEEE Transactions On Systems Man And Cybernetics, 1973.\n",
      "</ul>"
     ]
    }
   ],
   "metadata": {}
  }
 ]
}