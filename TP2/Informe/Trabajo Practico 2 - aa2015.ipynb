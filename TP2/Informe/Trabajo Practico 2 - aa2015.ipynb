{
 "metadata": {
  "name": ""
 },
 "nbformat": 3,
 "nbformat_minor": 0,
 "worksheets": [
  {
   "cells": [
    {
     "cell_type": "markdown",
     "metadata": {},
     "source": [
      "<center>\n",
      "<h1> Trabajo Pr\u00e1ctico 2</h1>\n",
      "<h2>Aprendizaje Autom\u00e1tico - 2015</h2>\n",
      "<b>Matias Bonaventura y Gabriel Tolosa<br></b>\n",
      "mbonaventura@dc.uba.ar, tolosoft@unlu.edu.ar\n",
      "</center>                    "
     ]
    },
    {
     "cell_type": "markdown",
     "metadata": {},
     "source": [
      "## Introducci\u00f3n\n",
      "\n",
      "El etiquetado autom\u00e1tico y/o recuperaci\u00f3n de im\u00e1genes es un \u00e1rea muy importante dentro del conjunto de t\u00e9cnicas relacionadas con la visi\u00f3n por computadora. Actualmente, se encuentra en expansi\u00f3n a partir de la gran cantidad de informaci\u00f3n en im\u00e1genes que se produce (c\u00e1maras, tel\u00e9fonos, etc.) y comparte (mail, redes sociales). La popularizaci\u00f3n de sitios para organizar y compartir im\u00e1genes no solamente ofrece millones de nuevos ejemplos (instancias) para procesar sino que - adem\u00e1s - desaf\u00eda la construcci\u00f3n de nuevas herramientas para procesarlas de forma autom\u00e1tica.\n",
      "\n",
      "La clasificaci\u00f3n de im\u00e1genes es la tarea de organizarlas en categor\u00edas bas\u00e1ndose en un conjunto de entrenamiento. Uno de los desaf\u00edos a resolver es la adecuada selecci\u00f3n de los atributos que describen una imagen y - eventualmente - tratar con un espacio de alta dimensionalidad que puede elevar los tiempos computacionales hasta el punto de hacerlo inviable para aplicaciones pr\u00e1cticas. En algunos casos, las im\u00e1genes se encuentran acompa\u00f1adas de textos, etiquetas o informaci\u00f3n adicional que ayuda a su descripci\u00f3n. En otros casos, hay que tratar con su contenido.\n",
      "\n",
      "En este trabajo se toma el problema de distinguir im\u00e1genes de perros y gatos, una tarea propuesta en una competencia que desaf\u00eda el \n",
      "Asirra CAPTCHA (reconocer los perros y gatos en 12 im\u00e1genes), propuesto en la Conferencia de ACM CCS (Computer and Communications Security) 2007 (adem\u00e1s forma parte de los problemas presentados en Kaggle: https://www.kaggle.com/c/dogs-vs-cats). Si bien esta tarea es muy sencilla para un humano, la seguridad del Asirra CAPTCHA se basa en la dificultad de hacerlo de forma autom\u00e1tica.\n",
      "\n",
      "En este trabajo se aborda el problema de construir un clasificador de im\u00e1genes que debe ser entrenado con un conjunto de instancias de las cuales se deben seleccionar atributos adecuados. Luego, a partir de diferentes estrategias de clasificaci\u00f3n, se construye en ensamble que permite mejorar la calidad de la predicci\u00f3n.\n",
      "\n",
      "Para ello, se extraen dos grupos de atributos (basados en color y en textura) y se someten a pruebas con diferentes algoritmos de clasificacion con un exhaustivo barrido por el espacio de par\u00e1metros. El trabajo se organiza de la siguiente manera: en la siguiente secci\u00f3n se describe la arquitectura general de la soluci\u00f3n. A continuaci\u00f3n, se dedican 4 cap\u00edtulos a presentar detalladamente los siguientes aspectos: 1) Extraccion de atributos, 2) Busqueda y Testing de clasificadores, 3) Elecci\u00f3n por voto y persistencia de modelos, 4) Clasificacion de nuevas instancias. Finalmente, se enuncian conclusiones y posibles trabajos futuros.\n",
      "\n",
      "Es importante mencionar que para la lectura de este informe los bloques de c\u00f3digo no est\u00e1n intensionados para ser ejecutados dentro del inotebook. El c\u00f3digo inclu\u00eddo en los notebook son los extractos m\u00e1s importantes del c\u00f3digo que se adjunt\u00f3 junto con este informe, que puede ser executado directamente desde consola. La raz\u00f3n de esta decici\u00f3n es que el c\u00f3digo para el presente trabajo es bastante mas complejo que el anterior, y requerir\u00eda poner demasiado c\u00f3digo dentro del inotebook. Por otro lado, las funcionalidades mas importantes dependen de tener los archivos de imagenes, archivos de features pre-calculados y de los archivos de clasificadores pre-entrenados, pero todos estos archivos son demasiado pesados para estar inclu\u00eddos en el TP.\n",
      "\n",
      "Como se muestra en el cap\u00edtulo final, las pruebas con cross-validation utilizando el mejor clasificador encontrado nos da una presici\u00f3n cercana al 74%."
     ]
    },
    {
     "cell_type": "markdown",
     "metadata": {},
     "source": [
      "<h3>Arquitectura   de   la   soluci\u00f3n</h3>\n",
      "\n",
      "La soluci\u00f3n propuesta presenta varios desaf\u00edos. En primer lugar, la selecci\u00f3n de atributos acordes con el problema y el tipo de instancias a tratar. Como el conjunto de entranamiento es de tama\u00f1o moderado, se pretende almacenar de forma permanente los conjuntos de atributos obtenidos. \n",
      "\n",
      "Luego, comienza la tarea de encontrar cu\u00e1les son los clasificadores que mejor describen el problema. Existen una gran cantidad de clasificadores y cada uno de ellos debe ser parametrizado. Por lo tanto se realiza una amplica b\u00fasqueda sobre un conjunto de clasificadores y un espacio de par\u00e1metros que permite obtener aquellos que brinden la mejor performance. El proceso de entrenamiento tambi\u00e9n es relativamente costoso por lo que se pretende almacenarlo para su posterior uso.\n",
      "\n",
      "Toda la arquitectura est\u00e1 organizada en forma de pipeline, desde la extracci\u00f3n de atributos hasta el testeo de los modelos. La figura siguiente resume la idea general y muestra los archivo python utilizados en cada caso.\n",
      "\n",
      "<img src=\"files/img/Processo.png\" />"
     ]
    },
    {
     "cell_type": "markdown",
     "metadata": {},
     "source": [
      "## 1) Extracci\u00f3n de Atributos de las Im\u00e1genes\n",
      "Se puede encontrar la secci\u00f3n que corresponde al primer cap\u00edtulo en el siguiente notebook:\n",
      "[Cap\u00edtulo 1: Extracci\u00f3n de atributos](Cap1.ipynb)"
     ]
    },
    {
     "cell_type": "markdown",
     "metadata": {},
     "source": [
      "## 2) Busqueda y Testing de Clasificadores \n",
      "Se puede encontrar la secci\u00f3n que corresponde al segundo cap\u00edtulo en el siguiente notebook:\n",
      "[Cap\u00edtulo 2 - Busqueda y Testing de clasificadores](Cap2.ipynb)"
     ]
    },
    {
     "cell_type": "markdown",
     "metadata": {},
     "source": [
      "## 3) Voting y Persistencia de Modelos \n",
      " \n",
      "Se puede encontrar la secci\u00f3n que corresponde al tercer cap\u00edtulo en el siguiente notebook:\n",
      "[Cap\u00edtulo 3 - Voting y persistencia de modelos](Cap3.ipynb)"
     ]
    },
    {
     "cell_type": "markdown",
     "metadata": {},
     "source": [
      "## 4) Clasificaci\u00f3n de Nuevas Instancias \n",
      "Se puede encontrar la secci\u00f3n que corresponde al cuarto cap\u00edtulo en el siguiente notebook:\n",
      "[Cap\u00edtulo 4 - Clasificaci\u00f3n de nuevas instancias](Cap4.ipynb)"
     ]
    },
    {
     "cell_type": "markdown",
     "metadata": {},
     "source": [
      "## Conclusiones\n",
      "TBC\n"
     ]
    },
    {
     "cell_type": "markdown",
     "metadata": {},
     "source": [
      "## Ideas para Trabajos Futuros\n",
      "TBC\n",
      "\n"
     ]
    },
    {
     "cell_type": "markdown",
     "metadata": {},
     "source": [
      "Referencias\n",
      "-----------\n",
      "<ul>\n",
      "<li>Mitchell, T. M. Machine learning. WCB. 1997.\n",
      "<li>Golle, P. Machine Learning Attacks Against the Asirra CAPTCHA. Proceedings of the 15th ACM Conference on Computer and Communications Security, 2008.\n",
      "<li>Wei Zhang, Xiangyang Xue, Zichen Sun, Yue-Fei Guo, Mingmin Chi, and Hong L. Efficient Feature Extraction for Image Classification. 11th IEEE International Conference on Computer Vision, 2007. ICCV 2007.  \n",
      "<li> Wang, S.L. and Liew, A. W. C. Information-Based Color Feature Representation for Image Classification.  IEEE International Conference on  Image Processing, 2007. ICIP 2007.\n",
      "<li>Kantorov, V. and Laptev, I. Efficient Feature Extraction, Encoding, and Classification for Action Recognition. Proceedings of the 2014 IEEE Conference on Computer Vision and Pattern Recognition, 2014.\n",
      "<li>Parkhi, O; Vedaldi A., Zisserman, A. and  Jawahar, C. Cats and Dogs.  IEEE Conference on Computer Vision and Pattern Recognition, 2012 \n",
      "<li>Haralick, Robert M. and Dinstein, K. IEEE Transactions On Systems Man And Cybernetics, 1973.\n",
      "</ul>"
     ]
    }
   ],
   "metadata": {}
  }
 ]
}