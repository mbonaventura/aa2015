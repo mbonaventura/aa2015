{
 "metadata": {
  "name": ""
 },
 "nbformat": 3,
 "nbformat_minor": 0,
 "worksheets": [
  {
   "cells": [
    {
     "cell_type": "markdown",
     "metadata": {
      "collapsed": true
     },
     "source": [
      "<center><h1>Cap\u00edtulo 1: Extracci\u00f3n de atributos de las imagenes</h1></center>\n",
      "\n",
      "<h3>Introducci\u00f3n</h3>\n",
      "TBC"
     ]
    },
    {
     "cell_type": "markdown",
     "metadata": {},
     "source": [
      "<h3>Imagenes utilizadas para el entrenamiento</h3>\n",
      "TBC"
     ]
    },
    {
     "cell_type": "markdown",
     "metadata": {},
     "source": [
      "<h3>Performance</h3>\n",
      "\"pruebas   de   eficiencia\"\n",
      "\n",
      "TBC"
     ]
    },
    {
     "cell_type": "markdown",
     "metadata": {},
     "source": [
      "<h3>Conclusi\u00f3n</h3>\n",
      "TBC"
     ]
    }
   ],
   "metadata": {}
  }
 ]
}