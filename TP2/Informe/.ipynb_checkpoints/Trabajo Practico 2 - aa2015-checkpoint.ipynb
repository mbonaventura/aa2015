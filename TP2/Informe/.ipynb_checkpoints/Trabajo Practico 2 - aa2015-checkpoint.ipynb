{
 "metadata": {
  "name": ""
 },
 "nbformat": 3,
 "nbformat_minor": 0,
 "worksheets": [
  {
   "cells": [
    {
     "cell_type": "markdown",
     "metadata": {},
     "source": [
      "<center>\n",
      "<h1> Trabajo Pr\u00e1ctico 2</h1>\n",
      "<h2>Aprendizaje Autom\u00e1tico - 2015</h2>\n",
      "<b>Matias Bonaventura y Gabriel Tolosa<br></b>\n",
      "mbonaventura@dc.uba.ar, tolosoft@unlu.edu.ar\n",
      "</center>                    "
     ]
    },
    {
     "cell_type": "markdown",
     "metadata": {},
     "source": [
      "## Introducci\u00f3n\n",
      "\n",
      "- Intro cay & dogs: El   objetivo   de   este   trabajo   pr\u00e1ctico   es   construir   un   clasificador   de   im\u00e1genes   de   animales   que  corresponden   a   2   clases:   gatos   y   perros.   Las   im\u00e1genes   se   obtuvieron   de   diversos   bancos   de  im\u00e1genes, competencias 1  y sitios de Internet.\n",
      "- Intro Ensambles y metodos de aa usados\n",
      "- Intro procesamiento y extraccion de features en imagenes \n",
      "- Estructura del proyecto en capitulos segun el proceso que hicimos: 1) Extraccion de atributos, 2)Testing de clasificadores (grid search), 3) Voting y persistencia de modelos, 4) Clasificacion de nuevas instancias (para el dia de la competencia). \n",
      "\n",
      "\n",
      "\n"
     ]
    },
    {
     "cell_type": "markdown",
     "metadata": {},
     "source": [
      "<h3>Arquitectura   de   la   soluci\u00f3n</h3>\n",
      "\n",
      "<img src=\"files/img/Processo.png\" />"
     ]
    },
    {
     "cell_type": "markdown",
     "metadata": {},
     "source": [
      "## 1) Extracci\u00f3n de atributos de las imagenes\n",
      "Se puede encontrar la secci\u00f3n que corresponde al primer cap\u00edtulo en el siguiente notebook:\n",
      "[Cap\u00edtulo 1: Extracci\u00f3n de atributos](Cap1.ipynb)"
     ]
    },
    {
     "cell_type": "markdown",
     "metadata": {},
     "source": [
      "## 2) Testing de clasificadores \n",
      "Se puede encontrar la secci\u00f3n que corresponde al segundo cap\u00edtulo en el siguiente notebook:\n",
      "[Cap\u00edtulo 2 - Testing de clasificadores](Cap2.ipynb)"
     ]
    },
    {
     "cell_type": "markdown",
     "metadata": {},
     "source": [
      "## 3) Voting y persistencia de modelos \n",
      " \n",
      "Se puede encontrar la secci\u00f3n que corresponde al tercer cap\u00edtulo en el siguiente notebook:\n",
      "[Cap\u00edtulo 3 - Voting y persistencia de modelos](Cap3.ipynb)"
     ]
    },
    {
     "cell_type": "markdown",
     "metadata": {},
     "source": [
      "## 4) Clasificaci\u00f3n de nuevas instancias \n",
      "Se puede encontrar la secci\u00f3n que corresponde al cuarto cap\u00edtulo en el siguiente notebook:\n",
      "[Cap\u00edtulo 4 - Clasificaci\u00f3n de nuevas instancias](Cap4.ipynb)"
     ]
    },
    {
     "cell_type": "markdown",
     "metadata": {},
     "source": [
      "## Conclusiones\n",
      "TBC\n"
     ]
    },
    {
     "cell_type": "markdown",
     "metadata": {},
     "source": [
      "## Ideas para Trabajos Futuros\n",
      "TBC\n",
      "\n"
     ]
    },
    {
     "cell_type": "markdown",
     "metadata": {},
     "source": [
      "Referencias\n",
      "-----------\n",
      "<ul>\n",
      "<li>Manning, C.D.; Raghavan P. and Schuetze, H. Introduction to Information Retrieval. Cambridge University Press. 2008.\n",
      "<li>Marsland, S. Machine Learning: An Algorithmic Perspective. 2nd. Edition. Chapman & Hall/Crc Machine Learning & Pattern Recognition. 2014.\n",
      "<li>McCallum A. and Nigam, K. A comparison of event models for naive Bayes text classification. Proc. AAAI/ICML-98 Workshop on Learning for Text Categorization. 1998\n",
      "<li> Metsis, V; Androutsopoulos, I and Paliouras, G. Spam filtering with naive Bayes -- Which naive Bayes? 3rd Conf. on Email and Anti-Spam (CEAS). 2006.\n",
      "<li>Mitchell, T. M. Machine learning. WCB. 1997.\n",
      "<li>Shakhnarovich, G.; Indyk, P.; and Darrell, T. Nearest-neighbor methods in learning and vision: theory and practice. The MIT Press. 2006.\n",
      "</ul>"
     ]
    }
   ],
   "metadata": {}
  }
 ]
}