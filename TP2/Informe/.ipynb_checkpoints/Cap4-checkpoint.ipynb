{
 "metadata": {
  "name": ""
 },
 "nbformat": 3,
 "nbformat_minor": 0,
 "worksheets": [
  {
   "cells": [
    {
     "cell_type": "markdown",
     "metadata": {},
     "source": [
      "<center><h1>Cap\u00edtulo 4: Clasificaci\u00f3n de nuevas instancias</h1></center>\n",
      "\n",
      "<h3>Introducci\u00f3n</h3>\n",
      "\n",
      "\"El   d\u00eda   de   la   competencia   los   grupos   recibir\u00e1n   un   dataset   con   im\u00e1genes   semejante   al   de  \n",
      "entrenamiento   salvo   que   no   incluye   la   clase   en   el   nombre   de   los   archivos.   Los   docentes  \n",
      "retendremos   las   clases   originales   correspondientes   a   estos   casos   hasta   el   momento   de  \n",
      "evaluar la competencia. \"\n",
      "\n",
      "\"El   d\u00eda   de   la   competencia   contar\u00e1n   con   30   minutos   para   procesar   el   dataset   de  \n",
      "competencia   y   devolver   un   archivo   \u201cgrupoNN.txt\u201d   donde   cada   fila   tendr\u00e1:   \u201cId,   Clase\u201d  \n",
      "siendo Id el nombre del archivo y Clase.  \"\n"
     ]
    },
    {
     "cell_type": "markdown",
     "metadata": {},
     "source": [
      "<h3>Extraccion de features de las nuevas imagenes</h3>\n",
      "TBC"
     ]
    },
    {
     "cell_type": "markdown",
     "metadata": {},
     "source": [
      "<h3>Modelos pre-entrenados</h3>\n",
      "TBC"
     ]
    },
    {
     "cell_type": "markdown",
     "metadata": {},
     "source": [
      "<h3>Clasificaci\u00f3n de las nuevas instancias</h3>\n",
      "TBC"
     ]
    },
    {
     "cell_type": "markdown",
     "metadata": {},
     "source": [
      "<h3> Conclusi\u00f3n</h3>\n",
      "TBC"
     ]
    }
   ],
   "metadata": {}
  }
 ]
}